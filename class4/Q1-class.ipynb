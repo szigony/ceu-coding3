{
 "cells": [
  {
   "cell_type": "code",
   "execution_count": null,
   "metadata": {
    "collapsed": true
   },
   "outputs": [],
   "source": [
    "import pandas as pd"
   ]
  },
  {
   "cell_type": "markdown",
   "metadata": {},
   "source": [
    "#### Convert column to datetime format"
   ]
  },
  {
   "cell_type": "code",
   "execution_count": null,
   "metadata": {},
   "outputs": [],
   "source": [
    "df = pd.DataFrame({'a':['2019-01-01 14:13', '2019-02-01 14:13'],\n",
    "                  'b':[1546351980, 1549030380]})\n",
    "df"
   ]
  },
  {
   "cell_type": "code",
   "execution_count": null,
   "metadata": {
    "collapsed": true
   },
   "outputs": [],
   "source": [
    "df['a_asdate'] = pd.to_datetime(df['a'], format='%Y-%m-%d %H:%M')\n",
    "df['b_asdate'] = pd.to_datetime(df['b'], unit='s')"
   ]
  },
  {
   "cell_type": "code",
   "execution_count": null,
   "metadata": {},
   "outputs": [],
   "source": [
    "df"
   ]
  },
  {
   "cell_type": "code",
   "execution_count": null,
   "metadata": {},
   "outputs": [],
   "source": [
    "df.dtypes"
   ]
  },
  {
   "cell_type": "markdown",
   "metadata": {},
   "source": [
    "#### date manipulations"
   ]
  },
  {
   "cell_type": "code",
   "execution_count": null,
   "metadata": {},
   "outputs": [],
   "source": [
    "df = pd.DataFrame({'dates':pd.date_range(start='1/1/2018', end='1/8/2018')})\n",
    "df"
   ]
  },
  {
   "cell_type": "code",
   "execution_count": null,
   "metadata": {
    "collapsed": true
   },
   "outputs": [],
   "source": [
    "df['year'] = df['dates'].dt.year\n",
    "df['month'] = df['dates'].dt.month\n",
    "df['day'] = df['dates'].dt.day\n",
    "df['dayofweek'] = df['dates'].dt.dayofweek\n",
    "df['weekday_name'] = df['dates'].dt.weekday_name\n",
    "df['is_leap_year'] = df['dates'].dt.is_leap_year\n",
    "# see more https://pandas.pydata.org/pandas-docs/version/0.21/api.html#datetimelike-properties"
   ]
  },
  {
   "cell_type": "code",
   "execution_count": null,
   "metadata": {},
   "outputs": [],
   "source": [
    "df"
   ]
  },
  {
   "cell_type": "markdown",
   "metadata": {},
   "source": [
    "#### Filtering"
   ]
  },
  {
   "cell_type": "code",
   "execution_count": null,
   "metadata": {},
   "outputs": [],
   "source": [
    "df = pd.DataFrame({'a':[1,1,1,2,2,3,4,5],\n",
    "                  'b':[10,10,11,20,0,0,40,50],\n",
    "                  'c':['apple','apple','plum','pear','plum','apple','apple','apple']})\n",
    "df"
   ]
  },
  {
   "cell_type": "code",
   "execution_count": null,
   "metadata": {},
   "outputs": [],
   "source": [
    "df['a']<3"
   ]
  },
  {
   "cell_type": "code",
   "execution_count": null,
   "metadata": {},
   "outputs": [],
   "source": [
    "df[df['a']<3]"
   ]
  },
  {
   "cell_type": "code",
   "execution_count": null,
   "metadata": {},
   "outputs": [],
   "source": [
    "only_apple = df[df['c']=='apple']\n",
    "only_apple"
   ]
  },
  {
   "cell_type": "code",
   "execution_count": null,
   "metadata": {},
   "outputs": [],
   "source": [
    "df[(df['b']==10) & (df['c']=='apple')]"
   ]
  },
  {
   "cell_type": "code",
   "execution_count": null,
   "metadata": {},
   "outputs": [],
   "source": [
    "df[df['a']<df['b']]"
   ]
  },
  {
   "cell_type": "markdown",
   "metadata": {},
   "source": [
    "#### Grouping"
   ]
  },
  {
   "cell_type": "code",
   "execution_count": null,
   "metadata": {
    "collapsed": true
   },
   "outputs": [],
   "source": [
    "movies = pd.read_csv('movies.csv')"
   ]
  },
  {
   "cell_type": "code",
   "execution_count": null,
   "metadata": {
    "scrolled": true
   },
   "outputs": [],
   "source": [
    "movies.groupby('title').size()"
   ]
  },
  {
   "cell_type": "code",
   "execution_count": null,
   "metadata": {},
   "outputs": [],
   "source": [
    "movies.groupby('title').size().sort_values(ascending=False).head()"
   ]
  },
  {
   "cell_type": "code",
   "execution_count": null,
   "metadata": {},
   "outputs": [],
   "source": [
    "movies.groupby('title')['rating'].mean().sort_values(ascending=False).head()"
   ]
  },
  {
   "cell_type": "code",
   "execution_count": null,
   "metadata": {
    "scrolled": true
   },
   "outputs": [],
   "source": [
    "movies.groupby('title').agg({'rating':'mean',\n",
    "                            'userId':'nunique'})"
   ]
  },
  {
   "cell_type": "code",
   "execution_count": null,
   "metadata": {
    "collapsed": true,
    "scrolled": true
   },
   "outputs": [],
   "source": [
    "ratings = movies.groupby('title').agg({'rating':'mean',\n",
    "                            'userId':'nunique'}).rename(columns={'rating':'rating_mean',\n",
    "                                                                'userId':'nb_rating'})"
   ]
  },
  {
   "cell_type": "code",
   "execution_count": null,
   "metadata": {},
   "outputs": [],
   "source": [
    "ratings.sort_values('rating_mean', ascending=False).head()"
   ]
  },
  {
   "cell_type": "markdown",
   "metadata": {},
   "source": [
    "#### Bar Plot"
   ]
  },
  {
   "cell_type": "code",
   "execution_count": null,
   "metadata": {
    "collapsed": true
   },
   "outputs": [],
   "source": [
    "%matplotlib inline"
   ]
  },
  {
   "cell_type": "code",
   "execution_count": null,
   "metadata": {
    "collapsed": true
   },
   "outputs": [],
   "source": [
    "ratings_by_genre = movies.groupby('genre')['rating'].mean()"
   ]
  },
  {
   "cell_type": "code",
   "execution_count": null,
   "metadata": {},
   "outputs": [],
   "source": [
    "ratings_by_genre.plot(kind='bar')"
   ]
  },
  {
   "cell_type": "code",
   "execution_count": null,
   "metadata": {},
   "outputs": [],
   "source": [
    "ratings_by_genre.sort_values().plot(kind='bar')"
   ]
  },
  {
   "cell_type": "code",
   "execution_count": null,
   "metadata": {},
   "outputs": [],
   "source": [
    "ratings_by_genre.sort_values().plot(kind='bar', title='Mean raging by genre')"
   ]
  },
  {
   "cell_type": "code",
   "execution_count": null,
   "metadata": {},
   "outputs": [],
   "source": [
    "ratings_by_genre.sort_values().plot(kind='bar', title='Mean raging by genre', figsize=(14,4))"
   ]
  },
  {
   "cell_type": "code",
   "execution_count": null,
   "metadata": {},
   "outputs": [],
   "source": [
    "ratings_by_genre.sort_values().plot(kind='bar', title='Mean raging by genre', figsize=(14,4), color='lime')"
   ]
  },
  {
   "cell_type": "markdown",
   "metadata": {},
   "source": [
    "#### Pivoting"
   ]
  },
  {
   "cell_type": "code",
   "execution_count": null,
   "metadata": {
    "collapsed": true
   },
   "outputs": [],
   "source": [
    "by_year_genre = movies.groupby(['year','genre'])['rating'].mean()"
   ]
  },
  {
   "cell_type": "code",
   "execution_count": null,
   "metadata": {},
   "outputs": [],
   "source": [
    "by_year_genre.head()"
   ]
  },
  {
   "cell_type": "code",
   "execution_count": null,
   "metadata": {
    "collapsed": true
   },
   "outputs": [],
   "source": [
    "by_year_genre = movies.groupby(['year','genre'])['rating'].mean().reset_index()"
   ]
  },
  {
   "cell_type": "code",
   "execution_count": null,
   "metadata": {},
   "outputs": [],
   "source": [
    "by_year_genre.head()"
   ]
  },
  {
   "cell_type": "code",
   "execution_count": null,
   "metadata": {
    "collapsed": true
   },
   "outputs": [],
   "source": [
    "by_year_genre.sort_values('year', inplace=True)"
   ]
  },
  {
   "cell_type": "code",
   "execution_count": null,
   "metadata": {
    "scrolled": true
   },
   "outputs": [],
   "source": [
    "by_year_genre"
   ]
  },
  {
   "cell_type": "code",
   "execution_count": null,
   "metadata": {
    "collapsed": true
   },
   "outputs": [],
   "source": [
    "pivoted_df = by_year_genre.pivot(index='year', columns='genre', values='rating')"
   ]
  },
  {
   "cell_type": "code",
   "execution_count": null,
   "metadata": {
    "scrolled": true
   },
   "outputs": [],
   "source": [
    "pivoted_df.head()"
   ]
  },
  {
   "cell_type": "markdown",
   "metadata": {},
   "source": [
    "#### plotting groups"
   ]
  },
  {
   "cell_type": "code",
   "execution_count": null,
   "metadata": {},
   "outputs": [],
   "source": [
    "pivoted_df.plot(kind='bar', figsize=(15,5), title='Average ratings by year of premiere and genre')"
   ]
  },
  {
   "cell_type": "code",
   "execution_count": null,
   "metadata": {},
   "outputs": [],
   "source": [
    "pivoted_df.plot(kind='bar', \n",
    "                figsize=(15,5), \n",
    "                title='Average ratings by year of premiere and genre',\n",
    "               colormap='winter')"
   ]
  },
  {
   "cell_type": "markdown",
   "metadata": {},
   "source": [
    "#### Figures with multiple plots"
   ]
  },
  {
   "cell_type": "code",
   "execution_count": null,
   "metadata": {
    "collapsed": true
   },
   "outputs": [],
   "source": [
    "import matplotlib.pyplot as plt"
   ]
  },
  {
   "cell_type": "code",
   "execution_count": null,
   "metadata": {
    "scrolled": true
   },
   "outputs": [],
   "source": [
    "by_year_genre2 = movies.groupby(['year','genre'])['userId'].nunique().reset_index().sort_values('year')\n",
    "by_year_genre2"
   ]
  },
  {
   "cell_type": "code",
   "execution_count": null,
   "metadata": {},
   "outputs": [],
   "source": [
    "pivoted_df2 = by_year_genre2.pivot(index='year', columns='genre', values='userId')\n",
    "pivoted_df2"
   ]
  },
  {
   "cell_type": "code",
   "execution_count": null,
   "metadata": {},
   "outputs": [],
   "source": [
    "fig, axes = plt.subplots(nrows=1, ncols=2)\n",
    "fig.suptitle('Ratings by year of premiere and genre')\n",
    "pivoted_df.plot(kind='bar',  \n",
    "                title='Average',\n",
    "                colormap='winter',\n",
    "                ax=axes[0]\n",
    "                )\n",
    "pivoted_df2.plot(kind='bar', \n",
    "                figsize=(15,5), \n",
    "                title='Number',\n",
    "               colormap='summer',\n",
    "               ax=axes[1])\n",
    "plt.show()"
   ]
  },
  {
   "cell_type": "code",
   "execution_count": null,
   "metadata": {},
   "outputs": [],
   "source": [
    "pivoted_df[pivoted_df.index.isin(['(2010)', '(2011)'])]"
   ]
  },
  {
   "cell_type": "code",
   "execution_count": null,
   "metadata": {},
   "outputs": [],
   "source": [
    "fig, axes = plt.subplots(nrows=2, ncols=2)\n",
    "fig.suptitle('Ratings by year of premiere and genre')\n",
    "pivoted_df[pivoted_df.index.isin(['(2010)', '(2011)'])].plot(kind='bar', \n",
    "                title='Average',\n",
    "                colormap='winter',\n",
    "                ax=axes[0,0]\n",
    "                )\n",
    "pivoted_df2[pivoted_df.index.isin(['(2010)', '(2011)'])].plot(kind='bar', \n",
    "                title='Number',\n",
    "               colormap='summer',\n",
    "               ax=axes[0,1])\n",
    "pivoted_df[~pivoted_df.index.isin(['(2010)', '(2011)'])].plot(kind='bar', \n",
    "                title='Average',\n",
    "                colormap='winter',\n",
    "                ax=axes[1,0]\n",
    "                )\n",
    "pivoted_df2[~pivoted_df.index.isin(['(2010)', '(2011)'])].plot(kind='bar', \n",
    "                figsize=(15,5), \n",
    "                title='Number',\n",
    "               colormap='summer',\n",
    "               ax=axes[1,1])\n",
    "plt.show()"
   ]
  },
  {
   "cell_type": "code",
   "execution_count": null,
   "metadata": {},
   "outputs": [],
   "source": [
    "fig, axes = plt.subplots(nrows=2, ncols=2)\n",
    "fig.suptitle('Ratings by year of premiere and genre')\n",
    "pivoted_df[pivoted_df.index.isin(['(2010)', '(2011)'])].plot(kind='bar', \n",
    "                title='Average',\n",
    "                colormap='winter',\n",
    "                ax=axes[0,0]\n",
    "                )\n",
    "pivoted_df2[pivoted_df.index.isin(['(2010)', '(2011)'])].plot(kind='bar', \n",
    "                title='Number',\n",
    "               colormap='summer',\n",
    "                legend=False,\n",
    "               ax=axes[0,1])\n",
    "pivoted_df[~pivoted_df.index.isin(['(2010)', '(2011)'])].plot(kind='bar', \n",
    "                title='Average',\n",
    "                colormap='winter',\n",
    "                legend=False,\n",
    "                ax=axes[1,0]\n",
    "                )\n",
    "pivoted_df2[~pivoted_df.index.isin(['(2010)', '(2011)'])].plot(kind='bar', \n",
    "                figsize=(20,15), \n",
    "                title='Number',\n",
    "               colormap='summer',\n",
    "               ax=axes[1,1])\n",
    "plt.show()"
   ]
  },
  {
   "cell_type": "markdown",
   "metadata": {},
   "source": [
    "## Exercise\n",
    "\n",
    "#### Find out if there is a difference between Subscriber/Customer in daily routine"
   ]
  },
  {
   "cell_type": "markdown",
   "metadata": {},
   "source": [
    "### 1 - exercise\n",
    "\n",
    "Load the trip csv into a pandas dataframe. <br>\n",
    "In the trip dataframe create a new column called 'start_datetime'. These should contain the values from column 'Start Date' converted into datetime. "
   ]
  },
  {
   "cell_type": "code",
   "execution_count": null,
   "metadata": {
    "collapsed": true
   },
   "outputs": [],
   "source": [
    "# Your code here\n"
   ]
  },
  {
   "cell_type": "markdown",
   "metadata": {},
   "source": [
    "### 1 - check yourself"
   ]
  },
  {
   "cell_type": "code",
   "execution_count": null,
   "metadata": {},
   "outputs": [],
   "source": [
    "if (trip['Start Date'] != trip['start_date'].dt.strftime('%-m/%-d/%Y %-H:%M')).sum() == 0:\n",
    "    print('start_date column is successfully converted')\n",
    "else:\n",
    "    print('start_date column is NOT successfully converted')"
   ]
  },
  {
   "cell_type": "markdown",
   "metadata": {},
   "source": [
    "### 2 - exercise\n",
    "Create new column called start_hour that contains the hour in which the trip started."
   ]
  },
  {
   "cell_type": "code",
   "execution_count": null,
   "metadata": {
    "collapsed": true
   },
   "outputs": [],
   "source": [
    "# Your code here\n"
   ]
  },
  {
   "cell_type": "markdown",
   "metadata": {},
   "source": [
    "### 2 - check yourself"
   ]
  },
  {
   "cell_type": "code",
   "execution_count": null,
   "metadata": {},
   "outputs": [],
   "source": [
    "if trip['start_hour'].dtype == 'int64' and trip['start_hour'].min()==0 and trip['start_hour'].max()==23:\n",
    "    print('start_hour column is successfully converted')\n",
    "else:\n",
    "    print('start_hour column is NOT successfully converted')    "
   ]
  },
  {
   "cell_type": "markdown",
   "metadata": {},
   "source": [
    "### 3 - exercise\n",
    "First let's check if there is a daily pattern. Group the trip data by the start_hour column and get the size of each group. Assign it to a new variable called by_hour."
   ]
  },
  {
   "cell_type": "code",
   "execution_count": null,
   "metadata": {
    "collapsed": true
   },
   "outputs": [],
   "source": [
    "# Your code here\n"
   ]
  },
  {
   "cell_type": "markdown",
   "metadata": {},
   "source": [
    "### 3 - check yourself"
   ]
  },
  {
   "cell_type": "code",
   "execution_count": null,
   "metadata": {},
   "outputs": [],
   "source": [
    "if by_hour.index[0]==0 and by_hour[0] == 620:\n",
    "    print('the grouping was successfull')\n",
    "else:\n",
    "    print('the grouping was NOT successfull')    "
   ]
  },
  {
   "cell_type": "markdown",
   "metadata": {},
   "source": [
    "### 4 - exercise\n",
    "Make a bar plot from the by_hour data. \n",
    "- The x axis should be the hour and the y the number of trips. \n",
    "- The chart should have a title\n",
    "- The chart should be 10 inches wide and 5 inches tall\n",
    "- The color of the columns should set to something different from the default. (You can find named colors for example here: https://stackoverflow.com/questions/22408237/named-colors-in-matplotlib)"
   ]
  },
  {
   "cell_type": "code",
   "execution_count": null,
   "metadata": {},
   "outputs": [],
   "source": [
    "# Your code here\n"
   ]
  },
  {
   "cell_type": "markdown",
   "metadata": {},
   "source": [
    "### 4 - check yourself\n",
    "Your chart should be similar to this:\n",
    "<img src=\"exc4_cahrt.png\">"
   ]
  },
  {
   "cell_type": "markdown",
   "metadata": {},
   "source": [
    "### 5 - exercise\n",
    "It looks like that the bikes are used most in the morning and in the afternoon. Let's check if this pattern is the same for Customers and Subscriebrs as well! <br>\n",
    "Group the trip dataframe by Subscription Type ahd start_hour and get the size of each group. Reset the index and assign it to a new dataframe called by_type_hour. <br>\n",
    "Rename the column with the group size to nb_trips."
   ]
  },
  {
   "cell_type": "code",
   "execution_count": null,
   "metadata": {
    "collapsed": true
   },
   "outputs": [],
   "source": [
    "# Your code here\n"
   ]
  },
  {
   "cell_type": "markdown",
   "metadata": {},
   "source": [
    "### 5 - check yourself"
   ]
  },
  {
   "cell_type": "code",
   "execution_count": null,
   "metadata": {},
   "outputs": [],
   "source": [
    "if by_type_hour.columns[2] == 'nb_trips' and len(by_type_hour) == 48:\n",
    "    print('the grouping was successfull')\n",
    "else:\n",
    "    print('the grouping was NOT successfull')       "
   ]
  },
  {
   "cell_type": "markdown",
   "metadata": {},
   "source": [
    "### 6 - exercise\n",
    "Pivot the by_type_hour dataframe. The pivoted dataframe should be called by_type_hour_pivot. The indeces should be the hours, the columns the subscription types (Customer and Subscriber) and the values the number of trips."
   ]
  },
  {
   "cell_type": "code",
   "execution_count": null,
   "metadata": {
    "collapsed": true
   },
   "outputs": [],
   "source": [
    "# Your code here\n"
   ]
  },
  {
   "cell_type": "markdown",
   "metadata": {},
   "source": [
    "### 6 - check yourself"
   ]
  },
  {
   "cell_type": "code",
   "execution_count": null,
   "metadata": {},
   "outputs": [],
   "source": [
    "if by_type_hour_pivot.columns.name == 'Subscription Type' and len(by_type_hour_pivot) == 24:\n",
    "    print('the pivoting was successfull')\n",
    "else:\n",
    "    print('the pivoting was NOT successfull')      "
   ]
  },
  {
   "cell_type": "markdown",
   "metadata": {},
   "source": [
    "### 7 - exercise\n",
    "\n",
    "Make a bar plot from the by_type_hour_pivot data.\n",
    "\n",
    "- The x axis should be the hour and the y the number of trips.\n",
    "- The chart should have a title\n",
    "- The chart should be 10 inches wide and 5 inches tall\n",
    "- The Customer and the Subscriber bars should have different colors from one colormap other than the default. (You can find named colormaps for example here: https://matplotlib.org/tutorials/colors/colormaps.html)"
   ]
  },
  {
   "cell_type": "code",
   "execution_count": null,
   "metadata": {},
   "outputs": [],
   "source": [
    "# Your code here\n"
   ]
  },
  {
   "cell_type": "markdown",
   "metadata": {
    "collapsed": true
   },
   "source": [
    "### 7 - check yourself\n",
    "Your chart should be similar to this:\n",
    "<img src=\"exc7_chart.png\">"
   ]
  },
  {
   "cell_type": "markdown",
   "metadata": {},
   "source": [
    "### 8 - exercise\n",
    "\n",
    "Ok, it looks like that Subscribers use the bikes for commuting while Customers use the bikes more during the day. Let's see if these patterns are different in the weekend and on weekdays! <br>\n",
    "As we are about to introduce a new grouping variable we can't use the aggregated data we created in the last tasks. So let's go back to the trip dataframe and create a new column called day_of_week with the name of the day of the start_date. Remember you can use the built-in methods of the .dt properties of the datetime like columns. "
   ]
  },
  {
   "cell_type": "code",
   "execution_count": null,
   "metadata": {
    "collapsed": true
   },
   "outputs": [],
   "source": [
    "# Your code here\n"
   ]
  },
  {
   "cell_type": "markdown",
   "metadata": {},
   "source": [
    "### 8 - check yourself"
   ]
  },
  {
   "cell_type": "code",
   "execution_count": null,
   "metadata": {},
   "outputs": [],
   "source": [
    "if sorted(trip['day_of_week'].unique()) == ['Friday', 'Monday', 'Saturday', 'Sunday', 'Thursday', 'Tuesday', 'Wednesday']:\n",
    "    print('the column creation was successfull')\n",
    "else:\n",
    "    print('the column creation was NOT successfull')      "
   ]
  },
  {
   "cell_type": "markdown",
   "metadata": {},
   "source": [
    "### 9 - exercise\n",
    "We know the name of the days of each date now. Let's crate a column called weekend. If the name of the day is Saturday or Sunday, the value of weekend should be True. Otherwise it should be False."
   ]
  },
  {
   "cell_type": "code",
   "execution_count": null,
   "metadata": {
    "collapsed": true
   },
   "outputs": [],
   "source": [
    "# Your code here\n"
   ]
  },
  {
   "cell_type": "markdown",
   "metadata": {},
   "source": [
    "### 9 - check yourself"
   ]
  },
  {
   "cell_type": "code",
   "execution_count": null,
   "metadata": {},
   "outputs": [],
   "source": [
    "if trip['weekend'].sum() == 22980:\n",
    "    print('the column creation was successfull')\n",
    "else:\n",
    "    print('the column creation was NOT successfull')      "
   ]
  },
  {
   "cell_type": "markdown",
   "metadata": {},
   "source": [
    "### 10 - exercise\n",
    "Create a figure with two charts next to each others. \n",
    "- One should show the number of trips by hours for Customers and Subsribers on the weekends and the other on the weekdays. \n",
    "- Both charts should have a title and they should have a shared y axes. \n",
    "- There should be a shared title in the middle above the charts <br><br>\n",
    "For creating the charts you have to filter the trip data for weekend/weekday first and than pivot the new dataframe. <br><br>\n",
    "As an advanced task you can make a figure with 4 plots: in the first row the weekends and weekdays should be separate charts with differenc colored bars for Customers and Subscribers. In the second row, the columns should be for the weekends/weekdays on separate charts for Customers and Subscribers. The charts should share both axes and only the charts on the left should have the legend explanation box"
   ]
  },
  {
   "cell_type": "code",
   "execution_count": null,
   "metadata": {},
   "outputs": [],
   "source": [
    "# Your code here\n"
   ]
  },
  {
   "cell_type": "markdown",
   "metadata": {},
   "source": [
    "### 7 - check yourself\n",
    "Your chart should be similar to this:\n",
    "<img src=\"exc10_chart.png\">\n",
    "<br><br>Or to this if you chose the advanced task:\n",
    "<img src=\"exc10_chart_advance.png\">"
   ]
  },
  {
   "cell_type": "markdown",
   "metadata": {},
   "source": [
    "### +1 - exercise\n",
    "Include the month of the start_date in the analysis and create a figure showing some insight. <br>\n",
    "Save the figure as a picture."
   ]
  },
  {
   "cell_type": "code",
   "execution_count": null,
   "metadata": {
    "collapsed": true
   },
   "outputs": [],
   "source": [
    "# Your code here\n"
   ]
  }
 ],
 "metadata": {
  "kernelspec": {
   "display_name": "Python 3",
   "language": "python",
   "name": "python3"
  },
  "language_info": {
   "codemirror_mode": {
    "name": "ipython",
    "version": 3
   },
   "file_extension": ".py",
   "mimetype": "text/x-python",
   "name": "python",
   "nbconvert_exporter": "python",
   "pygments_lexer": "ipython3",
   "version": "3.6.2"
  }
 },
 "nbformat": 4,
 "nbformat_minor": 2
}
