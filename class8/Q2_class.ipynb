{
 "cells": [
  {
   "cell_type": "code",
   "execution_count": 1,
   "metadata": {},
   "outputs": [],
   "source": [
    "import pandas as pd\n",
    "import numpy as np\n",
    "import matplotlib.pyplot as plt\n",
    "%matplotlib inline"
   ]
  },
  {
   "cell_type": "markdown",
   "metadata": {},
   "source": [
    "#### Loading dictinary from file"
   ]
  },
  {
   "cell_type": "code",
   "execution_count": 4,
   "metadata": {},
   "outputs": [],
   "source": [
    "uni_dict = np.load('example_dict.npy', allow_pickle=True).item()"
   ]
  },
  {
   "cell_type": "code",
   "execution_count": 5,
   "metadata": {},
   "outputs": [
    {
     "data": {
      "text/plain": [
       "{'Boston': ['Northeastern University', 'Boston University'],\n",
       " 'London': ['UCL',\n",
       "  'Kings College',\n",
       "  'Queen Mary University',\n",
       "  'Royal Holloway University'],\n",
       " 'Oxford': ['Oxford University']}"
      ]
     },
     "execution_count": 5,
     "metadata": {},
     "output_type": "execute_result"
    }
   ],
   "source": [
    "uni_dict"
   ]
  },
  {
   "cell_type": "code",
   "execution_count": 6,
   "metadata": {},
   "outputs": [
    {
     "data": {
      "text/plain": [
       "dict_keys(['Boston', 'London', 'Oxford'])"
      ]
     },
     "execution_count": 6,
     "metadata": {},
     "output_type": "execute_result"
    }
   ],
   "source": [
    "uni_dict.keys()"
   ]
  },
  {
   "cell_type": "markdown",
   "metadata": {},
   "source": [
    "#### dictionary to dataframe"
   ]
  },
  {
   "cell_type": "code",
   "execution_count": 7,
   "metadata": {},
   "outputs": [
    {
     "name": "stdout",
     "output_type": "stream",
     "text": [
      "key Boston\n",
      "value ['Northeastern University', 'Boston University']\n",
      "this will be a row:  ['Boston', 'Northeastern University']\n",
      "this will be a row:  ['Boston', 'Boston University']\n",
      "key London\n",
      "value ['UCL', 'Kings College', 'Queen Mary University', 'Royal Holloway University']\n",
      "this will be a row:  ['London', 'UCL']\n",
      "this will be a row:  ['London', 'Kings College']\n",
      "this will be a row:  ['London', 'Queen Mary University']\n",
      "this will be a row:  ['London', 'Royal Holloway University']\n",
      "key Oxford\n",
      "value ['Oxford University']\n",
      "this will be a row:  ['Oxford', 'Oxford University']\n"
     ]
    }
   ],
   "source": [
    "df_rows = []\n",
    "for k,v in uni_dict.items():\n",
    "    print('key', k)\n",
    "    print('value',v)\n",
    "    for vv in v:\n",
    "        print('this will be a row: ',[k,vv])\n",
    "        df_rows.append([k,vv])"
   ]
  },
  {
   "cell_type": "code",
   "execution_count": 8,
   "metadata": {},
   "outputs": [
    {
     "data": {
      "text/plain": [
       "[['Boston', 'Northeastern University'],\n",
       " ['Boston', 'Boston University'],\n",
       " ['London', 'UCL'],\n",
       " ['London', 'Kings College'],\n",
       " ['London', 'Queen Mary University'],\n",
       " ['London', 'Royal Holloway University'],\n",
       " ['Oxford', 'Oxford University']]"
      ]
     },
     "execution_count": 8,
     "metadata": {},
     "output_type": "execute_result"
    }
   ],
   "source": [
    "df_rows"
   ]
  },
  {
   "cell_type": "code",
   "execution_count": 9,
   "metadata": {},
   "outputs": [],
   "source": [
    "uni_df = pd.DataFrame(df_rows, columns=['city','university'])"
   ]
  },
  {
   "cell_type": "code",
   "execution_count": 10,
   "metadata": {},
   "outputs": [
    {
     "data": {
      "text/html": [
       "<div>\n",
       "<style scoped>\n",
       "    .dataframe tbody tr th:only-of-type {\n",
       "        vertical-align: middle;\n",
       "    }\n",
       "\n",
       "    .dataframe tbody tr th {\n",
       "        vertical-align: top;\n",
       "    }\n",
       "\n",
       "    .dataframe thead th {\n",
       "        text-align: right;\n",
       "    }\n",
       "</style>\n",
       "<table border=\"1\" class=\"dataframe\">\n",
       "  <thead>\n",
       "    <tr style=\"text-align: right;\">\n",
       "      <th></th>\n",
       "      <th>city</th>\n",
       "      <th>university</th>\n",
       "    </tr>\n",
       "  </thead>\n",
       "  <tbody>\n",
       "    <tr>\n",
       "      <td>0</td>\n",
       "      <td>Boston</td>\n",
       "      <td>Northeastern University</td>\n",
       "    </tr>\n",
       "    <tr>\n",
       "      <td>1</td>\n",
       "      <td>Boston</td>\n",
       "      <td>Boston University</td>\n",
       "    </tr>\n",
       "    <tr>\n",
       "      <td>2</td>\n",
       "      <td>London</td>\n",
       "      <td>UCL</td>\n",
       "    </tr>\n",
       "    <tr>\n",
       "      <td>3</td>\n",
       "      <td>London</td>\n",
       "      <td>Kings College</td>\n",
       "    </tr>\n",
       "    <tr>\n",
       "      <td>4</td>\n",
       "      <td>London</td>\n",
       "      <td>Queen Mary University</td>\n",
       "    </tr>\n",
       "    <tr>\n",
       "      <td>5</td>\n",
       "      <td>London</td>\n",
       "      <td>Royal Holloway University</td>\n",
       "    </tr>\n",
       "    <tr>\n",
       "      <td>6</td>\n",
       "      <td>Oxford</td>\n",
       "      <td>Oxford University</td>\n",
       "    </tr>\n",
       "  </tbody>\n",
       "</table>\n",
       "</div>"
      ],
      "text/plain": [
       "     city                 university\n",
       "0  Boston    Northeastern University\n",
       "1  Boston          Boston University\n",
       "2  London                        UCL\n",
       "3  London              Kings College\n",
       "4  London      Queen Mary University\n",
       "5  London  Royal Holloway University\n",
       "6  Oxford          Oxford University"
      ]
     },
     "execution_count": 10,
     "metadata": {},
     "output_type": "execute_result"
    }
   ],
   "source": [
    "uni_df"
   ]
  },
  {
   "cell_type": "markdown",
   "metadata": {},
   "source": [
    "#### apply function to column"
   ]
  },
  {
   "cell_type": "code",
   "execution_count": 11,
   "metadata": {},
   "outputs": [
    {
     "data": {
      "text/plain": [
       "'Northeastern University'"
      ]
     },
     "execution_count": 11,
     "metadata": {},
     "output_type": "execute_result"
    }
   ],
   "source": [
    "x = uni_df['university'].iloc[0]\n",
    "x"
   ]
  },
  {
   "cell_type": "code",
   "execution_count": 12,
   "metadata": {},
   "outputs": [
    {
     "data": {
      "text/plain": [
       "'Northeastern'"
      ]
     },
     "execution_count": 12,
     "metadata": {},
     "output_type": "execute_result"
    }
   ],
   "source": [
    "x.split(' ')[0]"
   ]
  },
  {
   "cell_type": "code",
   "execution_count": 13,
   "metadata": {},
   "outputs": [
    {
     "data": {
      "text/plain": [
       "0    Northeastern\n",
       "1          Boston\n",
       "2             UCL\n",
       "3           Kings\n",
       "4           Queen\n",
       "5           Royal\n",
       "6          Oxford\n",
       "Name: university, dtype: object"
      ]
     },
     "execution_count": 13,
     "metadata": {},
     "output_type": "execute_result"
    }
   ],
   "source": [
    "uni_df['university'].apply(lambda x: x.split(' ')[0])"
   ]
  },
  {
   "cell_type": "code",
   "execution_count": 14,
   "metadata": {},
   "outputs": [
    {
     "data": {
      "text/plain": [
       "'Royal Holloway University'"
      ]
     },
     "execution_count": 14,
     "metadata": {},
     "output_type": "execute_result"
    }
   ],
   "source": [
    "x = uni_df['university'].iloc[5]\n",
    "x"
   ]
  },
  {
   "cell_type": "code",
   "execution_count": 15,
   "metadata": {},
   "outputs": [
    {
     "data": {
      "text/plain": [
       "'Royal Holloway'"
      ]
     },
     "execution_count": 15,
     "metadata": {},
     "output_type": "execute_result"
    }
   ],
   "source": [
    "x.replace(' University','')"
   ]
  },
  {
   "cell_type": "code",
   "execution_count": 16,
   "metadata": {},
   "outputs": [
    {
     "data": {
      "text/plain": [
       "0      Northeastern\n",
       "1            Boston\n",
       "2               UCL\n",
       "3     Kings College\n",
       "4        Queen Mary\n",
       "5    Royal Holloway\n",
       "6            Oxford\n",
       "Name: university, dtype: object"
      ]
     },
     "execution_count": 16,
     "metadata": {},
     "output_type": "execute_result"
    }
   ],
   "source": [
    "uni_df['university'].apply(lambda x: x.replace(' University',''))"
   ]
  },
  {
   "cell_type": "code",
   "execution_count": 17,
   "metadata": {},
   "outputs": [
    {
     "data": {
      "text/html": [
       "<div>\n",
       "<style scoped>\n",
       "    .dataframe tbody tr th:only-of-type {\n",
       "        vertical-align: middle;\n",
       "    }\n",
       "\n",
       "    .dataframe tbody tr th {\n",
       "        vertical-align: top;\n",
       "    }\n",
       "\n",
       "    .dataframe thead th {\n",
       "        text-align: right;\n",
       "    }\n",
       "</style>\n",
       "<table border=\"1\" class=\"dataframe\">\n",
       "  <thead>\n",
       "    <tr style=\"text-align: right;\">\n",
       "      <th></th>\n",
       "      <th>city</th>\n",
       "      <th>university</th>\n",
       "      <th>univeristy_name</th>\n",
       "    </tr>\n",
       "  </thead>\n",
       "  <tbody>\n",
       "    <tr>\n",
       "      <td>0</td>\n",
       "      <td>Boston</td>\n",
       "      <td>Northeastern University</td>\n",
       "      <td>Northeastern</td>\n",
       "    </tr>\n",
       "    <tr>\n",
       "      <td>1</td>\n",
       "      <td>Boston</td>\n",
       "      <td>Boston University</td>\n",
       "      <td>Boston</td>\n",
       "    </tr>\n",
       "    <tr>\n",
       "      <td>2</td>\n",
       "      <td>London</td>\n",
       "      <td>UCL</td>\n",
       "      <td>UCL</td>\n",
       "    </tr>\n",
       "    <tr>\n",
       "      <td>3</td>\n",
       "      <td>London</td>\n",
       "      <td>Kings College</td>\n",
       "      <td>Kings College</td>\n",
       "    </tr>\n",
       "    <tr>\n",
       "      <td>4</td>\n",
       "      <td>London</td>\n",
       "      <td>Queen Mary University</td>\n",
       "      <td>Queen Mary</td>\n",
       "    </tr>\n",
       "    <tr>\n",
       "      <td>5</td>\n",
       "      <td>London</td>\n",
       "      <td>Royal Holloway University</td>\n",
       "      <td>Royal Holloway</td>\n",
       "    </tr>\n",
       "    <tr>\n",
       "      <td>6</td>\n",
       "      <td>Oxford</td>\n",
       "      <td>Oxford University</td>\n",
       "      <td>Oxford</td>\n",
       "    </tr>\n",
       "  </tbody>\n",
       "</table>\n",
       "</div>"
      ],
      "text/plain": [
       "     city                 university univeristy_name\n",
       "0  Boston    Northeastern University    Northeastern\n",
       "1  Boston          Boston University          Boston\n",
       "2  London                        UCL             UCL\n",
       "3  London              Kings College   Kings College\n",
       "4  London      Queen Mary University      Queen Mary\n",
       "5  London  Royal Holloway University  Royal Holloway\n",
       "6  Oxford          Oxford University          Oxford"
      ]
     },
     "execution_count": 17,
     "metadata": {},
     "output_type": "execute_result"
    }
   ],
   "source": [
    "uni_df['univeristy_name'] = uni_df['university'].apply(lambda x: x.replace(' University',''))\n",
    "uni_df"
   ]
  },
  {
   "cell_type": "markdown",
   "metadata": {},
   "source": [
    "#### apply function to multiple columns"
   ]
  },
  {
   "cell_type": "code",
   "execution_count": 18,
   "metadata": {},
   "outputs": [
    {
     "data": {
      "text/plain": [
       "0      Boston_Northeastern University\n",
       "1            Boston_Boston University\n",
       "2                          London_UCL\n",
       "3                London_Kings College\n",
       "4        London_Queen Mary University\n",
       "5    London_Royal Holloway University\n",
       "6            Oxford_Oxford University\n",
       "dtype: object"
      ]
     },
     "execution_count": 18,
     "metadata": {},
     "output_type": "execute_result"
    }
   ],
   "source": [
    "uni_df.apply(lambda x: x.city + '_' + x.university, axis=1)"
   ]
  },
  {
   "cell_type": "code",
   "execution_count": 19,
   "metadata": {},
   "outputs": [
    {
     "data": {
      "text/html": [
       "<div>\n",
       "<style scoped>\n",
       "    .dataframe tbody tr th:only-of-type {\n",
       "        vertical-align: middle;\n",
       "    }\n",
       "\n",
       "    .dataframe tbody tr th {\n",
       "        vertical-align: top;\n",
       "    }\n",
       "\n",
       "    .dataframe thead th {\n",
       "        text-align: right;\n",
       "    }\n",
       "</style>\n",
       "<table border=\"1\" class=\"dataframe\">\n",
       "  <thead>\n",
       "    <tr style=\"text-align: right;\">\n",
       "      <th></th>\n",
       "      <th>city</th>\n",
       "      <th>university</th>\n",
       "      <th>univeristy_name</th>\n",
       "      <th>city_plus_uni</th>\n",
       "    </tr>\n",
       "  </thead>\n",
       "  <tbody>\n",
       "    <tr>\n",
       "      <td>0</td>\n",
       "      <td>Boston</td>\n",
       "      <td>Northeastern University</td>\n",
       "      <td>Northeastern</td>\n",
       "      <td>Boston_Northeastern University</td>\n",
       "    </tr>\n",
       "    <tr>\n",
       "      <td>1</td>\n",
       "      <td>Boston</td>\n",
       "      <td>Boston University</td>\n",
       "      <td>Boston</td>\n",
       "      <td>Boston_Boston University</td>\n",
       "    </tr>\n",
       "    <tr>\n",
       "      <td>2</td>\n",
       "      <td>London</td>\n",
       "      <td>UCL</td>\n",
       "      <td>UCL</td>\n",
       "      <td>London_UCL</td>\n",
       "    </tr>\n",
       "    <tr>\n",
       "      <td>3</td>\n",
       "      <td>London</td>\n",
       "      <td>Kings College</td>\n",
       "      <td>Kings College</td>\n",
       "      <td>London_Kings College</td>\n",
       "    </tr>\n",
       "    <tr>\n",
       "      <td>4</td>\n",
       "      <td>London</td>\n",
       "      <td>Queen Mary University</td>\n",
       "      <td>Queen Mary</td>\n",
       "      <td>London_Queen Mary University</td>\n",
       "    </tr>\n",
       "    <tr>\n",
       "      <td>5</td>\n",
       "      <td>London</td>\n",
       "      <td>Royal Holloway University</td>\n",
       "      <td>Royal Holloway</td>\n",
       "      <td>London_Royal Holloway University</td>\n",
       "    </tr>\n",
       "    <tr>\n",
       "      <td>6</td>\n",
       "      <td>Oxford</td>\n",
       "      <td>Oxford University</td>\n",
       "      <td>Oxford</td>\n",
       "      <td>Oxford_Oxford University</td>\n",
       "    </tr>\n",
       "  </tbody>\n",
       "</table>\n",
       "</div>"
      ],
      "text/plain": [
       "     city                 university univeristy_name  \\\n",
       "0  Boston    Northeastern University    Northeastern   \n",
       "1  Boston          Boston University          Boston   \n",
       "2  London                        UCL             UCL   \n",
       "3  London              Kings College   Kings College   \n",
       "4  London      Queen Mary University      Queen Mary   \n",
       "5  London  Royal Holloway University  Royal Holloway   \n",
       "6  Oxford          Oxford University          Oxford   \n",
       "\n",
       "                      city_plus_uni  \n",
       "0    Boston_Northeastern University  \n",
       "1          Boston_Boston University  \n",
       "2                        London_UCL  \n",
       "3              London_Kings College  \n",
       "4      London_Queen Mary University  \n",
       "5  London_Royal Holloway University  \n",
       "6          Oxford_Oxford University  "
      ]
     },
     "execution_count": 19,
     "metadata": {},
     "output_type": "execute_result"
    }
   ],
   "source": [
    "uni_df['city_plus_uni'] = uni_df.apply(lambda x: x.city + '_' + x.university, axis=1)\n",
    "uni_df"
   ]
  },
  {
   "cell_type": "code",
   "execution_count": null,
   "metadata": {},
   "outputs": [],
   "source": [
    "# let's do exercises 1-2!"
   ]
  },
  {
   "cell_type": "markdown",
   "metadata": {},
   "source": [
    "#### merging \n"
   ]
  },
  {
   "cell_type": "code",
   "execution_count": 49,
   "metadata": {},
   "outputs": [],
   "source": [
    "df_x = uni_df[['city', 'university']].copy()\n",
    "df_y = pd.DataFrame({'city':['London', 'Boston','New York'],\n",
    "                    'country':['UK','USA','USA']})"
   ]
  },
  {
   "cell_type": "code",
   "execution_count": 50,
   "metadata": {},
   "outputs": [
    {
     "data": {
      "text/html": [
       "<div>\n",
       "<style scoped>\n",
       "    .dataframe tbody tr th:only-of-type {\n",
       "        vertical-align: middle;\n",
       "    }\n",
       "\n",
       "    .dataframe tbody tr th {\n",
       "        vertical-align: top;\n",
       "    }\n",
       "\n",
       "    .dataframe thead th {\n",
       "        text-align: right;\n",
       "    }\n",
       "</style>\n",
       "<table border=\"1\" class=\"dataframe\">\n",
       "  <thead>\n",
       "    <tr style=\"text-align: right;\">\n",
       "      <th></th>\n",
       "      <th>city</th>\n",
       "      <th>university</th>\n",
       "    </tr>\n",
       "  </thead>\n",
       "  <tbody>\n",
       "    <tr>\n",
       "      <td>0</td>\n",
       "      <td>Boston</td>\n",
       "      <td>Northeastern University</td>\n",
       "    </tr>\n",
       "    <tr>\n",
       "      <td>1</td>\n",
       "      <td>Boston</td>\n",
       "      <td>Boston University</td>\n",
       "    </tr>\n",
       "    <tr>\n",
       "      <td>2</td>\n",
       "      <td>London</td>\n",
       "      <td>UCL</td>\n",
       "    </tr>\n",
       "    <tr>\n",
       "      <td>3</td>\n",
       "      <td>London</td>\n",
       "      <td>Kings College</td>\n",
       "    </tr>\n",
       "    <tr>\n",
       "      <td>4</td>\n",
       "      <td>London</td>\n",
       "      <td>Queen Mary University</td>\n",
       "    </tr>\n",
       "    <tr>\n",
       "      <td>5</td>\n",
       "      <td>London</td>\n",
       "      <td>Royal Holloway University</td>\n",
       "    </tr>\n",
       "    <tr>\n",
       "      <td>6</td>\n",
       "      <td>Oxford</td>\n",
       "      <td>Oxford University</td>\n",
       "    </tr>\n",
       "  </tbody>\n",
       "</table>\n",
       "</div>"
      ],
      "text/plain": [
       "     city                 university\n",
       "0  Boston    Northeastern University\n",
       "1  Boston          Boston University\n",
       "2  London                        UCL\n",
       "3  London              Kings College\n",
       "4  London      Queen Mary University\n",
       "5  London  Royal Holloway University\n",
       "6  Oxford          Oxford University"
      ]
     },
     "execution_count": 50,
     "metadata": {},
     "output_type": "execute_result"
    }
   ],
   "source": [
    "df_x"
   ]
  },
  {
   "cell_type": "code",
   "execution_count": 51,
   "metadata": {},
   "outputs": [
    {
     "data": {
      "text/html": [
       "<div>\n",
       "<style scoped>\n",
       "    .dataframe tbody tr th:only-of-type {\n",
       "        vertical-align: middle;\n",
       "    }\n",
       "\n",
       "    .dataframe tbody tr th {\n",
       "        vertical-align: top;\n",
       "    }\n",
       "\n",
       "    .dataframe thead th {\n",
       "        text-align: right;\n",
       "    }\n",
       "</style>\n",
       "<table border=\"1\" class=\"dataframe\">\n",
       "  <thead>\n",
       "    <tr style=\"text-align: right;\">\n",
       "      <th></th>\n",
       "      <th>city</th>\n",
       "      <th>country</th>\n",
       "    </tr>\n",
       "  </thead>\n",
       "  <tbody>\n",
       "    <tr>\n",
       "      <td>0</td>\n",
       "      <td>London</td>\n",
       "      <td>UK</td>\n",
       "    </tr>\n",
       "    <tr>\n",
       "      <td>1</td>\n",
       "      <td>Boston</td>\n",
       "      <td>USA</td>\n",
       "    </tr>\n",
       "    <tr>\n",
       "      <td>2</td>\n",
       "      <td>New York</td>\n",
       "      <td>USA</td>\n",
       "    </tr>\n",
       "  </tbody>\n",
       "</table>\n",
       "</div>"
      ],
      "text/plain": [
       "       city country\n",
       "0    London      UK\n",
       "1    Boston     USA\n",
       "2  New York     USA"
      ]
     },
     "execution_count": 51,
     "metadata": {},
     "output_type": "execute_result"
    }
   ],
   "source": [
    "df_y"
   ]
  },
  {
   "cell_type": "markdown",
   "metadata": {},
   "source": [
    "<img src=\"join.png\">"
   ]
  },
  {
   "cell_type": "code",
   "execution_count": 52,
   "metadata": {},
   "outputs": [
    {
     "data": {
      "text/html": [
       "<div>\n",
       "<style scoped>\n",
       "    .dataframe tbody tr th:only-of-type {\n",
       "        vertical-align: middle;\n",
       "    }\n",
       "\n",
       "    .dataframe tbody tr th {\n",
       "        vertical-align: top;\n",
       "    }\n",
       "\n",
       "    .dataframe thead th {\n",
       "        text-align: right;\n",
       "    }\n",
       "</style>\n",
       "<table border=\"1\" class=\"dataframe\">\n",
       "  <thead>\n",
       "    <tr style=\"text-align: right;\">\n",
       "      <th></th>\n",
       "      <th>city</th>\n",
       "      <th>university</th>\n",
       "      <th>country</th>\n",
       "    </tr>\n",
       "  </thead>\n",
       "  <tbody>\n",
       "    <tr>\n",
       "      <td>0</td>\n",
       "      <td>Boston</td>\n",
       "      <td>Northeastern University</td>\n",
       "      <td>USA</td>\n",
       "    </tr>\n",
       "    <tr>\n",
       "      <td>1</td>\n",
       "      <td>Boston</td>\n",
       "      <td>Boston University</td>\n",
       "      <td>USA</td>\n",
       "    </tr>\n",
       "    <tr>\n",
       "      <td>2</td>\n",
       "      <td>London</td>\n",
       "      <td>UCL</td>\n",
       "      <td>UK</td>\n",
       "    </tr>\n",
       "    <tr>\n",
       "      <td>3</td>\n",
       "      <td>London</td>\n",
       "      <td>Kings College</td>\n",
       "      <td>UK</td>\n",
       "    </tr>\n",
       "    <tr>\n",
       "      <td>4</td>\n",
       "      <td>London</td>\n",
       "      <td>Queen Mary University</td>\n",
       "      <td>UK</td>\n",
       "    </tr>\n",
       "    <tr>\n",
       "      <td>5</td>\n",
       "      <td>London</td>\n",
       "      <td>Royal Holloway University</td>\n",
       "      <td>UK</td>\n",
       "    </tr>\n",
       "  </tbody>\n",
       "</table>\n",
       "</div>"
      ],
      "text/plain": [
       "     city                 university country\n",
       "0  Boston    Northeastern University     USA\n",
       "1  Boston          Boston University     USA\n",
       "2  London                        UCL      UK\n",
       "3  London              Kings College      UK\n",
       "4  London      Queen Mary University      UK\n",
       "5  London  Royal Holloway University      UK"
      ]
     },
     "execution_count": 52,
     "metadata": {},
     "output_type": "execute_result"
    }
   ],
   "source": [
    "pd.merge(df_x, df_y, how='inner')"
   ]
  },
  {
   "cell_type": "code",
   "execution_count": 53,
   "metadata": {},
   "outputs": [
    {
     "data": {
      "text/html": [
       "<div>\n",
       "<style scoped>\n",
       "    .dataframe tbody tr th:only-of-type {\n",
       "        vertical-align: middle;\n",
       "    }\n",
       "\n",
       "    .dataframe tbody tr th {\n",
       "        vertical-align: top;\n",
       "    }\n",
       "\n",
       "    .dataframe thead th {\n",
       "        text-align: right;\n",
       "    }\n",
       "</style>\n",
       "<table border=\"1\" class=\"dataframe\">\n",
       "  <thead>\n",
       "    <tr style=\"text-align: right;\">\n",
       "      <th></th>\n",
       "      <th>city</th>\n",
       "      <th>university</th>\n",
       "      <th>country</th>\n",
       "    </tr>\n",
       "  </thead>\n",
       "  <tbody>\n",
       "    <tr>\n",
       "      <td>0</td>\n",
       "      <td>Boston</td>\n",
       "      <td>Northeastern University</td>\n",
       "      <td>USA</td>\n",
       "    </tr>\n",
       "    <tr>\n",
       "      <td>1</td>\n",
       "      <td>Boston</td>\n",
       "      <td>Boston University</td>\n",
       "      <td>USA</td>\n",
       "    </tr>\n",
       "    <tr>\n",
       "      <td>2</td>\n",
       "      <td>London</td>\n",
       "      <td>UCL</td>\n",
       "      <td>UK</td>\n",
       "    </tr>\n",
       "    <tr>\n",
       "      <td>3</td>\n",
       "      <td>London</td>\n",
       "      <td>Kings College</td>\n",
       "      <td>UK</td>\n",
       "    </tr>\n",
       "    <tr>\n",
       "      <td>4</td>\n",
       "      <td>London</td>\n",
       "      <td>Queen Mary University</td>\n",
       "      <td>UK</td>\n",
       "    </tr>\n",
       "    <tr>\n",
       "      <td>5</td>\n",
       "      <td>London</td>\n",
       "      <td>Royal Holloway University</td>\n",
       "      <td>UK</td>\n",
       "    </tr>\n",
       "    <tr>\n",
       "      <td>6</td>\n",
       "      <td>Oxford</td>\n",
       "      <td>Oxford University</td>\n",
       "      <td>NaN</td>\n",
       "    </tr>\n",
       "    <tr>\n",
       "      <td>7</td>\n",
       "      <td>New York</td>\n",
       "      <td>NaN</td>\n",
       "      <td>USA</td>\n",
       "    </tr>\n",
       "  </tbody>\n",
       "</table>\n",
       "</div>"
      ],
      "text/plain": [
       "       city                 university country\n",
       "0    Boston    Northeastern University     USA\n",
       "1    Boston          Boston University     USA\n",
       "2    London                        UCL      UK\n",
       "3    London              Kings College      UK\n",
       "4    London      Queen Mary University      UK\n",
       "5    London  Royal Holloway University      UK\n",
       "6    Oxford          Oxford University     NaN\n",
       "7  New York                        NaN     USA"
      ]
     },
     "execution_count": 53,
     "metadata": {},
     "output_type": "execute_result"
    }
   ],
   "source": [
    "pd.merge(df_x, df_y, how='outer')"
   ]
  },
  {
   "cell_type": "code",
   "execution_count": 54,
   "metadata": {},
   "outputs": [
    {
     "data": {
      "text/html": [
       "<div>\n",
       "<style scoped>\n",
       "    .dataframe tbody tr th:only-of-type {\n",
       "        vertical-align: middle;\n",
       "    }\n",
       "\n",
       "    .dataframe tbody tr th {\n",
       "        vertical-align: top;\n",
       "    }\n",
       "\n",
       "    .dataframe thead th {\n",
       "        text-align: right;\n",
       "    }\n",
       "</style>\n",
       "<table border=\"1\" class=\"dataframe\">\n",
       "  <thead>\n",
       "    <tr style=\"text-align: right;\">\n",
       "      <th></th>\n",
       "      <th>city</th>\n",
       "      <th>university</th>\n",
       "      <th>country</th>\n",
       "    </tr>\n",
       "  </thead>\n",
       "  <tbody>\n",
       "    <tr>\n",
       "      <td>0</td>\n",
       "      <td>Boston</td>\n",
       "      <td>Northeastern University</td>\n",
       "      <td>USA</td>\n",
       "    </tr>\n",
       "    <tr>\n",
       "      <td>1</td>\n",
       "      <td>Boston</td>\n",
       "      <td>Boston University</td>\n",
       "      <td>USA</td>\n",
       "    </tr>\n",
       "    <tr>\n",
       "      <td>2</td>\n",
       "      <td>London</td>\n",
       "      <td>UCL</td>\n",
       "      <td>UK</td>\n",
       "    </tr>\n",
       "    <tr>\n",
       "      <td>3</td>\n",
       "      <td>London</td>\n",
       "      <td>Kings College</td>\n",
       "      <td>UK</td>\n",
       "    </tr>\n",
       "    <tr>\n",
       "      <td>4</td>\n",
       "      <td>London</td>\n",
       "      <td>Queen Mary University</td>\n",
       "      <td>UK</td>\n",
       "    </tr>\n",
       "    <tr>\n",
       "      <td>5</td>\n",
       "      <td>London</td>\n",
       "      <td>Royal Holloway University</td>\n",
       "      <td>UK</td>\n",
       "    </tr>\n",
       "    <tr>\n",
       "      <td>6</td>\n",
       "      <td>Oxford</td>\n",
       "      <td>Oxford University</td>\n",
       "      <td>NaN</td>\n",
       "    </tr>\n",
       "  </tbody>\n",
       "</table>\n",
       "</div>"
      ],
      "text/plain": [
       "     city                 university country\n",
       "0  Boston    Northeastern University     USA\n",
       "1  Boston          Boston University     USA\n",
       "2  London                        UCL      UK\n",
       "3  London              Kings College      UK\n",
       "4  London      Queen Mary University      UK\n",
       "5  London  Royal Holloway University      UK\n",
       "6  Oxford          Oxford University     NaN"
      ]
     },
     "execution_count": 54,
     "metadata": {},
     "output_type": "execute_result"
    }
   ],
   "source": [
    "pd.merge(df_x, df_y, how='left')"
   ]
  },
  {
   "cell_type": "code",
   "execution_count": 55,
   "metadata": {},
   "outputs": [
    {
     "data": {
      "text/html": [
       "<div>\n",
       "<style scoped>\n",
       "    .dataframe tbody tr th:only-of-type {\n",
       "        vertical-align: middle;\n",
       "    }\n",
       "\n",
       "    .dataframe tbody tr th {\n",
       "        vertical-align: top;\n",
       "    }\n",
       "\n",
       "    .dataframe thead th {\n",
       "        text-align: right;\n",
       "    }\n",
       "</style>\n",
       "<table border=\"1\" class=\"dataframe\">\n",
       "  <thead>\n",
       "    <tr style=\"text-align: right;\">\n",
       "      <th></th>\n",
       "      <th>city</th>\n",
       "      <th>university</th>\n",
       "      <th>country</th>\n",
       "    </tr>\n",
       "  </thead>\n",
       "  <tbody>\n",
       "    <tr>\n",
       "      <td>0</td>\n",
       "      <td>Boston</td>\n",
       "      <td>Northeastern University</td>\n",
       "      <td>USA</td>\n",
       "    </tr>\n",
       "    <tr>\n",
       "      <td>1</td>\n",
       "      <td>Boston</td>\n",
       "      <td>Boston University</td>\n",
       "      <td>USA</td>\n",
       "    </tr>\n",
       "    <tr>\n",
       "      <td>2</td>\n",
       "      <td>London</td>\n",
       "      <td>UCL</td>\n",
       "      <td>UK</td>\n",
       "    </tr>\n",
       "    <tr>\n",
       "      <td>3</td>\n",
       "      <td>London</td>\n",
       "      <td>Kings College</td>\n",
       "      <td>UK</td>\n",
       "    </tr>\n",
       "    <tr>\n",
       "      <td>4</td>\n",
       "      <td>London</td>\n",
       "      <td>Queen Mary University</td>\n",
       "      <td>UK</td>\n",
       "    </tr>\n",
       "    <tr>\n",
       "      <td>5</td>\n",
       "      <td>London</td>\n",
       "      <td>Royal Holloway University</td>\n",
       "      <td>UK</td>\n",
       "    </tr>\n",
       "    <tr>\n",
       "      <td>6</td>\n",
       "      <td>New York</td>\n",
       "      <td>NaN</td>\n",
       "      <td>USA</td>\n",
       "    </tr>\n",
       "  </tbody>\n",
       "</table>\n",
       "</div>"
      ],
      "text/plain": [
       "       city                 university country\n",
       "0    Boston    Northeastern University     USA\n",
       "1    Boston          Boston University     USA\n",
       "2    London                        UCL      UK\n",
       "3    London              Kings College      UK\n",
       "4    London      Queen Mary University      UK\n",
       "5    London  Royal Holloway University      UK\n",
       "6  New York                        NaN     USA"
      ]
     },
     "execution_count": 55,
     "metadata": {},
     "output_type": "execute_result"
    }
   ],
   "source": [
    "pd.merge(df_x, df_y, how='right')"
   ]
  },
  {
   "cell_type": "code",
   "execution_count": 56,
   "metadata": {},
   "outputs": [],
   "source": [
    "df_y = pd.DataFrame({'city_name':['London', 'Boston','New York'],\n",
    "                    'country':['UK','USA','USA']})"
   ]
  },
  {
   "cell_type": "code",
   "execution_count": 57,
   "metadata": {},
   "outputs": [
    {
     "ename": "MergeError",
     "evalue": "No common columns to perform merge on. Merge options: left_on=None, right_on=None, left_index=False, right_index=False",
     "output_type": "error",
     "traceback": [
      "\u001b[1;31m---------------------------------------------------------------------------\u001b[0m",
      "\u001b[1;31mMergeError\u001b[0m                                Traceback (most recent call last)",
      "\u001b[1;32m<ipython-input-57-d18a92dc42f1>\u001b[0m in \u001b[0;36m<module>\u001b[1;34m\u001b[0m\n\u001b[1;32m----> 1\u001b[1;33m \u001b[0mpd\u001b[0m\u001b[1;33m.\u001b[0m\u001b[0mmerge\u001b[0m\u001b[1;33m(\u001b[0m\u001b[0mdf_x\u001b[0m\u001b[1;33m,\u001b[0m \u001b[0mdf_y\u001b[0m\u001b[1;33m,\u001b[0m \u001b[0mhow\u001b[0m\u001b[1;33m=\u001b[0m\u001b[1;34m'left'\u001b[0m\u001b[1;33m)\u001b[0m\u001b[1;33m\u001b[0m\u001b[1;33m\u001b[0m\u001b[0m\n\u001b[0m",
      "\u001b[1;32m~\\Anaconda3\\lib\\site-packages\\pandas\\core\\reshape\\merge.py\u001b[0m in \u001b[0;36mmerge\u001b[1;34m(left, right, how, on, left_on, right_on, left_index, right_index, sort, suffixes, copy, indicator, validate)\u001b[0m\n\u001b[0;32m     79\u001b[0m         \u001b[0mcopy\u001b[0m\u001b[1;33m=\u001b[0m\u001b[0mcopy\u001b[0m\u001b[1;33m,\u001b[0m\u001b[1;33m\u001b[0m\u001b[1;33m\u001b[0m\u001b[0m\n\u001b[0;32m     80\u001b[0m         \u001b[0mindicator\u001b[0m\u001b[1;33m=\u001b[0m\u001b[0mindicator\u001b[0m\u001b[1;33m,\u001b[0m\u001b[1;33m\u001b[0m\u001b[1;33m\u001b[0m\u001b[0m\n\u001b[1;32m---> 81\u001b[1;33m         \u001b[0mvalidate\u001b[0m\u001b[1;33m=\u001b[0m\u001b[0mvalidate\u001b[0m\u001b[1;33m,\u001b[0m\u001b[1;33m\u001b[0m\u001b[1;33m\u001b[0m\u001b[0m\n\u001b[0m\u001b[0;32m     82\u001b[0m     )\n\u001b[0;32m     83\u001b[0m     \u001b[1;32mreturn\u001b[0m \u001b[0mop\u001b[0m\u001b[1;33m.\u001b[0m\u001b[0mget_result\u001b[0m\u001b[1;33m(\u001b[0m\u001b[1;33m)\u001b[0m\u001b[1;33m\u001b[0m\u001b[1;33m\u001b[0m\u001b[0m\n",
      "\u001b[1;32m~\\Anaconda3\\lib\\site-packages\\pandas\\core\\reshape\\merge.py\u001b[0m in \u001b[0;36m__init__\u001b[1;34m(self, left, right, how, on, left_on, right_on, axis, left_index, right_index, sort, suffixes, copy, indicator, validate)\u001b[0m\n\u001b[0;32m    617\u001b[0m             \u001b[0mwarnings\u001b[0m\u001b[1;33m.\u001b[0m\u001b[0mwarn\u001b[0m\u001b[1;33m(\u001b[0m\u001b[0mmsg\u001b[0m\u001b[1;33m,\u001b[0m \u001b[0mUserWarning\u001b[0m\u001b[1;33m)\u001b[0m\u001b[1;33m\u001b[0m\u001b[1;33m\u001b[0m\u001b[0m\n\u001b[0;32m    618\u001b[0m \u001b[1;33m\u001b[0m\u001b[0m\n\u001b[1;32m--> 619\u001b[1;33m         \u001b[0mself\u001b[0m\u001b[1;33m.\u001b[0m\u001b[0m_validate_specification\u001b[0m\u001b[1;33m(\u001b[0m\u001b[1;33m)\u001b[0m\u001b[1;33m\u001b[0m\u001b[1;33m\u001b[0m\u001b[0m\n\u001b[0m\u001b[0;32m    620\u001b[0m \u001b[1;33m\u001b[0m\u001b[0m\n\u001b[0;32m    621\u001b[0m         \u001b[1;31m# note this function has side effects\u001b[0m\u001b[1;33m\u001b[0m\u001b[1;33m\u001b[0m\u001b[1;33m\u001b[0m\u001b[0m\n",
      "\u001b[1;32m~\\Anaconda3\\lib\\site-packages\\pandas\\core\\reshape\\merge.py\u001b[0m in \u001b[0;36m_validate_specification\u001b[1;34m(self)\u001b[0m\n\u001b[0;32m   1188\u001b[0m                             \u001b[0mron\u001b[0m\u001b[1;33m=\u001b[0m\u001b[0mself\u001b[0m\u001b[1;33m.\u001b[0m\u001b[0mright_on\u001b[0m\u001b[1;33m,\u001b[0m\u001b[1;33m\u001b[0m\u001b[1;33m\u001b[0m\u001b[0m\n\u001b[0;32m   1189\u001b[0m                             \u001b[0mlidx\u001b[0m\u001b[1;33m=\u001b[0m\u001b[0mself\u001b[0m\u001b[1;33m.\u001b[0m\u001b[0mleft_index\u001b[0m\u001b[1;33m,\u001b[0m\u001b[1;33m\u001b[0m\u001b[1;33m\u001b[0m\u001b[0m\n\u001b[1;32m-> 1190\u001b[1;33m                             \u001b[0mridx\u001b[0m\u001b[1;33m=\u001b[0m\u001b[0mself\u001b[0m\u001b[1;33m.\u001b[0m\u001b[0mright_index\u001b[0m\u001b[1;33m,\u001b[0m\u001b[1;33m\u001b[0m\u001b[1;33m\u001b[0m\u001b[0m\n\u001b[0m\u001b[0;32m   1191\u001b[0m                         )\n\u001b[0;32m   1192\u001b[0m                     )\n",
      "\u001b[1;31mMergeError\u001b[0m: No common columns to perform merge on. Merge options: left_on=None, right_on=None, left_index=False, right_index=False"
     ]
    }
   ],
   "source": [
    "pd.merge(df_x, df_y, how='left')"
   ]
  },
  {
   "cell_type": "code",
   "execution_count": 58,
   "metadata": {},
   "outputs": [],
   "source": [
    "uni_with_location = pd.merge(df_x, df_y, how='left', left_on='city', right_on='city_name')"
   ]
  },
  {
   "cell_type": "code",
   "execution_count": 59,
   "metadata": {},
   "outputs": [
    {
     "data": {
      "text/html": [
       "<div>\n",
       "<style scoped>\n",
       "    .dataframe tbody tr th:only-of-type {\n",
       "        vertical-align: middle;\n",
       "    }\n",
       "\n",
       "    .dataframe tbody tr th {\n",
       "        vertical-align: top;\n",
       "    }\n",
       "\n",
       "    .dataframe thead th {\n",
       "        text-align: right;\n",
       "    }\n",
       "</style>\n",
       "<table border=\"1\" class=\"dataframe\">\n",
       "  <thead>\n",
       "    <tr style=\"text-align: right;\">\n",
       "      <th></th>\n",
       "      <th>city</th>\n",
       "      <th>university</th>\n",
       "      <th>city_name</th>\n",
       "      <th>country</th>\n",
       "    </tr>\n",
       "  </thead>\n",
       "  <tbody>\n",
       "    <tr>\n",
       "      <td>0</td>\n",
       "      <td>Boston</td>\n",
       "      <td>Northeastern University</td>\n",
       "      <td>Boston</td>\n",
       "      <td>USA</td>\n",
       "    </tr>\n",
       "    <tr>\n",
       "      <td>1</td>\n",
       "      <td>Boston</td>\n",
       "      <td>Boston University</td>\n",
       "      <td>Boston</td>\n",
       "      <td>USA</td>\n",
       "    </tr>\n",
       "    <tr>\n",
       "      <td>2</td>\n",
       "      <td>London</td>\n",
       "      <td>UCL</td>\n",
       "      <td>London</td>\n",
       "      <td>UK</td>\n",
       "    </tr>\n",
       "    <tr>\n",
       "      <td>3</td>\n",
       "      <td>London</td>\n",
       "      <td>Kings College</td>\n",
       "      <td>London</td>\n",
       "      <td>UK</td>\n",
       "    </tr>\n",
       "    <tr>\n",
       "      <td>4</td>\n",
       "      <td>London</td>\n",
       "      <td>Queen Mary University</td>\n",
       "      <td>London</td>\n",
       "      <td>UK</td>\n",
       "    </tr>\n",
       "    <tr>\n",
       "      <td>5</td>\n",
       "      <td>London</td>\n",
       "      <td>Royal Holloway University</td>\n",
       "      <td>London</td>\n",
       "      <td>UK</td>\n",
       "    </tr>\n",
       "    <tr>\n",
       "      <td>6</td>\n",
       "      <td>Oxford</td>\n",
       "      <td>Oxford University</td>\n",
       "      <td>NaN</td>\n",
       "      <td>NaN</td>\n",
       "    </tr>\n",
       "  </tbody>\n",
       "</table>\n",
       "</div>"
      ],
      "text/plain": [
       "     city                 university city_name country\n",
       "0  Boston    Northeastern University    Boston     USA\n",
       "1  Boston          Boston University    Boston     USA\n",
       "2  London                        UCL    London      UK\n",
       "3  London              Kings College    London      UK\n",
       "4  London      Queen Mary University    London      UK\n",
       "5  London  Royal Holloway University    London      UK\n",
       "6  Oxford          Oxford University       NaN     NaN"
      ]
     },
     "execution_count": 59,
     "metadata": {},
     "output_type": "execute_result"
    }
   ],
   "source": [
    "uni_with_location"
   ]
  },
  {
   "cell_type": "markdown",
   "metadata": {},
   "source": [
    "#### merging on multiple columns"
   ]
  },
  {
   "cell_type": "code",
   "execution_count": 60,
   "metadata": {},
   "outputs": [],
   "source": [
    "gdp = pd.DataFrame({'city':['London','London','Boston','Boston','New York','New York'],\n",
    "                    'year':[2017,2018,2017,2018,2017,2018],\n",
    "                    'GDP':[1,2,3,4,5,6]})\n",
    "scholarship = pd.DataFrame({'university':['Queen Mary University','Royal Holloway University','Boston University', 'Queen Mary University','Royal Holloway University','Boston University'],\n",
    "                    'year':[2017,2017,2017,2018,2018,2018],\n",
    "                    'scholarship_avg':[1,2,3,4,5,6]})"
   ]
  },
  {
   "cell_type": "code",
   "execution_count": 61,
   "metadata": {},
   "outputs": [
    {
     "data": {
      "text/html": [
       "<div>\n",
       "<style scoped>\n",
       "    .dataframe tbody tr th:only-of-type {\n",
       "        vertical-align: middle;\n",
       "    }\n",
       "\n",
       "    .dataframe tbody tr th {\n",
       "        vertical-align: top;\n",
       "    }\n",
       "\n",
       "    .dataframe thead th {\n",
       "        text-align: right;\n",
       "    }\n",
       "</style>\n",
       "<table border=\"1\" class=\"dataframe\">\n",
       "  <thead>\n",
       "    <tr style=\"text-align: right;\">\n",
       "      <th></th>\n",
       "      <th>city</th>\n",
       "      <th>year</th>\n",
       "      <th>GDP</th>\n",
       "    </tr>\n",
       "  </thead>\n",
       "  <tbody>\n",
       "    <tr>\n",
       "      <td>0</td>\n",
       "      <td>London</td>\n",
       "      <td>2017</td>\n",
       "      <td>1</td>\n",
       "    </tr>\n",
       "    <tr>\n",
       "      <td>1</td>\n",
       "      <td>London</td>\n",
       "      <td>2018</td>\n",
       "      <td>2</td>\n",
       "    </tr>\n",
       "    <tr>\n",
       "      <td>2</td>\n",
       "      <td>Boston</td>\n",
       "      <td>2017</td>\n",
       "      <td>3</td>\n",
       "    </tr>\n",
       "    <tr>\n",
       "      <td>3</td>\n",
       "      <td>Boston</td>\n",
       "      <td>2018</td>\n",
       "      <td>4</td>\n",
       "    </tr>\n",
       "    <tr>\n",
       "      <td>4</td>\n",
       "      <td>New York</td>\n",
       "      <td>2017</td>\n",
       "      <td>5</td>\n",
       "    </tr>\n",
       "    <tr>\n",
       "      <td>5</td>\n",
       "      <td>New York</td>\n",
       "      <td>2018</td>\n",
       "      <td>6</td>\n",
       "    </tr>\n",
       "  </tbody>\n",
       "</table>\n",
       "</div>"
      ],
      "text/plain": [
       "       city  year  GDP\n",
       "0    London  2017    1\n",
       "1    London  2018    2\n",
       "2    Boston  2017    3\n",
       "3    Boston  2018    4\n",
       "4  New York  2017    5\n",
       "5  New York  2018    6"
      ]
     },
     "execution_count": 61,
     "metadata": {},
     "output_type": "execute_result"
    }
   ],
   "source": [
    "gdp"
   ]
  },
  {
   "cell_type": "code",
   "execution_count": 62,
   "metadata": {},
   "outputs": [
    {
     "data": {
      "text/html": [
       "<div>\n",
       "<style scoped>\n",
       "    .dataframe tbody tr th:only-of-type {\n",
       "        vertical-align: middle;\n",
       "    }\n",
       "\n",
       "    .dataframe tbody tr th {\n",
       "        vertical-align: top;\n",
       "    }\n",
       "\n",
       "    .dataframe thead th {\n",
       "        text-align: right;\n",
       "    }\n",
       "</style>\n",
       "<table border=\"1\" class=\"dataframe\">\n",
       "  <thead>\n",
       "    <tr style=\"text-align: right;\">\n",
       "      <th></th>\n",
       "      <th>university</th>\n",
       "      <th>year</th>\n",
       "      <th>scholarship_avg</th>\n",
       "    </tr>\n",
       "  </thead>\n",
       "  <tbody>\n",
       "    <tr>\n",
       "      <td>0</td>\n",
       "      <td>Queen Mary University</td>\n",
       "      <td>2017</td>\n",
       "      <td>1</td>\n",
       "    </tr>\n",
       "    <tr>\n",
       "      <td>1</td>\n",
       "      <td>Royal Holloway University</td>\n",
       "      <td>2017</td>\n",
       "      <td>2</td>\n",
       "    </tr>\n",
       "    <tr>\n",
       "      <td>2</td>\n",
       "      <td>Boston University</td>\n",
       "      <td>2017</td>\n",
       "      <td>3</td>\n",
       "    </tr>\n",
       "    <tr>\n",
       "      <td>3</td>\n",
       "      <td>Queen Mary University</td>\n",
       "      <td>2018</td>\n",
       "      <td>4</td>\n",
       "    </tr>\n",
       "    <tr>\n",
       "      <td>4</td>\n",
       "      <td>Royal Holloway University</td>\n",
       "      <td>2018</td>\n",
       "      <td>5</td>\n",
       "    </tr>\n",
       "    <tr>\n",
       "      <td>5</td>\n",
       "      <td>Boston University</td>\n",
       "      <td>2018</td>\n",
       "      <td>6</td>\n",
       "    </tr>\n",
       "  </tbody>\n",
       "</table>\n",
       "</div>"
      ],
      "text/plain": [
       "                  university  year  scholarship_avg\n",
       "0      Queen Mary University  2017                1\n",
       "1  Royal Holloway University  2017                2\n",
       "2          Boston University  2017                3\n",
       "3      Queen Mary University  2018                4\n",
       "4  Royal Holloway University  2018                5\n",
       "5          Boston University  2018                6"
      ]
     },
     "execution_count": 62,
     "metadata": {},
     "output_type": "execute_result"
    }
   ],
   "source": [
    "scholarship"
   ]
  },
  {
   "cell_type": "code",
   "execution_count": 63,
   "metadata": {},
   "outputs": [
    {
     "data": {
      "text/html": [
       "<div>\n",
       "<style scoped>\n",
       "    .dataframe tbody tr th:only-of-type {\n",
       "        vertical-align: middle;\n",
       "    }\n",
       "\n",
       "    .dataframe tbody tr th {\n",
       "        vertical-align: top;\n",
       "    }\n",
       "\n",
       "    .dataframe thead th {\n",
       "        text-align: right;\n",
       "    }\n",
       "</style>\n",
       "<table border=\"1\" class=\"dataframe\">\n",
       "  <thead>\n",
       "    <tr style=\"text-align: right;\">\n",
       "      <th></th>\n",
       "      <th>city</th>\n",
       "      <th>university</th>\n",
       "      <th>city_name</th>\n",
       "      <th>country</th>\n",
       "    </tr>\n",
       "  </thead>\n",
       "  <tbody>\n",
       "    <tr>\n",
       "      <td>0</td>\n",
       "      <td>Boston</td>\n",
       "      <td>Northeastern University</td>\n",
       "      <td>Boston</td>\n",
       "      <td>USA</td>\n",
       "    </tr>\n",
       "    <tr>\n",
       "      <td>1</td>\n",
       "      <td>Boston</td>\n",
       "      <td>Boston University</td>\n",
       "      <td>Boston</td>\n",
       "      <td>USA</td>\n",
       "    </tr>\n",
       "    <tr>\n",
       "      <td>2</td>\n",
       "      <td>London</td>\n",
       "      <td>UCL</td>\n",
       "      <td>London</td>\n",
       "      <td>UK</td>\n",
       "    </tr>\n",
       "    <tr>\n",
       "      <td>3</td>\n",
       "      <td>London</td>\n",
       "      <td>Kings College</td>\n",
       "      <td>London</td>\n",
       "      <td>UK</td>\n",
       "    </tr>\n",
       "    <tr>\n",
       "      <td>4</td>\n",
       "      <td>London</td>\n",
       "      <td>Queen Mary University</td>\n",
       "      <td>London</td>\n",
       "      <td>UK</td>\n",
       "    </tr>\n",
       "    <tr>\n",
       "      <td>5</td>\n",
       "      <td>London</td>\n",
       "      <td>Royal Holloway University</td>\n",
       "      <td>London</td>\n",
       "      <td>UK</td>\n",
       "    </tr>\n",
       "    <tr>\n",
       "      <td>6</td>\n",
       "      <td>Oxford</td>\n",
       "      <td>Oxford University</td>\n",
       "      <td>NaN</td>\n",
       "      <td>NaN</td>\n",
       "    </tr>\n",
       "  </tbody>\n",
       "</table>\n",
       "</div>"
      ],
      "text/plain": [
       "     city                 university city_name country\n",
       "0  Boston    Northeastern University    Boston     USA\n",
       "1  Boston          Boston University    Boston     USA\n",
       "2  London                        UCL    London      UK\n",
       "3  London              Kings College    London      UK\n",
       "4  London      Queen Mary University    London      UK\n",
       "5  London  Royal Holloway University    London      UK\n",
       "6  Oxford          Oxford University       NaN     NaN"
      ]
     },
     "execution_count": 63,
     "metadata": {},
     "output_type": "execute_result"
    }
   ],
   "source": [
    "uni_with_location"
   ]
  },
  {
   "cell_type": "code",
   "execution_count": 64,
   "metadata": {},
   "outputs": [
    {
     "data": {
      "text/html": [
       "<div>\n",
       "<style scoped>\n",
       "    .dataframe tbody tr th:only-of-type {\n",
       "        vertical-align: middle;\n",
       "    }\n",
       "\n",
       "    .dataframe tbody tr th {\n",
       "        vertical-align: top;\n",
       "    }\n",
       "\n",
       "    .dataframe thead th {\n",
       "        text-align: right;\n",
       "    }\n",
       "</style>\n",
       "<table border=\"1\" class=\"dataframe\">\n",
       "  <thead>\n",
       "    <tr style=\"text-align: right;\">\n",
       "      <th></th>\n",
       "      <th>university</th>\n",
       "      <th>year</th>\n",
       "      <th>scholarship_avg</th>\n",
       "      <th>city</th>\n",
       "    </tr>\n",
       "  </thead>\n",
       "  <tbody>\n",
       "    <tr>\n",
       "      <td>0</td>\n",
       "      <td>Queen Mary University</td>\n",
       "      <td>2017</td>\n",
       "      <td>1</td>\n",
       "      <td>London</td>\n",
       "    </tr>\n",
       "    <tr>\n",
       "      <td>1</td>\n",
       "      <td>Royal Holloway University</td>\n",
       "      <td>2017</td>\n",
       "      <td>2</td>\n",
       "      <td>London</td>\n",
       "    </tr>\n",
       "    <tr>\n",
       "      <td>2</td>\n",
       "      <td>Boston University</td>\n",
       "      <td>2017</td>\n",
       "      <td>3</td>\n",
       "      <td>Boston</td>\n",
       "    </tr>\n",
       "    <tr>\n",
       "      <td>3</td>\n",
       "      <td>Queen Mary University</td>\n",
       "      <td>2018</td>\n",
       "      <td>4</td>\n",
       "      <td>London</td>\n",
       "    </tr>\n",
       "    <tr>\n",
       "      <td>4</td>\n",
       "      <td>Royal Holloway University</td>\n",
       "      <td>2018</td>\n",
       "      <td>5</td>\n",
       "      <td>London</td>\n",
       "    </tr>\n",
       "    <tr>\n",
       "      <td>5</td>\n",
       "      <td>Boston University</td>\n",
       "      <td>2018</td>\n",
       "      <td>6</td>\n",
       "      <td>Boston</td>\n",
       "    </tr>\n",
       "  </tbody>\n",
       "</table>\n",
       "</div>"
      ],
      "text/plain": [
       "                  university  year  scholarship_avg    city\n",
       "0      Queen Mary University  2017                1  London\n",
       "1  Royal Holloway University  2017                2  London\n",
       "2          Boston University  2017                3  Boston\n",
       "3      Queen Mary University  2018                4  London\n",
       "4  Royal Holloway University  2018                5  London\n",
       "5          Boston University  2018                6  Boston"
      ]
     },
     "execution_count": 64,
     "metadata": {},
     "output_type": "execute_result"
    }
   ],
   "source": [
    "scholarship_with_city = pd.merge(scholarship, uni_with_location[['university','city']],\n",
    "                                how='left')\n",
    "scholarship_with_city"
   ]
  },
  {
   "cell_type": "code",
   "execution_count": 65,
   "metadata": {},
   "outputs": [
    {
     "data": {
      "text/html": [
       "<div>\n",
       "<style scoped>\n",
       "    .dataframe tbody tr th:only-of-type {\n",
       "        vertical-align: middle;\n",
       "    }\n",
       "\n",
       "    .dataframe tbody tr th {\n",
       "        vertical-align: top;\n",
       "    }\n",
       "\n",
       "    .dataframe thead th {\n",
       "        text-align: right;\n",
       "    }\n",
       "</style>\n",
       "<table border=\"1\" class=\"dataframe\">\n",
       "  <thead>\n",
       "    <tr style=\"text-align: right;\">\n",
       "      <th></th>\n",
       "      <th>university</th>\n",
       "      <th>year</th>\n",
       "      <th>scholarship_avg</th>\n",
       "      <th>city</th>\n",
       "      <th>GDP</th>\n",
       "    </tr>\n",
       "  </thead>\n",
       "  <tbody>\n",
       "    <tr>\n",
       "      <td>0</td>\n",
       "      <td>Queen Mary University</td>\n",
       "      <td>2017</td>\n",
       "      <td>1</td>\n",
       "      <td>London</td>\n",
       "      <td>1</td>\n",
       "    </tr>\n",
       "    <tr>\n",
       "      <td>1</td>\n",
       "      <td>Royal Holloway University</td>\n",
       "      <td>2017</td>\n",
       "      <td>2</td>\n",
       "      <td>London</td>\n",
       "      <td>1</td>\n",
       "    </tr>\n",
       "    <tr>\n",
       "      <td>2</td>\n",
       "      <td>Boston University</td>\n",
       "      <td>2017</td>\n",
       "      <td>3</td>\n",
       "      <td>Boston</td>\n",
       "      <td>3</td>\n",
       "    </tr>\n",
       "    <tr>\n",
       "      <td>3</td>\n",
       "      <td>Queen Mary University</td>\n",
       "      <td>2018</td>\n",
       "      <td>4</td>\n",
       "      <td>London</td>\n",
       "      <td>2</td>\n",
       "    </tr>\n",
       "    <tr>\n",
       "      <td>4</td>\n",
       "      <td>Royal Holloway University</td>\n",
       "      <td>2018</td>\n",
       "      <td>5</td>\n",
       "      <td>London</td>\n",
       "      <td>2</td>\n",
       "    </tr>\n",
       "    <tr>\n",
       "      <td>5</td>\n",
       "      <td>Boston University</td>\n",
       "      <td>2018</td>\n",
       "      <td>6</td>\n",
       "      <td>Boston</td>\n",
       "      <td>4</td>\n",
       "    </tr>\n",
       "  </tbody>\n",
       "</table>\n",
       "</div>"
      ],
      "text/plain": [
       "                  university  year  scholarship_avg    city  GDP\n",
       "0      Queen Mary University  2017                1  London    1\n",
       "1  Royal Holloway University  2017                2  London    1\n",
       "2          Boston University  2017                3  Boston    3\n",
       "3      Queen Mary University  2018                4  London    2\n",
       "4  Royal Holloway University  2018                5  London    2\n",
       "5          Boston University  2018                6  Boston    4"
      ]
     },
     "execution_count": 65,
     "metadata": {},
     "output_type": "execute_result"
    }
   ],
   "source": [
    "scholarship_with_city_GDP = pd.merge(scholarship_with_city, gdp,\n",
    "                                    how='left', on=['city','year'])\n",
    "scholarship_with_city_GDP"
   ]
  },
  {
   "cell_type": "code",
   "execution_count": null,
   "metadata": {},
   "outputs": [],
   "source": [
    "# let's do exercise 3-4!"
   ]
  },
  {
   "cell_type": "markdown",
   "metadata": {},
   "source": [
    "#### seaborn plots"
   ]
  },
  {
   "cell_type": "code",
   "execution_count": null,
   "metadata": {
    "collapsed": true
   },
   "outputs": [],
   "source": [
    "import seaborn as sns\n",
    "#https://seaborn.pydata.org/examples/index.html"
   ]
  },
  {
   "cell_type": "code",
   "execution_count": null,
   "metadata": {},
   "outputs": [],
   "source": [
    "scholarship_with_city_GDP.boxplot('GDP')"
   ]
  },
  {
   "cell_type": "code",
   "execution_count": null,
   "metadata": {},
   "outputs": [],
   "source": [
    "sns.boxplot(data=scholarship_with_city_GDP, x='GDP', orient='v')"
   ]
  },
  {
   "cell_type": "code",
   "execution_count": null,
   "metadata": {},
   "outputs": [],
   "source": [
    "scholarship_with_city_GDP.plot.bar(x='city',y='GDP')"
   ]
  },
  {
   "cell_type": "code",
   "execution_count": null,
   "metadata": {},
   "outputs": [],
   "source": [
    "sns.barplot(data=scholarship_with_city_GDP, x='city', y='GDP')"
   ]
  },
  {
   "cell_type": "code",
   "execution_count": null,
   "metadata": {},
   "outputs": [],
   "source": [
    "scholarship_with_city_GDP[['GDP']].hist()"
   ]
  },
  {
   "cell_type": "code",
   "execution_count": null,
   "metadata": {},
   "outputs": [],
   "source": [
    "sns.distplot(scholarship_with_city_GDP['GDP'])"
   ]
  },
  {
   "cell_type": "code",
   "execution_count": null,
   "metadata": {},
   "outputs": [],
   "source": [
    "scholarship_with_city_GDP.plot.scatter(x='scholarship_avg',y='GDP')"
   ]
  },
  {
   "cell_type": "code",
   "execution_count": null,
   "metadata": {},
   "outputs": [],
   "source": [
    "sns.jointplot(data=scholarship_with_city_GDP, x='scholarship_avg',y='GDP')"
   ]
  },
  {
   "cell_type": "code",
   "execution_count": null,
   "metadata": {},
   "outputs": [],
   "source": [
    "sns.lmplot(data=scholarship_with_city_GDP, x='scholarship_avg',y='GDP')"
   ]
  },
  {
   "cell_type": "code",
   "execution_count": null,
   "metadata": {},
   "outputs": [],
   "source": [
    "sns.lmplot(data=scholarship_with_city_GDP, x='scholarship_avg',y='GDP', hue='city')"
   ]
  },
  {
   "cell_type": "markdown",
   "metadata": {},
   "source": [
    "#### interactive plotting with bokeh"
   ]
  },
  {
   "cell_type": "code",
   "execution_count": null,
   "metadata": {},
   "outputs": [],
   "source": [
    "import bokeh\n",
    "from bokeh.io import show, output_notebook\n",
    "from bokeh.plotting import figure, ColumnDataSource\n",
    "from bokeh.models import HoverTool\n",
    "output_notebook()"
   ]
  },
  {
   "cell_type": "code",
   "execution_count": null,
   "metadata": {},
   "outputs": [],
   "source": [
    "p = figure( plot_width=600, plot_height=400)\n",
    "p.scatter(x= scholarship_with_city_GDP[scholarship_with_city_GDP['city']=='London']['scholarship_avg'],\n",
    "           y=scholarship_with_city_GDP[scholarship_with_city_GDP['city']=='London']['GDP'],\n",
    "          color='lime', alpha=0.8, legend='London',\n",
    "          marker='circle', size=15)\n",
    "p.scatter(x= scholarship_with_city_GDP[scholarship_with_city_GDP['city']=='Boston']['scholarship_avg'],\n",
    "           y=scholarship_with_city_GDP[scholarship_with_city_GDP['city']=='Boston']['GDP'],\n",
    "          color='purple', alpha=0.8, legend='Boston',\n",
    "         marker='circle', size=15)\n",
    "p.legend.location = \"top_left\"\n",
    "show(p)"
   ]
  },
  {
   "cell_type": "code",
   "execution_count": null,
   "metadata": {},
   "outputs": [],
   "source": [
    "\n",
    "p = figure( plot_width=600, plot_height=400)\n",
    "p.title.text = 'Click on legend entries to hide the corresponding lines'\n",
    "\n",
    "p.scatter(x= scholarship_with_city_GDP[scholarship_with_city_GDP['city']=='London']['scholarship_avg'],\n",
    "           y=scholarship_with_city_GDP[scholarship_with_city_GDP['city']=='London']['GDP'],\n",
    "          color='lime', alpha=0.8, legend='London',\n",
    "          muted_color='lime', muted_alpha=0.2,\n",
    "          marker='circle', size=15)\n",
    "p.scatter(x= scholarship_with_city_GDP[scholarship_with_city_GDP['city']=='Boston']['scholarship_avg'],\n",
    "           y=scholarship_with_city_GDP[scholarship_with_city_GDP['city']=='Boston']['GDP'],\n",
    "          color='purple', alpha=0.8, legend='Boston',\n",
    "          muted_color='purple', muted_alpha=0.2,\n",
    "         marker='circle', size=15)\n",
    "\n",
    "\n",
    "p.legend.location = \"top_left\"\n",
    "p.legend.click_policy=\"mute\"#\"hide\"\n",
    "\n",
    "show(p)"
   ]
  },
  {
   "cell_type": "code",
   "execution_count": null,
   "metadata": {},
   "outputs": [],
   "source": [
    "\n",
    "p = figure( plot_width=600, plot_height=400)\n",
    "p.title.text = \"Mouse over the dots\"\n",
    "\n",
    "l_df = scholarship_with_city_GDP[scholarship_with_city_GDP['city']=='London']\n",
    "source = ColumnDataSource(l_df)\n",
    "p.scatter(x= 'scholarship_avg',\n",
    "           y='GDP',\n",
    "          color='lime', alpha=0.8, legend='London',\n",
    "          muted_color='lime', muted_alpha=0.2,\n",
    "          marker='circle', size=15,\n",
    "         source = source)\n",
    "\n",
    "hover = HoverTool(tooltips=[(\"uni\", \"@university\"),\n",
    "                            ('year', '@year')])\n",
    "p.add_tools(hover)\n",
    "\n",
    "b_df = scholarship_with_city_GDP[scholarship_with_city_GDP['city']=='Boston']\n",
    "source = ColumnDataSource(b_df)\n",
    "p.scatter(x= 'scholarship_avg',\n",
    "           y='GDP',\n",
    "          color='purple', alpha=0.8, legend='Boston',\n",
    "          muted_color='purple', muted_alpha=0.2,\n",
    "         marker='circle', size=15,\n",
    "         source = source)\n",
    "\n",
    "\n",
    "p.add_tools(hover)\n",
    "p.legend.location = \"top_left\"\n",
    "p.legend.click_policy=\"mute\"#\"hide\"\n",
    "\n",
    "show(p)"
   ]
  },
  {
   "cell_type": "code",
   "execution_count": null,
   "metadata": {},
   "outputs": [],
   "source": [
    "# let's do exercises 5-8!"
   ]
  },
  {
   "cell_type": "markdown",
   "metadata": {},
   "source": [
    "### 1 - exercise\n",
    "\n",
    "Load the zipcode_dict.npy file into a dictionary. <br>\n",
    "Create a list (called df_rows) from the dictionary where each element looks like ['city','zipcode']. For each city there should be a row for all the corresponding zip codes."
   ]
  },
  {
   "cell_type": "code",
   "execution_count": 24,
   "metadata": {},
   "outputs": [
    {
     "data": {
      "text/plain": [
       "[['San Jose', '94088'],\n",
       " ['San Jose', ',94089'],\n",
       " ['San Jose', ',94538'],\n",
       " ['San Jose', ',94560'],\n",
       " ['San Jose', ',95002'],\n",
       " ['San Jose', ',95008'],\n",
       " ['San Jose', ',95013'],\n",
       " ['San Jose', ',95035'],\n",
       " ['San Jose', ',95037'],\n",
       " ['San Jose', ',95050'],\n",
       " ['San Jose', ',95054'],\n",
       " ['San Jose', ',95101'],\n",
       " ['San Jose', ',95103'],\n",
       " ['San Jose', ',95106'],\n",
       " ['San Jose', ',95108'],\n",
       " ['San Jose', ',95109'],\n",
       " ['San Jose', ',95110'],\n",
       " ['San Jose', ',95111'],\n",
       " ['San Jose', ',95112'],\n",
       " ['San Jose', ',95113'],\n",
       " ['San Jose', ',95115'],\n",
       " ['San Jose', ',95116'],\n",
       " ['San Jose', ',95117'],\n",
       " ['San Jose', ',95118'],\n",
       " ['San Jose', ',95119'],\n",
       " ['San Jose', ',95120'],\n",
       " ['San Jose', ',95121'],\n",
       " ['San Jose', ',95122'],\n",
       " ['San Jose', ',95123'],\n",
       " ['San Jose', ',95124'],\n",
       " ['San Jose', ',95125'],\n",
       " ['San Jose', ',95126'],\n",
       " ['San Jose', ',95127'],\n",
       " ['San Jose', ',95128'],\n",
       " ['San Jose', ',95129'],\n",
       " ['San Jose', ',95130'],\n",
       " ['San Jose', ',95131'],\n",
       " ['San Jose', ',95132'],\n",
       " ['San Jose', ',95133'],\n",
       " ['San Jose', ',95134'],\n",
       " ['San Jose', ',95135'],\n",
       " ['San Jose', ',95136'],\n",
       " ['San Jose', ',95138'],\n",
       " ['San Jose', ',95139'],\n",
       " ['San Jose', ',95141'],\n",
       " ['San Jose', ',95148'],\n",
       " ['San Jose', ',95150'],\n",
       " ['San Jose', ',95151'],\n",
       " ['San Jose', ',95152'],\n",
       " ['San Jose', ',95153'],\n",
       " ['San Jose', ',95154'],\n",
       " ['San Jose', ',95155'],\n",
       " ['San Jose', ',95156'],\n",
       " ['San Jose', ',95157'],\n",
       " ['San Jose', ',95158'],\n",
       " ['San Jose', ',95160'],\n",
       " ['San Jose', ',95161'],\n",
       " ['San Jose', ',95164'],\n",
       " ['San Jose', ',95170'],\n",
       " ['San Jose', ',95172'],\n",
       " ['San Jose', ',95173'],\n",
       " ['San Jose', ',95190'],\n",
       " ['San Jose', ',95191'],\n",
       " ['San Jose', ',95192'],\n",
       " ['San Jose', ',95193'],\n",
       " ['San Jose', ',95194'],\n",
       " ['San Jose', ',95196'],\n",
       " ['Redwood City', '94002'],\n",
       " ['Redwood City', ',94061'],\n",
       " ['Redwood City', ',94062'],\n",
       " ['Redwood City', ',94063'],\n",
       " ['Redwood City', ',94064'],\n",
       " ['Redwood City', ',94065'],\n",
       " ['Redwood City', ',94070'],\n",
       " ['Mountain View', '94039'],\n",
       " ['Mountain View', ',94040'],\n",
       " ['Mountain View', ',94041'],\n",
       " ['Mountain View', ',94042'],\n",
       " ['Mountain View', ',94043'],\n",
       " ['Mountain View', ',94085'],\n",
       " ['Mountain View', ',94303'],\n",
       " ['Palo Alto', '94020'],\n",
       " ['Palo Alto', ',94022'],\n",
       " ['Palo Alto', ',94024'],\n",
       " ['Palo Alto', ',94028'],\n",
       " ['Palo Alto', ',94301'],\n",
       " ['Palo Alto', ',94302'],\n",
       " ['Palo Alto', ',94303'],\n",
       " ['Palo Alto', ',94304'],\n",
       " ['Palo Alto', ',94306'],\n",
       " ['Palo Alto', ',95033'],\n",
       " ['San Francisco', '94016'],\n",
       " ['San Francisco', ',94102'],\n",
       " ['San Francisco', ',94103'],\n",
       " ['San Francisco', ',94104'],\n",
       " ['San Francisco', ',94105'],\n",
       " ['San Francisco', ',94107'],\n",
       " ['San Francisco', ',94108'],\n",
       " ['San Francisco', ',94109'],\n",
       " ['San Francisco', ',94110'],\n",
       " ['San Francisco', ',94111'],\n",
       " ['San Francisco', ',94112'],\n",
       " ['San Francisco', ',94114'],\n",
       " ['San Francisco', ',94115'],\n",
       " ['San Francisco', ',94116'],\n",
       " ['San Francisco', ',94117'],\n",
       " ['San Francisco', ',94118'],\n",
       " ['San Francisco', ',94119'],\n",
       " ['San Francisco', ',94120'],\n",
       " ['San Francisco', ',94121'],\n",
       " ['San Francisco', ',94122'],\n",
       " ['San Francisco', ',94123'],\n",
       " ['San Francisco', ',94124'],\n",
       " ['San Francisco', ',94125'],\n",
       " ['San Francisco', ',94126'],\n",
       " ['San Francisco', ',94127'],\n",
       " ['San Francisco', ',94129'],\n",
       " ['San Francisco', ',94130'],\n",
       " ['San Francisco', ',94131'],\n",
       " ['San Francisco', ',94132'],\n",
       " ['San Francisco', ',94133'],\n",
       " ['San Francisco', ',94134'],\n",
       " ['San Francisco', ',94137'],\n",
       " ['San Francisco', ',94139'],\n",
       " ['San Francisco', ',94140'],\n",
       " ['San Francisco', ',94141'],\n",
       " ['San Francisco', ',94142'],\n",
       " ['San Francisco', ',94143'],\n",
       " ['San Francisco', ',94144'],\n",
       " ['San Francisco', ',94145'],\n",
       " ['San Francisco', ',94146'],\n",
       " ['San Francisco', ',94147'],\n",
       " ['San Francisco', ',94151'],\n",
       " ['San Francisco', ',94153'],\n",
       " ['San Francisco', ',94154'],\n",
       " ['San Francisco', ',94156'],\n",
       " ['San Francisco', ',94158'],\n",
       " ['San Francisco', ',94159'],\n",
       " ['San Francisco', ',94160'],\n",
       " ['San Francisco', ',94161'],\n",
       " ['San Francisco', ',94162'],\n",
       " ['San Francisco', ',94163'],\n",
       " ['San Francisco', ',94164'],\n",
       " ['San Francisco', ',94171'],\n",
       " ['San Francisco', ',94172'],\n",
       " ['San Francisco', ',94177'],\n",
       " ['San Francisco', ',94188']]"
      ]
     },
     "execution_count": 24,
     "metadata": {},
     "output_type": "execute_result"
    }
   ],
   "source": [
    "### Your code here\n",
    "zipcode_dict = np.load('zipcode_dict.npy', allow_pickle=True).item()\n",
    "\n",
    "df_rows = []\n",
    "for k,v in zipcode_dict.items():\n",
    "    for vv in v:\n",
    "        df_rows.append([k,vv])\n",
    "        \n",
    "df_rows"
   ]
  },
  {
   "cell_type": "markdown",
   "metadata": {},
   "source": [
    "### 1 - check yourself"
   ]
  },
  {
   "cell_type": "code",
   "execution_count": 25,
   "metadata": {},
   "outputs": [
    {
     "name": "stdout",
     "output_type": "stream",
     "text": [
      "Your list is correct\n"
     ]
    }
   ],
   "source": [
    "if len(df_rows) == 147:\n",
    "    print('Your list is correct')\n",
    "else:\n",
    "    print('Your list is NOT correct')"
   ]
  },
  {
   "cell_type": "markdown",
   "metadata": {},
   "source": [
    "### 2 - exercise\n",
    "\n",
    "- Create a dataframe from the df_rows list, where the columns are called landmark az zipcode <br>\n",
    "- Create a new column in the dataframe called zip that contains the values from the zipcode column without the ',' and converted into integer type\n",
    "- Drop the zipcode column"
   ]
  },
  {
   "cell_type": "code",
   "execution_count": 48,
   "metadata": {},
   "outputs": [
    {
     "data": {
      "text/html": [
       "<div>\n",
       "<style scoped>\n",
       "    .dataframe tbody tr th:only-of-type {\n",
       "        vertical-align: middle;\n",
       "    }\n",
       "\n",
       "    .dataframe tbody tr th {\n",
       "        vertical-align: top;\n",
       "    }\n",
       "\n",
       "    .dataframe thead th {\n",
       "        text-align: right;\n",
       "    }\n",
       "</style>\n",
       "<table border=\"1\" class=\"dataframe\">\n",
       "  <thead>\n",
       "    <tr style=\"text-align: right;\">\n",
       "      <th></th>\n",
       "      <th>landmark</th>\n",
       "      <th>zip</th>\n",
       "    </tr>\n",
       "  </thead>\n",
       "  <tbody>\n",
       "    <tr>\n",
       "      <td>0</td>\n",
       "      <td>San Jose</td>\n",
       "      <td>94088</td>\n",
       "    </tr>\n",
       "    <tr>\n",
       "      <td>1</td>\n",
       "      <td>San Jose</td>\n",
       "      <td>94089</td>\n",
       "    </tr>\n",
       "    <tr>\n",
       "      <td>2</td>\n",
       "      <td>San Jose</td>\n",
       "      <td>94538</td>\n",
       "    </tr>\n",
       "    <tr>\n",
       "      <td>3</td>\n",
       "      <td>San Jose</td>\n",
       "      <td>94560</td>\n",
       "    </tr>\n",
       "    <tr>\n",
       "      <td>4</td>\n",
       "      <td>San Jose</td>\n",
       "      <td>95002</td>\n",
       "    </tr>\n",
       "    <tr>\n",
       "      <td>...</td>\n",
       "      <td>...</td>\n",
       "      <td>...</td>\n",
       "    </tr>\n",
       "    <tr>\n",
       "      <td>142</td>\n",
       "      <td>San Francisco</td>\n",
       "      <td>94164</td>\n",
       "    </tr>\n",
       "    <tr>\n",
       "      <td>143</td>\n",
       "      <td>San Francisco</td>\n",
       "      <td>94171</td>\n",
       "    </tr>\n",
       "    <tr>\n",
       "      <td>144</td>\n",
       "      <td>San Francisco</td>\n",
       "      <td>94172</td>\n",
       "    </tr>\n",
       "    <tr>\n",
       "      <td>145</td>\n",
       "      <td>San Francisco</td>\n",
       "      <td>94177</td>\n",
       "    </tr>\n",
       "    <tr>\n",
       "      <td>146</td>\n",
       "      <td>San Francisco</td>\n",
       "      <td>94188</td>\n",
       "    </tr>\n",
       "  </tbody>\n",
       "</table>\n",
       "<p>147 rows × 2 columns</p>\n",
       "</div>"
      ],
      "text/plain": [
       "          landmark    zip\n",
       "0         San Jose  94088\n",
       "1         San Jose  94089\n",
       "2         San Jose  94538\n",
       "3         San Jose  94560\n",
       "4         San Jose  95002\n",
       "..             ...    ...\n",
       "142  San Francisco  94164\n",
       "143  San Francisco  94171\n",
       "144  San Francisco  94172\n",
       "145  San Francisco  94177\n",
       "146  San Francisco  94188\n",
       "\n",
       "[147 rows x 2 columns]"
      ]
     },
     "execution_count": 48,
     "metadata": {},
     "output_type": "execute_result"
    }
   ],
   "source": [
    "### Your code here\n",
    "zipdf = pd.DataFrame(df_rows, columns=['landmark','zipcode'])\n",
    "zipdf['zip'] = zipdf.apply(lambda x: int(x.zipcode.strip(',')), axis=1)\n",
    "zipdf.drop('zipcode', axis=1, inplace=True)\n",
    "zipdf"
   ]
  },
  {
   "cell_type": "markdown",
   "metadata": {},
   "source": [
    "### 2 - check yourself"
   ]
  },
  {
   "cell_type": "code",
   "execution_count": 45,
   "metadata": {},
   "outputs": [
    {
     "name": "stdout",
     "output_type": "stream",
     "text": [
      "The dataframe is NOT correct\n"
     ]
    }
   ],
   "source": [
    "if zipdf['zip'].dtype==int and len(zipdf) == 147:\n",
    "    print('The dataframe is correct')\n",
    "else:\n",
    "    print('The dataframe is NOT correct')"
   ]
  },
  {
   "cell_type": "markdown",
   "metadata": {},
   "source": [
    "### 3 - exercise\n",
    "Load the trip, station and weather csv-s into pandas dataframes <br>\n",
    "Join them on the appropriate columns and create a final dataframe called merged_df where there is a row for each trip with the weather conditions for the corresponding day in the corresponding city (landmark)"
   ]
  },
  {
   "cell_type": "code",
   "execution_count": 141,
   "metadata": {},
   "outputs": [],
   "source": [
    "### Your code here\n",
    "trip = pd.read_csv('trip.csv')\n",
    "station = pd.read_csv('station.csv')\n",
    "weather = pd.read_csv('weather.csv')"
   ]
  },
  {
   "cell_type": "code",
   "execution_count": 176,
   "metadata": {},
   "outputs": [],
   "source": [
    "merged_df = pd.merge(station, zipdf, how='inner', left_on='zip_code', right_on='zip')\n",
    "merged_df = pd.merge(trip, merged_df, how='inner', left_on='Start Station', right_on='name')\n",
    "merged_df = pd.merge(merged_df, weather, how='inner', on=['date_to_join', 'landmark'])"
   ]
  },
  {
   "cell_type": "markdown",
   "metadata": {},
   "source": [
    "### 3 - check yourself"
   ]
  },
  {
   "cell_type": "code",
   "execution_count": 177,
   "metadata": {},
   "outputs": [
    {
     "name": "stdout",
     "output_type": "stream",
     "text": [
      "The dataframe is correct\n"
     ]
    }
   ],
   "source": [
    "if sorted(merged_df['Events'].value_counts().tolist()) == [498, 793, 10393, 11697, 120232]:\n",
    "    print('The dataframe is correct')\n",
    "else:\n",
    "    print('The dataframe is NOT correct')"
   ]
  },
  {
   "cell_type": "markdown",
   "metadata": {},
   "source": [
    "### 4 - exercise\n",
    "\n",
    "Create a new column in the merged_df called weekend where the value is True for Saturday and Sunday and False for the other days. If you want you can create helper column that contains the name of the day first"
   ]
  },
  {
   "cell_type": "code",
   "execution_count": 181,
   "metadata": {},
   "outputs": [],
   "source": [
    "### Your code here\n",
    "merged_df['day_of_week'] = pd.to_datetime(merged_df['date_to_join']).dt.weekday_name\n",
    "merged_df['weekend'] = merged_df['day_of_week'].apply(lambda x: True if x == 'Saturday' or x == 'Sunday' else False)"
   ]
  },
  {
   "cell_type": "markdown",
   "metadata": {},
   "source": [
    "### 4 - check yourself"
   ]
  },
  {
   "cell_type": "code",
   "execution_count": 182,
   "metadata": {},
   "outputs": [
    {
     "name": "stdout",
     "output_type": "stream",
     "text": [
      "The weekend column is NOT correct\n"
     ]
    }
   ],
   "source": [
    "if sorted(merged_df['weekend'].value_counts().tolist()) == [23046, 121128]:\n",
    "    print('The weekend column is correct')\n",
    "else:\n",
    "    print('The weekend column is NOT correct')"
   ]
  },
  {
   "cell_type": "code",
   "execution_count": 183,
   "metadata": {},
   "outputs": [
    {
     "data": {
      "text/plain": [
       "[120767, 22846]"
      ]
     },
     "execution_count": 183,
     "metadata": {},
     "output_type": "execute_result"
    }
   ],
   "source": [
    "merged_df['weekend'].value_counts().tolist()"
   ]
  },
  {
   "cell_type": "markdown",
   "metadata": {},
   "source": [
    "### 5 - exercise\n",
    "\n",
    "We would like to plot the number of trips taken by Customers/Subscribers by the different weather conditions. Let's start with the Max_Temperature_F! <br>\n",
    "Create a dataframe where we can find for each possible values of the Max_Temperature_F, how many trips were taken by Subscirption Type and weekend. It will be the easiest to plot if the dataframe is in long format: for each temperature value there are 4 rows: weekend - Customer, weeken - Subscriber, weekday - Customer, weekday - Subscriber. Name the columns containing the number of trips to num_trips."
   ]
  },
  {
   "cell_type": "code",
   "execution_count": null,
   "metadata": {
    "collapsed": true,
    "scrolled": true
   },
   "outputs": [],
   "source": [
    "### Your code here\n"
   ]
  },
  {
   "cell_type": "markdown",
   "metadata": {},
   "source": [
    "### 5 - check yourself"
   ]
  },
  {
   "cell_type": "code",
   "execution_count": null,
   "metadata": {
    "scrolled": true
   },
   "outputs": [],
   "source": [
    "if len(toplot) == 165:\n",
    "    print('The dataframe is correct')\n",
    "else:\n",
    "    print('The dataframe is NOT correct')"
   ]
  },
  {
   "cell_type": "markdown",
   "metadata": {},
   "source": [
    "### 6 - exercise\n",
    "Use seaborn to lmplot to plot the relationship between the max temperature and the number of trips taken by Customers/Subscribers! Draw two separate plots for weekends and weekdays."
   ]
  },
  {
   "cell_type": "code",
   "execution_count": null,
   "metadata": {
    "collapsed": true
   },
   "outputs": [],
   "source": [
    "### Your code here\n"
   ]
  },
  {
   "cell_type": "markdown",
   "metadata": {},
   "source": [
    "### 7 - exercise\n",
    "\n",
    "Use a for loop to draw similar charts for all numeric weather conditions!"
   ]
  },
  {
   "cell_type": "code",
   "execution_count": null,
   "metadata": {
    "scrolled": true
   },
   "outputs": [],
   "source": [
    "### Your code here\n"
   ]
  },
  {
   "cell_type": "markdown",
   "metadata": {},
   "source": [
    "### 8 - exercise\n",
    "Similarly as above, loop the numeric weather columns and draw a chart a weekend and a weekday chart for each variable. This time, calculate the customer/subscriber ratio and use the jointplot chart type to show it. You can draw a regression line on this type of chart as well. Check the documention to find the argument for it!"
   ]
  },
  {
   "cell_type": "code",
   "execution_count": null,
   "metadata": {},
   "outputs": [],
   "source": [
    "### Your code here\n"
   ]
  },
  {
   "cell_type": "code",
   "execution_count": null,
   "metadata": {
    "collapsed": true
   },
   "outputs": [],
   "source": []
  }
 ],
 "metadata": {
  "kernelspec": {
   "display_name": "Python 3",
   "language": "python",
   "name": "python3"
  },
  "language_info": {
   "codemirror_mode": {
    "name": "ipython",
    "version": 3
   },
   "file_extension": ".py",
   "mimetype": "text/x-python",
   "name": "python",
   "nbconvert_exporter": "python",
   "pygments_lexer": "ipython3",
   "version": "3.7.4"
  }
 },
 "nbformat": 4,
 "nbformat_minor": 2
}
