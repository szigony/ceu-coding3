{
 "cells": [
  {
   "cell_type": "markdown",
   "metadata": {
    "colab_type": "text",
    "id": "S16FB9jRCI6a"
   },
   "source": [
    "#### operation on column names"
   ]
  },
  {
   "cell_type": "code",
   "execution_count": 0,
   "metadata": {
    "colab": {},
    "colab_type": "code",
    "id": "1i359oMOCI6b",
    "outputId": "b22c11fa-1c66-4365-b4d4-955a2eda87e4"
   },
   "outputs": [
    {
     "data": {
      "text/html": [
       "<div>\n",
       "<style>\n",
       "    .dataframe thead tr:only-child th {\n",
       "        text-align: right;\n",
       "    }\n",
       "\n",
       "    .dataframe thead th {\n",
       "        text-align: left;\n",
       "    }\n",
       "\n",
       "    .dataframe tbody tr th {\n",
       "        vertical-align: top;\n",
       "    }\n",
       "</style>\n",
       "<table border=\"1\" class=\"dataframe\">\n",
       "  <thead>\n",
       "    <tr style=\"text-align: right;\">\n",
       "      <th></th>\n",
       "      <th>a</th>\n",
       "      <th>b</th>\n",
       "      <th>c</th>\n",
       "    </tr>\n",
       "  </thead>\n",
       "  <tbody>\n",
       "    <tr>\n",
       "      <th>0</th>\n",
       "      <td>1</td>\n",
       "      <td>10</td>\n",
       "      <td>apple</td>\n",
       "    </tr>\n",
       "    <tr>\n",
       "      <th>1</th>\n",
       "      <td>1</td>\n",
       "      <td>10</td>\n",
       "      <td>apple</td>\n",
       "    </tr>\n",
       "    <tr>\n",
       "      <th>2</th>\n",
       "      <td>1</td>\n",
       "      <td>11</td>\n",
       "      <td>plum</td>\n",
       "    </tr>\n",
       "    <tr>\n",
       "      <th>3</th>\n",
       "      <td>2</td>\n",
       "      <td>20</td>\n",
       "      <td>pear</td>\n",
       "    </tr>\n",
       "    <tr>\n",
       "      <th>4</th>\n",
       "      <td>2</td>\n",
       "      <td>0</td>\n",
       "      <td>plum</td>\n",
       "    </tr>\n",
       "    <tr>\n",
       "      <th>5</th>\n",
       "      <td>3</td>\n",
       "      <td>0</td>\n",
       "      <td>apple</td>\n",
       "    </tr>\n",
       "    <tr>\n",
       "      <th>6</th>\n",
       "      <td>4</td>\n",
       "      <td>40</td>\n",
       "      <td>apple</td>\n",
       "    </tr>\n",
       "    <tr>\n",
       "      <th>7</th>\n",
       "      <td>5</td>\n",
       "      <td>50</td>\n",
       "      <td>apple</td>\n",
       "    </tr>\n",
       "  </tbody>\n",
       "</table>\n",
       "</div>"
      ],
      "text/plain": [
       "   a   b      c\n",
       "0  1  10  apple\n",
       "1  1  10  apple\n",
       "2  1  11   plum\n",
       "3  2  20   pear\n",
       "4  2   0   plum\n",
       "5  3   0  apple\n",
       "6  4  40  apple\n",
       "7  5  50  apple"
      ]
     },
     "execution_count": 124,
     "metadata": {
      "tags": []
     },
     "output_type": "execute_result"
    }
   ],
   "source": [
    "df = pd.DataFrame({'a':[1,1,1,2,2,3,4,5],\n",
    "                  'b':[10,10,11,20,0,0,40,50],\n",
    "                  'c':['apple','apple','plum','pear','plum','apple','apple','apple']})\n",
    "df"
   ]
  },
  {
   "cell_type": "code",
   "execution_count": 0,
   "metadata": {
    "colab": {},
    "colab_type": "code",
    "id": "SMSU_jjjCI6i",
    "outputId": "cf70fdb3-26d0-4a65-805a-ca27aacaaa34"
   },
   "outputs": [
    {
     "data": {
      "text/plain": [
       "Index(['a', 'b', 'c'], dtype='object')"
      ]
     },
     "execution_count": 125,
     "metadata": {
      "tags": []
     },
     "output_type": "execute_result"
    }
   ],
   "source": [
    "df.columns"
   ]
  },
  {
   "cell_type": "code",
   "execution_count": 0,
   "metadata": {
    "colab": {},
    "colab_type": "code",
    "id": "EU2Ea3WFCI6l"
   },
   "outputs": [],
   "source": [
    "df.rename(columns={'a':'A',\n",
    "                  'b':'B'}, inplace=True)"
   ]
  },
  {
   "cell_type": "code",
   "execution_count": 0,
   "metadata": {
    "colab": {},
    "colab_type": "code",
    "id": "tS_ZrfFzCI6o",
    "outputId": "e8472117-5d12-43d7-ec52-e207b1985359"
   },
   "outputs": [
    {
     "data": {
      "text/plain": [
       "Index(['A', 'B', 'c'], dtype='object')"
      ]
     },
     "execution_count": 127,
     "metadata": {
      "tags": []
     },
     "output_type": "execute_result"
    }
   ],
   "source": [
    "df.columns"
   ]
  },
  {
   "cell_type": "code",
   "execution_count": 0,
   "metadata": {
    "colab": {},
    "colab_type": "code",
    "id": "Bmx8HyalCI6r"
   },
   "outputs": [],
   "source": [
    "df.columns = ['aa','bb','cc']"
   ]
  },
  {
   "cell_type": "code",
   "execution_count": 0,
   "metadata": {
    "colab": {},
    "colab_type": "code",
    "id": "pU3LzP04CI6u",
    "outputId": "98dc9627-db35-46a2-e741-e692f06c0a72"
   },
   "outputs": [
    {
     "data": {
      "text/html": [
       "<div>\n",
       "<style>\n",
       "    .dataframe thead tr:only-child th {\n",
       "        text-align: right;\n",
       "    }\n",
       "\n",
       "    .dataframe thead th {\n",
       "        text-align: left;\n",
       "    }\n",
       "\n",
       "    .dataframe tbody tr th {\n",
       "        vertical-align: top;\n",
       "    }\n",
       "</style>\n",
       "<table border=\"1\" class=\"dataframe\">\n",
       "  <thead>\n",
       "    <tr style=\"text-align: right;\">\n",
       "      <th></th>\n",
       "      <th>aa</th>\n",
       "      <th>bb</th>\n",
       "      <th>cc</th>\n",
       "    </tr>\n",
       "  </thead>\n",
       "  <tbody>\n",
       "    <tr>\n",
       "      <th>0</th>\n",
       "      <td>1</td>\n",
       "      <td>10</td>\n",
       "      <td>apple</td>\n",
       "    </tr>\n",
       "    <tr>\n",
       "      <th>1</th>\n",
       "      <td>1</td>\n",
       "      <td>10</td>\n",
       "      <td>apple</td>\n",
       "    </tr>\n",
       "    <tr>\n",
       "      <th>2</th>\n",
       "      <td>1</td>\n",
       "      <td>11</td>\n",
       "      <td>plum</td>\n",
       "    </tr>\n",
       "    <tr>\n",
       "      <th>3</th>\n",
       "      <td>2</td>\n",
       "      <td>20</td>\n",
       "      <td>pear</td>\n",
       "    </tr>\n",
       "    <tr>\n",
       "      <th>4</th>\n",
       "      <td>2</td>\n",
       "      <td>0</td>\n",
       "      <td>plum</td>\n",
       "    </tr>\n",
       "    <tr>\n",
       "      <th>5</th>\n",
       "      <td>3</td>\n",
       "      <td>0</td>\n",
       "      <td>apple</td>\n",
       "    </tr>\n",
       "    <tr>\n",
       "      <th>6</th>\n",
       "      <td>4</td>\n",
       "      <td>40</td>\n",
       "      <td>apple</td>\n",
       "    </tr>\n",
       "    <tr>\n",
       "      <th>7</th>\n",
       "      <td>5</td>\n",
       "      <td>50</td>\n",
       "      <td>apple</td>\n",
       "    </tr>\n",
       "  </tbody>\n",
       "</table>\n",
       "</div>"
      ],
      "text/plain": [
       "   aa  bb     cc\n",
       "0   1  10  apple\n",
       "1   1  10  apple\n",
       "2   1  11   plum\n",
       "3   2  20   pear\n",
       "4   2   0   plum\n",
       "5   3   0  apple\n",
       "6   4  40  apple\n",
       "7   5  50  apple"
      ]
     },
     "execution_count": 129,
     "metadata": {
      "tags": []
     },
     "output_type": "execute_result"
    }
   ],
   "source": [
    "df"
   ]
  },
  {
   "cell_type": "markdown",
   "metadata": {
    "colab_type": "text",
    "id": "lDyq8XRPCI6x"
   },
   "source": [
    "#### String operations"
   ]
  },
  {
   "cell_type": "code",
   "execution_count": 0,
   "metadata": {
    "colab": {},
    "colab_type": "code",
    "id": "PnUFs5k0CI6y",
    "outputId": "aef44de2-9df0-4129-e7bd-d7768361aa3d"
   },
   "outputs": [
    {
     "data": {
      "text/plain": [
       "'This is an apple '"
      ]
     },
     "execution_count": 134,
     "metadata": {
      "tags": []
     },
     "output_type": "execute_result"
    }
   ],
   "source": [
    "mystring = 'This is an apple '\n",
    "mystring"
   ]
  },
  {
   "cell_type": "code",
   "execution_count": 0,
   "metadata": {
    "colab": {},
    "colab_type": "code",
    "id": "I3-Lgd97CI62",
    "outputId": "d5144b6f-29ad-4834-a9c5-96583e9ce871"
   },
   "outputs": [
    {
     "data": {
      "text/plain": [
       "'This is an apple'"
      ]
     },
     "execution_count": 135,
     "metadata": {
      "tags": []
     },
     "output_type": "execute_result"
    }
   ],
   "source": [
    "mystring.strip(' ')"
   ]
  },
  {
   "cell_type": "code",
   "execution_count": 0,
   "metadata": {
    "colab": {},
    "colab_type": "code",
    "id": "q6LcL3cbCI65",
    "outputId": "37f74461-4364-4ec1-adbb-dc1b912eb4ac"
   },
   "outputs": [
    {
     "data": {
      "text/plain": [
       "' is an apple '"
      ]
     },
     "execution_count": 151,
     "metadata": {
      "tags": []
     },
     "output_type": "execute_result"
    }
   ],
   "source": [
    "mystring.strip('This')"
   ]
  },
  {
   "cell_type": "code",
   "execution_count": 0,
   "metadata": {
    "colab": {},
    "colab_type": "code",
    "id": "73wES_bZCI68",
    "outputId": "0f633ed9-bc12-493a-e6e1-e3d10b002f10"
   },
   "outputs": [
    {
     "data": {
      "text/plain": [
       "'This is an pear '"
      ]
     },
     "execution_count": 214,
     "metadata": {
      "tags": []
     },
     "output_type": "execute_result"
    }
   ],
   "source": [
    "mystring.replace('apple','pear')"
   ]
  },
  {
   "cell_type": "code",
   "execution_count": 0,
   "metadata": {
    "colab": {},
    "colab_type": "code",
    "id": "wD3uRKssCI6_",
    "outputId": "fc4da26b-74b0-458e-a2a4-179b498db8c5"
   },
   "outputs": [
    {
     "data": {
      "text/plain": [
       "['This', 'is', 'an', 'apple', '']"
      ]
     },
     "execution_count": 136,
     "metadata": {
      "tags": []
     },
     "output_type": "execute_result"
    }
   ],
   "source": [
    "mystring.split(' ')"
   ]
  },
  {
   "cell_type": "code",
   "execution_count": 0,
   "metadata": {
    "colab": {},
    "colab_type": "code",
    "id": "Nn7_ITUtCI7D",
    "outputId": "30b31e88-05dc-46c8-bbda-09a3629a638c"
   },
   "outputs": [
    {
     "data": {
      "text/plain": [
       "['This', 'is', 'an', 'pear']"
      ]
     },
     "execution_count": 215,
     "metadata": {
      "tags": []
     },
     "output_type": "execute_result"
    }
   ],
   "source": [
    "mystring.replace('apple','pear').strip(' ').split(' ')"
   ]
  },
  {
   "cell_type": "code",
   "execution_count": 0,
   "metadata": {
    "colab": {},
    "colab_type": "code",
    "id": "QFMP6RqTCI7H",
    "outputId": "460eda8a-e0c8-4d5e-807e-33a93854cd8f"
   },
   "outputs": [
    {
     "data": {
      "text/plain": [
       "'T'"
      ]
     },
     "execution_count": 146,
     "metadata": {
      "tags": []
     },
     "output_type": "execute_result"
    }
   ],
   "source": [
    "one_char = mystring[0]\n",
    "one_char"
   ]
  },
  {
   "cell_type": "code",
   "execution_count": 0,
   "metadata": {
    "colab": {},
    "colab_type": "code",
    "id": "SqjR4dkYCI7K",
    "outputId": "7be102fb-5bb8-4c47-8ec9-ec396f24150d"
   },
   "outputs": [
    {
     "data": {
      "text/plain": [
       "(False, True)"
      ]
     },
     "execution_count": 147,
     "metadata": {
      "tags": []
     },
     "output_type": "execute_result"
    }
   ],
   "source": [
    "one_char.islower(), one_char.isupper()"
   ]
  },
  {
   "cell_type": "code",
   "execution_count": 0,
   "metadata": {
    "colab": {},
    "colab_type": "code",
    "id": "u22UUmiHCI7O",
    "outputId": "12e51d29-13bd-49b3-f186-6003b1316715"
   },
   "outputs": [
    {
     "data": {
      "text/plain": [
       "'THIS IS AN APPLE '"
      ]
     },
     "execution_count": 148,
     "metadata": {
      "tags": []
     },
     "output_type": "execute_result"
    }
   ],
   "source": [
    "mystring.upper()"
   ]
  },
  {
   "cell_type": "code",
   "execution_count": 0,
   "metadata": {
    "colab": {},
    "colab_type": "code",
    "id": "lcYmr2Z-CI7R",
    "outputId": "68351dd7-4b93-40a8-92cc-534de29e96f4"
   },
   "outputs": [
    {
     "data": {
      "text/plain": [
       "'This is an apple'"
      ]
     },
     "execution_count": 150,
     "metadata": {
      "tags": []
     },
     "output_type": "execute_result"
    }
   ],
   "source": [
    "' '.join(['This', 'is', 'an', 'apple'])"
   ]
  },
  {
   "cell_type": "markdown",
   "metadata": {
    "colab_type": "text",
    "id": "NXpNDG3DCI7U"
   },
   "source": [
    "#### Regular expressions"
   ]
  },
  {
   "cell_type": "markdown",
   "metadata": {
    "colab_type": "text",
    "id": "Hng_aLQxCI7V"
   },
   "source": [
    "Search"
   ]
  },
  {
   "cell_type": "code",
   "execution_count": 0,
   "metadata": {
    "colab": {},
    "colab_type": "code",
    "collapsed": true,
    "id": "l626OlNYCI7X"
   },
   "outputs": [],
   "source": [
    "import re"
   ]
  },
  {
   "cell_type": "code",
   "execution_count": 0,
   "metadata": {
    "colab": {},
    "colab_type": "code",
    "collapsed": true,
    "id": "l0NFPcFWCI7f"
   },
   "outputs": [],
   "source": [
    "pattern = 'pattern'\n",
    "text = 'Is the pattern in here?'\n",
    "match = re.search(pattern, text)"
   ]
  },
  {
   "cell_type": "code",
   "execution_count": 0,
   "metadata": {
    "colab": {},
    "colab_type": "code",
    "id": "NRaPcegCCI7j",
    "outputId": "42cb1bc8-19e9-4d02-a24e-d80aa8b44951"
   },
   "outputs": [
    {
     "data": {
      "text/plain": [
       "<_sre.SRE_Match object; span=(7, 14), match='pattern'>"
      ]
     },
     "execution_count": 175,
     "metadata": {
      "tags": []
     },
     "output_type": "execute_result"
    }
   ],
   "source": [
    "match"
   ]
  },
  {
   "cell_type": "code",
   "execution_count": 0,
   "metadata": {
    "colab": {},
    "colab_type": "code",
    "id": "sqZa53G-CI7m",
    "outputId": "fa1b28ce-880c-4377-ba99-efa21a710f0b"
   },
   "outputs": [
    {
     "data": {
      "text/plain": [
       "(7, 14)"
      ]
     },
     "execution_count": 176,
     "metadata": {
      "tags": []
     },
     "output_type": "execute_result"
    }
   ],
   "source": [
    "match.start(), match.end()"
   ]
  },
  {
   "cell_type": "code",
   "execution_count": 0,
   "metadata": {
    "colab": {},
    "colab_type": "code",
    "id": "zbMQNj1ECI7p",
    "outputId": "f101d96b-bd15-41dd-aa35-928b038f5564"
   },
   "outputs": [
    {
     "data": {
      "text/plain": [
       "'pattern'"
      ]
     },
     "execution_count": 167,
     "metadata": {
      "tags": []
     },
     "output_type": "execute_result"
    }
   ],
   "source": [
    "match.group()"
   ]
  },
  {
   "cell_type": "code",
   "execution_count": 0,
   "metadata": {
    "colab": {},
    "colab_type": "code",
    "id": "Q3otOf23CI7s",
    "outputId": "ae9d4842-f94d-4d88-aa2a-00308b75b6e7"
   },
   "outputs": [
    {
     "name": "stdout",
     "output_type": "stream",
     "text": [
      "Pattern is found\n"
     ]
    }
   ],
   "source": [
    "if match:\n",
    "    print('Pattern is found')"
   ]
  },
  {
   "cell_type": "markdown",
   "metadata": {
    "colab_type": "text",
    "id": "Oa3U81AkCI7v"
   },
   "source": [
    "Multiple occurrences"
   ]
  },
  {
   "cell_type": "code",
   "execution_count": 0,
   "metadata": {
    "colab": {},
    "colab_type": "code",
    "collapsed": true,
    "id": "_h4uz_tZCI7v"
   },
   "outputs": [],
   "source": [
    "pattern = 'er'\n",
    "text = 'There can be multiple patterns as well'"
   ]
  },
  {
   "cell_type": "code",
   "execution_count": 0,
   "metadata": {
    "colab": {},
    "colab_type": "code",
    "id": "fc45FkzbCI7y",
    "outputId": "dea6fb68-9401-425c-cb47-c03bb78a1c4c"
   },
   "outputs": [
    {
     "data": {
      "text/plain": [
       "['er', 'er']"
      ]
     },
     "execution_count": 180,
     "metadata": {
      "tags": []
     },
     "output_type": "execute_result"
    }
   ],
   "source": [
    "all_matches = re.findall(pattern, text)\n",
    "all_matches"
   ]
  },
  {
   "cell_type": "markdown",
   "metadata": {
    "colab_type": "text",
    "id": "U6XdRuE8CI70"
   },
   "source": [
    "Finding regular expressions"
   ]
  },
  {
   "cell_type": "code",
   "execution_count": 0,
   "metadata": {
    "colab": {},
    "colab_type": "code",
    "id": "DjtVskxICI71",
    "outputId": "6cea3982-28a6-4c64-8685-b4551ecc4ba5"
   },
   "outputs": [
    {
     "name": "stdout",
     "output_type": "stream",
     "text": [
      "abbaaabbbbaaaaa\n",
      "ab* ['abb', 'a', 'a', 'abbbb', 'a', 'a', 'a', 'a', 'a']\n",
      "ab+ ['abb', 'abbbb']\n",
      "ab? ['ab', 'a', 'a', 'ab', 'a', 'a', 'a', 'a', 'a']\n",
      "ab{3} ['abbb']\n"
     ]
    }
   ],
   "source": [
    "text = 'abbaaabbbbaaaaa'\n",
    "patterns = ['ab*',     # a followed by zero or more b\n",
    "            'ab+',     # a followed by one or more b\n",
    "            'ab?',     # a followed by zero or one b\n",
    "            'ab{3}']   # a followed by three b\n",
    "\n",
    "print(text)\n",
    "for p in patterns:\n",
    "    print(p, re.findall(p, text))"
   ]
  },
  {
   "cell_type": "code",
   "execution_count": 0,
   "metadata": {
    "colab": {},
    "colab_type": "code",
    "id": "5yFAAyjbCI74",
    "outputId": "188f1775-e86a-4938-c4fd-d0cb2890d80d"
   },
   "outputs": [
    {
     "name": "stdout",
     "output_type": "stream",
     "text": [
      "ab aag AB somethingAAG\n",
      "[ab]+ ['ab', 'aa']\n",
      "[AB]+ ['AB', 'AA']\n",
      "[a-z]+ ['ab', 'aag', 'something']\n",
      "[A-Z]+ ['AB', 'AAG']\n",
      "something[A-Z] ['somethingA']\n",
      "[a-zA-Z]+ ['ab', 'aag', 'AB', 'somethingAAG']\n"
     ]
    }
   ],
   "source": [
    "text = 'ab aag AB somethingAAG'\n",
    "patterns = ['[ab]+',     # either a or b\n",
    "            '[AB]+',     # either a or b upper case\n",
    "            '[a-z]+',     # any lower case letter\n",
    "            '[A-Z]+',    # any upper case letter\n",
    "            'something[A-Z]',\n",
    "            '[a-zA-Z]+']  \n",
    "\n",
    "print(text)\n",
    "for p in patterns:\n",
    "    print(p, re.findall(p, text))"
   ]
  },
  {
   "cell_type": "code",
   "execution_count": 0,
   "metadata": {
    "colab": {},
    "colab_type": "code",
    "id": "Mv4RGE9HCI77",
    "outputId": "db8e5435-3768-4ca0-fceb-345a8ad05fc5"
   },
   "outputs": [
    {
     "name": "stdout",
     "output_type": "stream",
     "text": [
      "You can. also find - without\n",
      "[^-. ]+ ['You', 'can', 'also', 'find', 'without']\n",
      "a. ['an', 'al']\n",
      "f.*d ['find']\n"
     ]
    }
   ],
   "source": [
    "text = 'You can. also find - without'\n",
    "patterns = ['[^-. ]+',  # sequences without -, ., or space]  \n",
    "            'a.', # a followed by any charachter\n",
    "            'f.*d'] # f followed by any charachters ending with d\n",
    "\n",
    "print(text)\n",
    "for p in patterns:\n",
    "    print(p, re.findall(p, text))"
   ]
  },
  {
   "cell_type": "code",
   "execution_count": 0,
   "metadata": {
    "colab": {},
    "colab_type": "code",
    "id": "mLQ7S-_NCI7-",
    "outputId": "97bab414-5e0f-453a-f108-29e43d454e70"
   },
   "outputs": [
    {
     "name": "stdout",
     "output_type": "stream",
     "text": [
      "Finding different types 1,2,3\n",
      "\\d+ ['1', '2', '3']\n",
      "\\D+ ['Finding different types ', ',', ',']\n",
      "\\s+ [' ', ' ', ' ']\n",
      "\\S+ ['Finding', 'different', 'types', '1,2,3']\n",
      "\\w+ ['Finding', 'different', 'types', '1', '2', '3']\n",
      "\\W+ [' ', ' ', ' ', ',', ',']\n"
     ]
    }
   ],
   "source": [
    "text = 'Finding different types 1,2,3'\n",
    "patterns = [r'\\d+', # sequence of digits\n",
    "                r'\\D+', # sequence of non-digits\n",
    "                r'\\s+', # sequence of whitespace\n",
    "                r'\\S+', # sequence of non-whitespace\n",
    "                r'\\w+', # alphanumeric characters\n",
    "                r'\\W+', # non-alphanumeric\n",
    "           ]\n",
    "\n",
    "print(text)\n",
    "for p in patterns:\n",
    "    print(p, re.findall(p, text))"
   ]
  },
  {
   "cell_type": "markdown",
   "metadata": {
    "colab_type": "text",
    "id": "2xWNA_YsCI8A"
   },
   "source": [
    "#### List comprehension"
   ]
  },
  {
   "cell_type": "code",
   "execution_count": 0,
   "metadata": {
    "colab": {},
    "colab_type": "code",
    "id": "S1HkQz7YCI8B",
    "outputId": "54389ee7-2b05-40dd-f54d-4fec7749c56f"
   },
   "outputs": [
    {
     "data": {
      "text/plain": [
       "['Adam', 'Bruno', 'Cecile']"
      ]
     },
     "execution_count": 208,
     "metadata": {
      "tags": []
     },
     "output_type": "execute_result"
    }
   ],
   "source": [
    "mylist = ['adam','bruno','cecile']\n",
    "new_list = []\n",
    "for l in mylist:\n",
    "    new_list.append(l.capitalize())\n",
    "new_list"
   ]
  },
  {
   "cell_type": "code",
   "execution_count": 0,
   "metadata": {
    "colab": {},
    "colab_type": "code",
    "id": "MjB5FHZzCI8E",
    "outputId": "c29bf13b-5d07-4ceb-be28-811c61f5c824"
   },
   "outputs": [
    {
     "data": {
      "text/plain": [
       "['Adam', 'Bruno', 'Cecile']"
      ]
     },
     "execution_count": 209,
     "metadata": {
      "tags": []
     },
     "output_type": "execute_result"
    }
   ],
   "source": [
    "[x.capitalize() for x in mylist]"
   ]
  },
  {
   "cell_type": "code",
   "execution_count": 0,
   "metadata": {
    "colab": {},
    "colab_type": "code",
    "id": "OSjW7Ti2CI8I",
    "outputId": "7ab180b7-f0c3-4864-9528-f32d558fd599"
   },
   "outputs": [
    {
     "data": {
      "text/plain": [
       "['Bruno', 'Cecile']"
      ]
     },
     "execution_count": 212,
     "metadata": {
      "tags": []
     },
     "output_type": "execute_result"
    }
   ],
   "source": [
    "[x.capitalize() for x in mylist if not x.startswith('a')]"
   ]
  },
  {
   "cell_type": "code",
   "execution_count": 0,
   "metadata": {
    "colab": {},
    "colab_type": "code",
    "id": "SEWRMvJ7CI8N",
    "outputId": "91317499-5797-4642-d1dd-12b83a34d22d"
   },
   "outputs": [
    {
     "data": {
      "text/plain": [
       "[['a', 'a'], ['u', 'o'], ['e', 'i', 'e']]"
      ]
     },
     "execution_count": 213,
     "metadata": {
      "tags": []
     },
     "output_type": "execute_result"
    }
   ],
   "source": [
    "[re.findall('[aeiou]', x) for x in mylist]"
   ]
  },
  {
   "cell_type": "markdown",
   "metadata": {
    "colab_type": "text",
    "id": "RZ7rEVoACI8P"
   },
   "source": [
    "## Excluding days with extreme weather conditions\n",
    "\n",
    "### 1 - exercise\n",
    "\n",
    "Import the pandas library and load the weather_filled.csv file you downloaded from the class 5 folder into a dataframe called weather. <br>\n",
    "Check the name of the columns. Is the nameing consistent? "
   ]
  },
  {
   "cell_type": "code",
   "execution_count": 8,
   "metadata": {
    "colab": {},
    "colab_type": "code",
    "id": "7RmjVADrCI8Q",
    "outputId": "c07e707a-7720-47cc-b760-e5f8d31e692b"
   },
   "outputs": [
    {
     "data": {
      "text/plain": [
       "Index(['Date', 'Max_Temperature_F', 'Mean_Temperature_F', 'Min_TemperatureF',\n",
       "       'Max_Dew_Point_F', 'MeanDew_Point_F', 'Min_Dewpoint_F', 'Max_Humidity',\n",
       "       'Mean_Humidity ', 'Min_Humidity ', 'Max_Sea_Level_Pressure_In ',\n",
       "       'Mean_Sea_Level_Pressure_In ', 'Min_Sea_Level_Pressure_In ',\n",
       "       'Max_Visibility_Miles ', 'Mean_Visibility_Miles ',\n",
       "       'Min_Visibility_Miles ', 'Max_Wind_Speed_MPH ', 'Mean_Wind_Speed_MPH ',\n",
       "       'Max_Gust_Speed_MPH', 'Precipitation_In ', 'Cloud_Cover ', 'Events',\n",
       "       'Wind_Dir_Degrees', 'landmark'],\n",
       "      dtype='object')"
      ]
     },
     "execution_count": 8,
     "metadata": {},
     "output_type": "execute_result"
    }
   ],
   "source": [
    "# Your code here\n",
    "import pandas as pd\n",
    "weather = pd.read_csv('weather_filled.csv')\n",
    "weather.columns"
   ]
  },
  {
   "cell_type": "code",
   "execution_count": 9,
   "metadata": {},
   "outputs": [],
   "source": [
    "mylist = weather.columns"
   ]
  },
  {
   "cell_type": "code",
   "execution_count": 11,
   "metadata": {},
   "outputs": [],
   "source": [
    "nospace_colnames = [x.strip(' ') for x in mylist]"
   ]
  },
  {
   "cell_type": "code",
   "execution_count": 22,
   "metadata": {},
   "outputs": [],
   "source": [
    "to_correct = 'MeanDewPoint_F'"
   ]
  },
  {
   "cell_type": "code",
   "execution_count": 14,
   "metadata": {},
   "outputs": [],
   "source": [
    "import re"
   ]
  },
  {
   "cell_type": "code",
   "execution_count": 23,
   "metadata": {},
   "outputs": [
    {
     "data": {
      "text/plain": [
       "'Mean_DewPoint_F'"
      ]
     },
     "execution_count": 23,
     "metadata": {},
     "output_type": "execute_result"
    }
   ],
   "source": [
    "match = re.search('[a-z][A-Z]+', to_correct)\n",
    "error_chars = match.group()\n",
    "to_correct.replace(error_chars, error_chars[0] + '_' + error_chars[1])"
   ]
  },
  {
   "cell_type": "code",
   "execution_count": 31,
   "metadata": {},
   "outputs": [],
   "source": [
    "corrected_colnames = []\n",
    "for colname in mylist:\n",
    "    error_list = re.findall('[a-z][A-Z]+', colname)\n",
    "    for error_chars in error_list:\n",
    "        colname = colname.replace(error_chars, \n",
    "                                  error_chars[0] + '_' + error_chars[1])\n",
    "    corrected_colnames.append(colname.strip(' '))"
   ]
  },
  {
   "cell_type": "code",
   "execution_count": 32,
   "metadata": {},
   "outputs": [
    {
     "data": {
      "text/plain": [
       "['Date',\n",
       " 'Max_Temperature_F',\n",
       " 'Mean_Temperature_F',\n",
       " 'Min_Temperature_F',\n",
       " 'Max_Dew_Point_F',\n",
       " 'Mean_Dew_Point_F',\n",
       " 'Min_Dewpoint_F',\n",
       " 'Max_Humidity',\n",
       " 'Mean_Humidity',\n",
       " 'Min_Humidity',\n",
       " 'Max_Sea_Level_Pressure_In',\n",
       " 'Mean_Sea_Level_Pressure_In',\n",
       " 'Min_Sea_Level_Pressure_In',\n",
       " 'Max_Visibility_Miles',\n",
       " 'Mean_Visibility_Miles',\n",
       " 'Min_Visibility_Miles',\n",
       " 'Max_Wind_Speed_MPH',\n",
       " 'Mean_Wind_Speed_MPH',\n",
       " 'Max_Gust_Speed_MPH',\n",
       " 'Precipitation_In',\n",
       " 'Cloud_Cover',\n",
       " 'Events',\n",
       " 'Wind_Dir_Degrees',\n",
       " 'landmark']"
      ]
     },
     "execution_count": 32,
     "metadata": {},
     "output_type": "execute_result"
    }
   ],
   "source": [
    "corrected_colnames"
   ]
  },
  {
   "cell_type": "markdown",
   "metadata": {
    "colab_type": "text",
    "id": "qFE6Vk99CI8T"
   },
   "source": [
    "### 1 - check yourself\n",
    "\n",
    "No, there are column names with an extra space at the end of the name <br>\n",
    "and column names where the underscore is missing from between the words\n",
    "\n",
    "### 2 - exercise\n",
    "\n",
    "Correct these mistakes! You can choose how to do it, but at the end remove the space from the column names and put underscores wherever needed. <br><br> You can loop through the column names and use string operations to insert the underscore where needed. You can also use the re module to find these occurrences. With the re module you can do the replacement in one step as well. <br>\n",
    "You can rename the columns inside the loop or you can build a list of the new column names and assign this new list as the new column names. You can use list comprehension for this."
   ]
  },
  {
   "cell_type": "code",
   "execution_count": null,
   "metadata": {},
   "outputs": [],
   "source": [
    "### version 1"
   ]
  },
  {
   "cell_type": "code",
   "execution_count": 1,
   "metadata": {},
   "outputs": [],
   "source": [
    "import pandas as pd\n",
    "weather = pd.read_csv('weather_filled.csv')"
   ]
  },
  {
   "cell_type": "code",
   "execution_count": 2,
   "metadata": {},
   "outputs": [],
   "source": [
    "c = 'MeanDew_Point_F'"
   ]
  },
  {
   "cell_type": "code",
   "execution_count": 3,
   "metadata": {
    "collapsed": true
   },
   "outputs": [
    {
     "name": "stdout",
     "output_type": "stream",
     "text": [
      "MeanDew_Point_F\n",
      "MeanDew_Point_F\n",
      "MeanDew_Point_F\n",
      "MeanDew_Point_F\n",
      "MeanDew_Point_F\n",
      "MeanDew_Point_F\n",
      "MeanDew_Point_F\n",
      "MeanDew_Point_F\n",
      "MeanDew_Point_F\n",
      "MeanDew_Point_F\n",
      "MeanDew_Point_F\n",
      "MeanDew_Point_F\n",
      "MeanDew_Point_F\n",
      "MeanDew_Point_F\n"
     ]
    }
   ],
   "source": [
    "for i in range(len(c) - 1):\n",
    "    print(c)"
   ]
  },
  {
   "cell_type": "code",
   "execution_count": 4,
   "metadata": {
    "collapsed": true
   },
   "outputs": [
    {
     "name": "stdout",
     "output_type": "stream",
     "text": [
      "M e False False\n",
      "e a True False\n",
      "a n True False\n",
      "n D True True\n",
      "D e False False\n",
      "e w True False\n",
      "w _ True False\n",
      "_ P False True\n",
      "P o False False\n",
      "o i True False\n",
      "i n True False\n",
      "n t True False\n",
      "t _ True False\n",
      "_ F False True\n"
     ]
    }
   ],
   "source": [
    "for i in range(len(c) - 1):\n",
    "    print(c[i], c[i+1], c[i].islower(), c[i+1].isupper())"
   ]
  },
  {
   "cell_type": "code",
   "execution_count": 5,
   "metadata": {
    "collapsed": true
   },
   "outputs": [
    {
     "name": "stdout",
     "output_type": "stream",
     "text": [
      "M\n",
      "Me\n",
      "Mea\n",
      "XXXXXX\n",
      "Mean_\n",
      "Mean_D\n",
      "Mean_De\n",
      "Mean_Dew\n",
      "Mean_Dew_\n",
      "Mean_Dew_P\n",
      "Mean_Dew_Po\n",
      "Mean_Dew_Poi\n",
      "Mean_Dew_Poin\n",
      "Mean_Dew_Point\n",
      "Mean_Dew_Point_\n"
     ]
    }
   ],
   "source": [
    "new_c = ''\n",
    "for i in range(len(c) - 1):\n",
    "    if c[i].islower() and c[i+1].isupper():\n",
    "        new_c += c[i] + '_'\n",
    "        print('XXXXXX')\n",
    "    else:\n",
    "        new_c += c[i]\n",
    "    print(new_c)"
   ]
  },
  {
   "cell_type": "code",
   "execution_count": 7,
   "metadata": {
    "collapsed": true
   },
   "outputs": [
    {
     "data": {
      "text/plain": [
       "'Mean_Dew_Point_FF'"
      ]
     },
     "execution_count": 7,
     "metadata": {},
     "output_type": "execute_result"
    }
   ],
   "source": [
    "new_c += c[-1]\n",
    "new_c"
   ]
  },
  {
   "cell_type": "code",
   "execution_count": 3,
   "metadata": {
    "colab": {},
    "colab_type": "code",
    "id": "A9G_85ksCI8T"
   },
   "outputs": [],
   "source": [
    "\n",
    "for c in weather.columns:\n",
    "    new_c = ''\n",
    "    for i in range(len(c) - 1):\n",
    "        if c[i].islower() and c[i+1].isupper():\n",
    "            new_c += c[i] + '_'\n",
    "        else:\n",
    "            new_c += c[i]\n",
    "    new_c += c[-1]\n",
    "    weather.rename(columns={c:new_c.strip(' ')}, inplace=True)\n"
   ]
  },
  {
   "cell_type": "code",
   "execution_count": null,
   "metadata": {},
   "outputs": [],
   "source": [
    "### version 2"
   ]
  },
  {
   "cell_type": "code",
   "execution_count": 10,
   "metadata": {},
   "outputs": [],
   "source": [
    "import re\n",
    "weather = pd.read_csv('weather_filled.csv')"
   ]
  },
  {
   "cell_type": "code",
   "execution_count": 11,
   "metadata": {},
   "outputs": [],
   "source": [
    "c = 'MeanDew_Point_F'"
   ]
  },
  {
   "cell_type": "code",
   "execution_count": 12,
   "metadata": {},
   "outputs": [
    {
     "data": {
      "text/plain": [
       "['nD']"
      ]
     },
     "execution_count": 12,
     "metadata": {},
     "output_type": "execute_result"
    }
   ],
   "source": [
    "re.findall(\"[a-z][A-Z]\", c)"
   ]
  },
  {
   "cell_type": "code",
   "execution_count": 13,
   "metadata": {},
   "outputs": [
    {
     "data": {
      "text/plain": [
       "'Mean_Dew_Point_F'"
      ]
     },
     "execution_count": 13,
     "metadata": {},
     "output_type": "execute_result"
    }
   ],
   "source": [
    "mu = 'nD'\n",
    "c.replace(mu, mu[0] + '_' + mu[1])"
   ]
  },
  {
   "cell_type": "code",
   "execution_count": 0,
   "metadata": {
    "colab": {},
    "colab_type": "code",
    "id": "g4m-xPPOCI8V"
   },
   "outputs": [],
   "source": [
    "\n",
    "\n",
    "new_names = []\n",
    "for c in weather.columns:\n",
    "    missing_underscores = re.findall(\"[a-z][A-Z]\", c)\n",
    "    for mu in missing_underscores:\n",
    "        c = c.replace(mu, mu[0] + '_' + mu[1])\n",
    "    new_names.append(c.strip(' '))\n",
    "weather.columns = new_names\n",
    "\n"
   ]
  },
  {
   "cell_type": "code",
   "execution_count": null,
   "metadata": {},
   "outputs": [],
   "source": [
    "### version 3"
   ]
  },
  {
   "cell_type": "code",
   "execution_count": 14,
   "metadata": {},
   "outputs": [],
   "source": [
    "c = 'MeanDew_Point_F'"
   ]
  },
  {
   "cell_type": "code",
   "execution_count": 21,
   "metadata": {},
   "outputs": [
    {
     "data": {
      "text/plain": [
       "'Mean_Dew_Point_F'"
      ]
     },
     "execution_count": 21,
     "metadata": {},
     "output_type": "execute_result"
    }
   ],
   "source": [
    "re.sub(\"([a-z])([A-Z])\", \"\\\\1_\\\\2\", c)"
   ]
  },
  {
   "cell_type": "code",
   "execution_count": 22,
   "metadata": {},
   "outputs": [],
   "source": [
    "weather = pd.read_csv('weather_filled.csv')\n",
    "weather.columns = [re.sub(\"([a-z])([A-Z])\", \"\\\\1_\\\\2\", x).strip(' ')\n",
    "                   for x in weather.columns]"
   ]
  },
  {
   "cell_type": "markdown",
   "metadata": {
    "colab_type": "text",
    "id": "TsygM7NtCI8Z"
   },
   "source": [
    "### 2 - check yourself"
   ]
  },
  {
   "cell_type": "code",
   "execution_count": 23,
   "metadata": {
    "colab": {},
    "colab_type": "code",
    "id": "Zc0-CjANCI8Z",
    "outputId": "3ee9f8eb-928a-4401-c66e-e3f721448df4"
   },
   "outputs": [
    {
     "name": "stdout",
     "output_type": "stream",
     "text": [
      "The column names are correct\n"
     ]
    }
   ],
   "source": [
    "if list(weather.columns) == ['Date', 'Max_Temperature_F', 'Mean_Temperature_F', 'Min_Temperature_F',\n",
    "       'Max_Dew_Point_F', 'Mean_Dew_Point_F', 'Min_Dewpoint_F', 'Max_Humidity',\n",
    "       'Mean_Humidity', 'Min_Humidity', 'Max_Sea_Level_Pressure_In',\n",
    "       'Mean_Sea_Level_Pressure_In', 'Min_Sea_Level_Pressure_In',\n",
    "       'Max_Visibility_Miles', 'Mean_Visibility_Miles', 'Min_Visibility_Miles',\n",
    "       'Max_Wind_Speed_MPH', 'Mean_Wind_Speed_MPH', 'Max_Gust_Speed_MPH',\n",
    "       'Precipitation_In', 'Cloud_Cover', 'Events', 'Wind_Dir_Degrees',\n",
    "       'landmark']:\n",
    "    print('The column names are correct')\n",
    "else:\n",
    "    print('The column names are NOT correct')"
   ]
  },
  {
   "cell_type": "code",
   "execution_count": 0,
   "metadata": {
    "colab": {},
    "colab_type": "code",
    "id": "1sicQadQCI8h"
   },
   "outputs": [],
   "source": []
  }
 ],
 "metadata": {
  "colab": {
   "name": "Q2_preprocess_part1_first_task_solution.ipynb",
   "provenance": [],
   "version": "0.3.2"
  },
  "kernelspec": {
   "display_name": "Python 3",
   "language": "python",
   "name": "python3"
  },
  "language_info": {
   "codemirror_mode": {
    "name": "ipython",
    "version": 3
   },
   "file_extension": ".py",
   "mimetype": "text/x-python",
   "name": "python",
   "nbconvert_exporter": "python",
   "pygments_lexer": "ipython3",
   "version": "3.7.4"
  }
 },
 "nbformat": 4,
 "nbformat_minor": 1
}
