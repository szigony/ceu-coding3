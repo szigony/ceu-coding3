{
 "cells": [
  {
   "cell_type": "code",
   "execution_count": 1,
   "metadata": {},
   "outputs": [],
   "source": [
    "import requests"
   ]
  },
  {
   "cell_type": "markdown",
   "metadata": {},
   "source": [
    "#### Getting the html content of a website"
   ]
  },
  {
   "cell_type": "markdown",
   "metadata": {},
   "source": [
    "http://dataquestio.github.io/web-scraping-pages/ids_and_classes.html"
   ]
  },
  {
   "cell_type": "code",
   "execution_count": 3,
   "metadata": {},
   "outputs": [],
   "source": [
    "res = requests.get(\"http://dataquestio.github.io/web-scraping-pages/ids_and_classes.html\")"
   ]
  },
  {
   "cell_type": "code",
   "execution_count": 4,
   "metadata": {},
   "outputs": [
    {
     "data": {
      "text/plain": [
       "'<html>\\n    <head>\\n        <title>A simple example page</title>\\n    </head>\\n    <body>\\n        <div>\\n            <p class=\"inner-text first-item\" id=\"first\">\\n                First paragraph.\\n            </p>\\n            <p class=\"inner-text\">\\n                Second paragraph.\\n            </p>\\n        </div>\\n        <p class=\"outer-text first-item\" id=\"second\">\\n            <b>\\n                First outer paragraph.\\n            </b>\\n        </p>\\n        <p class=\"outer-text\">\\n            <b>\\n                Second outer paragraph.\\n            </b>\\n        </p>\\n    </body>\\n</html>'"
      ]
     },
     "execution_count": 4,
     "metadata": {},
     "output_type": "execute_result"
    }
   ],
   "source": [
    "res.text"
   ]
  },
  {
   "cell_type": "code",
   "execution_count": 5,
   "metadata": {},
   "outputs": [
    {
     "data": {
      "text/plain": [
       "str"
      ]
     },
     "execution_count": 5,
     "metadata": {},
     "output_type": "execute_result"
    }
   ],
   "source": [
    "type(res.text)"
   ]
  },
  {
   "cell_type": "markdown",
   "metadata": {},
   "source": [
    "#### Parsing html"
   ]
  },
  {
   "cell_type": "code",
   "execution_count": 6,
   "metadata": {},
   "outputs": [],
   "source": [
    "# in case bs4 throws error try\n",
    "# !pip install --upgrade html5lib==1.0b8\n",
    "\n",
    "from bs4 import BeautifulSoup\n",
    "soup = BeautifulSoup(res.text, 'html.parser')"
   ]
  },
  {
   "cell_type": "code",
   "execution_count": 7,
   "metadata": {},
   "outputs": [
    {
     "data": {
      "text/plain": [
       "bs4.BeautifulSoup"
      ]
     },
     "execution_count": 7,
     "metadata": {},
     "output_type": "execute_result"
    }
   ],
   "source": [
    "type(soup)"
   ]
  },
  {
   "cell_type": "code",
   "execution_count": 8,
   "metadata": {},
   "outputs": [
    {
     "name": "stdout",
     "output_type": "stream",
     "text": [
      "<html>\n",
      " <head>\n",
      "  <title>\n",
      "   A simple example page\n",
      "  </title>\n",
      " </head>\n",
      " <body>\n",
      "  <div>\n",
      "   <p class=\"inner-text first-item\" id=\"first\">\n",
      "    First paragraph.\n",
      "   </p>\n",
      "   <p class=\"inner-text\">\n",
      "    Second paragraph.\n",
      "   </p>\n",
      "  </div>\n",
      "  <p class=\"outer-text first-item\" id=\"second\">\n",
      "   <b>\n",
      "    First outer paragraph.\n",
      "   </b>\n",
      "  </p>\n",
      "  <p class=\"outer-text\">\n",
      "   <b>\n",
      "    Second outer paragraph.\n",
      "   </b>\n",
      "  </p>\n",
      " </body>\n",
      "</html>\n"
     ]
    }
   ],
   "source": [
    "print(soup.prettify())"
   ]
  },
  {
   "cell_type": "code",
   "execution_count": 9,
   "metadata": {},
   "outputs": [
    {
     "data": {
      "text/plain": [
       "[<p class=\"inner-text first-item\" id=\"first\">\n",
       "                 First paragraph.\n",
       "             </p>, <p class=\"inner-text\">\n",
       "                 Second paragraph.\n",
       "             </p>, <p class=\"outer-text first-item\" id=\"second\">\n",
       " <b>\n",
       "                 First outer paragraph.\n",
       "             </b>\n",
       " </p>, <p class=\"outer-text\">\n",
       " <b>\n",
       "                 Second outer paragraph.\n",
       "             </b>\n",
       " </p>]"
      ]
     },
     "execution_count": 9,
     "metadata": {},
     "output_type": "execute_result"
    }
   ],
   "source": [
    "soup.find_all('p')"
   ]
  },
  {
   "cell_type": "code",
   "execution_count": 10,
   "metadata": {},
   "outputs": [
    {
     "data": {
      "text/plain": [
       "<p class=\"inner-text\">\n",
       "                Second paragraph.\n",
       "            </p>"
      ]
     },
     "execution_count": 10,
     "metadata": {},
     "output_type": "execute_result"
    }
   ],
   "source": [
    "soup.find_all('p')[1]"
   ]
  },
  {
   "cell_type": "code",
   "execution_count": 11,
   "metadata": {},
   "outputs": [
    {
     "data": {
      "text/plain": [
       "'\\n                Second paragraph.\\n            '"
      ]
     },
     "execution_count": 11,
     "metadata": {},
     "output_type": "execute_result"
    }
   ],
   "source": [
    "soup.find_all('p')[1].text"
   ]
  },
  {
   "cell_type": "code",
   "execution_count": 12,
   "metadata": {},
   "outputs": [
    {
     "data": {
      "text/plain": [
       "[<p class=\"outer-text first-item\" id=\"second\">\n",
       " <b>\n",
       "                 First outer paragraph.\n",
       "             </b>\n",
       " </p>, <p class=\"outer-text\">\n",
       " <b>\n",
       "                 Second outer paragraph.\n",
       "             </b>\n",
       " </p>]"
      ]
     },
     "execution_count": 12,
     "metadata": {},
     "output_type": "execute_result"
    }
   ],
   "source": [
    "soup.find_all('p', class_='outer-text')"
   ]
  },
  {
   "cell_type": "code",
   "execution_count": 13,
   "metadata": {},
   "outputs": [
    {
     "data": {
      "text/plain": [
       "[<p class=\"inner-text first-item\" id=\"first\">\n",
       "                 First paragraph.\n",
       "             </p>, <p class=\"inner-text\">\n",
       "                 Second paragraph.\n",
       "             </p>]"
      ]
     },
     "execution_count": 13,
     "metadata": {},
     "output_type": "execute_result"
    }
   ],
   "source": [
    "soup.find_all('p', class_='inner-text')"
   ]
  },
  {
   "cell_type": "code",
   "execution_count": 14,
   "metadata": {},
   "outputs": [
    {
     "data": {
      "text/plain": [
       "2"
      ]
     },
     "execution_count": 14,
     "metadata": {},
     "output_type": "execute_result"
    }
   ],
   "source": [
    "len(soup.find_all('p', class_='inner-text'))"
   ]
  },
  {
   "cell_type": "markdown",
   "metadata": {},
   "source": [
    "#### Finding the elements of the site"
   ]
  },
  {
   "cell_type": "markdown",
   "metadata": {},
   "source": [
    "Since every web page is different and html can get very large and messy, the easiest way to find elements that you are interested in is to start from the browser window. So next we will quickly look at how to find elements using the developer tools in your browser. Open the following webpage in your browser (preferably Chrome): http://forecast.weather.gov/MapClick.php?lat=21.3049&lon=-157.8579#.Wkwh8VQ-fVo \n",
    "\n",
    "Find the developer tools in your browser. (In Chrome, it's view --> developer --> developer tools or Control+Shift+C on Windows and Command+Shift+C on Mac) You should end up with a panel at the bottom or the right side of the browser like what you see below. Make sure the Elements panel is highlighted:"
   ]
  },
  {
   "cell_type": "code",
   "execution_count": 15,
   "metadata": {},
   "outputs": [],
   "source": [
    "res = requests.get(\"http://forecast.weather.gov/MapClick.php?lat=21.3049&lon=-157.8579\")\n",
    "soup = BeautifulSoup(res.text, 'html.parser')"
   ]
  },
  {
   "cell_type": "code",
   "execution_count": 16,
   "metadata": {},
   "outputs": [
    {
     "data": {
      "text/plain": [
       "[<p class=\"myforecast-current-lrg\">70°F</p>]"
      ]
     },
     "execution_count": 16,
     "metadata": {},
     "output_type": "execute_result"
    }
   ],
   "source": [
    "soup.find_all('p', class_=\"myforecast-current-lrg\")"
   ]
  },
  {
   "cell_type": "code",
   "execution_count": 17,
   "metadata": {},
   "outputs": [
    {
     "data": {
      "text/plain": [
       "<p class=\"myforecast-current-lrg\">70°F</p>"
      ]
     },
     "execution_count": 17,
     "metadata": {},
     "output_type": "execute_result"
    }
   ],
   "source": [
    "soup.find_all('p', class_=\"myforecast-current-lrg\")[0]"
   ]
  },
  {
   "cell_type": "code",
   "execution_count": 18,
   "metadata": {},
   "outputs": [
    {
     "data": {
      "text/plain": [
       "bs4.element.Tag"
      ]
     },
     "execution_count": 18,
     "metadata": {},
     "output_type": "execute_result"
    }
   ],
   "source": [
    "type(soup.find_all('p', class_=\"myforecast-current-lrg\")[0])"
   ]
  },
  {
   "cell_type": "code",
   "execution_count": 19,
   "metadata": {},
   "outputs": [
    {
     "data": {
      "text/plain": [
       "'70°F'"
      ]
     },
     "execution_count": 19,
     "metadata": {},
     "output_type": "execute_result"
    }
   ],
   "source": [
    "soup.find_all('p', class_=\"myforecast-current-lrg\")[0].text"
   ]
  },
  {
   "cell_type": "code",
   "execution_count": 20,
   "metadata": {},
   "outputs": [
    {
     "data": {
      "text/plain": [
       "'21°C'"
      ]
     },
     "execution_count": 20,
     "metadata": {},
     "output_type": "execute_result"
    }
   ],
   "source": [
    "soup.find_all('p', class_=\"myforecast-current-sm\")[0].text"
   ]
  },
  {
   "cell_type": "code",
   "execution_count": null,
   "metadata": {},
   "outputs": [],
   "source": [
    "# Let's do excercises 1-6!"
   ]
  },
  {
   "cell_type": "markdown",
   "metadata": {},
   "source": [
    "#### Using dictionary for making queries and collecting response"
   ]
  },
  {
   "cell_type": "code",
   "execution_count": 42,
   "metadata": {},
   "outputs": [
    {
     "data": {
      "text/plain": [
       "{'Honolulu': [21.3049, -157.8579],\n",
       " 'Times Square': [40.757339, -73.985992],\n",
       " 'Yosemite': [37.8651011, -119.5383294]}"
      ]
     },
     "execution_count": 42,
     "metadata": {},
     "output_type": "execute_result"
    }
   ],
   "source": [
    "latlon_dict = {\n",
    "    'Honolulu':[21.3049, -157.8579],\n",
    "    'Times Square':[40.757339, -73.985992],\n",
    "    'Yosemite':[37.8651011, -119.5383294]\n",
    "}\n",
    "latlon_dict"
   ]
  },
  {
   "cell_type": "code",
   "execution_count": 43,
   "metadata": {},
   "outputs": [],
   "source": [
    "import time"
   ]
  },
  {
   "cell_type": "code",
   "execution_count": 44,
   "metadata": {},
   "outputs": [
    {
     "name": "stdout",
     "output_type": "stream",
     "text": [
      "Honolulu\n",
      "http://forecast.weather.gov/MapClick.php?lat=21.3049&lon=-157.8579\n",
      "Times Square\n",
      "http://forecast.weather.gov/MapClick.php?lat=40.757339&lon=-73.985992\n",
      "Yosemite\n",
      "http://forecast.weather.gov/MapClick.php?lat=37.8651011&lon=-119.5383294\n"
     ]
    }
   ],
   "source": [
    "response_dict = {}\n",
    "for place,coordinates in latlon_dict.items():\n",
    "    url = \"http://forecast.weather.gov/MapClick.php?lat={}&lon={}\".format(coordinates[0], coordinates[1])\n",
    "    print(place)\n",
    "    print(url)\n",
    "    resp = requests.get(url)\n",
    "    time.sleep(3)\n",
    "    soup = BeautifulSoup(resp.text, 'html.parser')\n",
    "    temp_C = soup.find_all('p', class_=\"myforecast-current-sm\")[0].text\n",
    "    response_dict[place] = temp_C"
   ]
  },
  {
   "cell_type": "code",
   "execution_count": 45,
   "metadata": {},
   "outputs": [
    {
     "data": {
      "text/plain": [
       "{'Honolulu': '21°C', 'Times Square': '14°C', 'Yosemite': '13°C'}"
      ]
     },
     "execution_count": 45,
     "metadata": {},
     "output_type": "execute_result"
    }
   ],
   "source": [
    "response_dict"
   ]
  },
  {
   "cell_type": "code",
   "execution_count": 46,
   "metadata": {},
   "outputs": [
    {
     "name": "stdout",
     "output_type": "stream",
     "text": [
      "The current temperature in Honolulu is 21°C.\n",
      "The current temperature in Times Square is 14°C.\n",
      "The current temperature in Yosemite is 13°C.\n"
     ]
    }
   ],
   "source": [
    "for place,temperature in response_dict.items():\n",
    "    print(\"The current temperature in {} is {}.\".format(place, temperature))"
   ]
  },
  {
   "cell_type": "code",
   "execution_count": null,
   "metadata": {},
   "outputs": [],
   "source": [
    "# Let's do exercises 7-9!"
   ]
  },
  {
   "cell_type": "markdown",
   "metadata": {},
   "source": [
    "#### saving dictionaries"
   ]
  },
  {
   "cell_type": "code",
   "execution_count": null,
   "metadata": {},
   "outputs": [],
   "source": [
    "import numpy as np"
   ]
  },
  {
   "cell_type": "code",
   "execution_count": null,
   "metadata": {},
   "outputs": [],
   "source": [
    "np.save('mydict.npy', response_dict) "
   ]
  },
  {
   "cell_type": "code",
   "execution_count": null,
   "metadata": {},
   "outputs": [],
   "source": [
    "read_dictionary = np.load('mydict.npy', allow_pickle=True).item()"
   ]
  },
  {
   "cell_type": "code",
   "execution_count": null,
   "metadata": {},
   "outputs": [],
   "source": [
    "read_dictionary"
   ]
  },
  {
   "cell_type": "code",
   "execution_count": null,
   "metadata": {},
   "outputs": [],
   "source": [
    "# Let's do exercise 10!"
   ]
  },
  {
   "cell_type": "markdown",
   "metadata": {},
   "source": [
    "### 1 - exercise\n",
    "\n",
    "We need the zip codes of the 5 landmarks in our data. Fortunatelly Google shows the zip codes at a fixed place if using the right searchphase. <br>\n",
    "Open this link and using the Inspect tool in the browser try to find the class of the HTML element of a zip code shown at the top of the page! <br> \n",
    "https://www.google.com/search?q=San+Jose+zip+code"
   ]
  },
  {
   "cell_type": "markdown",
   "metadata": {},
   "source": [
    "### 1 - check yourself\n",
    "\n",
    "The zip code is under a div of class \"title\" inside a div of class \"IAznY\""
   ]
  },
  {
   "cell_type": "markdown",
   "metadata": {},
   "source": [
    "### 2 - exercise\n",
    "Now use the requests library to get the html content of this page and create a BeautifulSoup object called soup from this content"
   ]
  },
  {
   "cell_type": "code",
   "execution_count": 21,
   "metadata": {
    "collapsed": true
   },
   "outputs": [
    {
     "data": {
      "text/plain": [
       "<!DOCTYPE doctype html>\n",
       "<html lang=\"hu\"><head><meta charset=\"utf-8\"/><meta content=\"/images/branding/googleg/1x/googleg_standard_color_128dp.png\" itemprop=\"image\"/><title>San Jose zip code - Google-keresés</title><script nonce=\"xrA4b0edzsj1KgOCRcz10A==\">(function(){\n",
       "document.documentElement.addEventListener(\"submit\",function(b){var a;if(a=b.target){var c=a.getAttribute(\"data-submitfalse\");a=\"1\"==c||\"q\"==c&&!a.elements.q.value?!0:!1}else a=!1;a&&(b.preventDefault(),b.stopPropagation())},!0);document.documentElement.addEventListener(\"click\",function(b){var a;a:{for(a=b.target;a&&a!=document.documentElement;a=a.parentElement)if(\"A\"==a.tagName){a=\"1\"==a.getAttribute(\"data-nohref\");break a}a=!1}a&&b.preventDefault()},!0);}).call(this);(function(){\n",
       "var a=window.performance;window.start=(new Date).getTime();a:{var b=window;if(a){var c=a.timing;if(c){var d=c.navigationStart,f=c.responseStart;if(f>d&&f<=window.start){window.start=f;b.wsrt=f-d;break a}}a.now&&(b.wsrt=Math.floor(a.now()))}}window.google=window.google||{};var h=function(g){g&&g.target.setAttribute(\"data-iml\",(new Date).getTime())};document.documentElement.addEventListener(\"load\",h,!0);google.rglh=function(){document.documentElement.removeEventListener(\"load\",h,!0)};}).call(this);(function(){\n",
       "var c=[],e=0;window.ping=function(b){-1==b.indexOf(\"&zx\")&&(b+=\"&zx=\"+(new Date).getTime());var a=new Image,d=e++;c[d]=a;a.onerror=a.onload=a.onabort=function(){delete c[d]};a.src=b};}).call(this);</script><style>body{margin:0 auto;max-width:736px;padding:0 8px}a{color:#1967D2;text-decoration:none;tap-highlight-color:rgba(0,0,0,.1)}a:visited{color:#4B11A8}a:hover{text-decoration:underline}img{border:0}html{font-family:Roboto,HelveticaNeue,Arial,sans-serif;font-size:14px;line-height:20px;text-size-adjust:100%;color:#3C4043;word-wrap:break-word;background-color:#fff}.bRsWnc{background-color:#fff;border-top:1px solid #e0e0e0;height:39px;overflow:hidden}.N6RWV{height:51px;overflow-scrolling:touch;overflow-x:auto;overflow-y:hidden}.Uv67qb{box-pack:justify;font-size:12px;line-height:37px;justify-content:space-between;justify-content:space-between}.Uv67qb a,.Uv67qb span{color:#757575;display:block;flex:none;padding:0 16px;text-align:center;text-transform:uppercase;}span.OXXup{border-bottom:2px solid #4285f4;color:#4285f4;font-weight:bold}a.eZt8xd:visited{color:#757575}.FElbsf{border-left:1px solid rgba(0,0,0,.12)}header article{overflow:visible}.Pg70bf{height:39px;display:box;display:flex;display:flex;width:100%}.H0PQec{position:relative;flex:1}.sbc{display:flex;width:100%}.Pg70bf input{margin:2px 4px 2px 8px;}.x{width:26px;color:#757575;font:27px/38px arial, sans-serif;line-height:40px;}#qdClwb{flex:0 0 auto;width:39px;height:39px;border-bottom:0;padding:0;border-top-right-radius:8px;background-color:#3b78e7;border:1px solid #3367d6;background-image:url(data:image/gif;base64,R0lGODdhJAAjAPIHAODr/nCk+MPZ/FmV96zK+/7+/5K5+kqL9iwAAAAAJAAjAEADani63P4wykmbKcQRXDscQAEMXmmeaLQVLCukzyC09AjfeK7v/MAajACLhPMVAgwjsUcEiZa8xgAYrVqv2Kx2iwsIAAABknfBBAKrTE4IcMyot8ur8datqIbQfJdnAfo2WE6BV05wXIiJigkAOw==);}.sc{font-size:;position:absolute;top:39px;left:0;right:0;box-shadow:0px 2px 5px rgba(0,0,0,.2);z-index:2;background-color:#fff}.sc>div{padding:10px 10px;padding-left:16px;padding-left:14px;border-top:1px solid #DFE1E5}.scs{background-color:#f5f5f5;}.noHIxc{display:block;font-size:16px;padding:0 0 0 8px;flex:1;height:35px;outline:none;border:none;width:100%;-webkit-tap-highlight-color:rgba(0,0,0,0);overflow:hidden;}.sbc input[type=text]{background:none}.sml .cOl4Id{display:none}.l{display:none}.sml header{background:none}.sml .l{display:block;padding:0 8px}.sml .l{letter-spacing:-1px;text-align:center;border-radius:2px 0 0 0;font:22px/36px Futura, Arial, sans-serif;font-smoothing:antialiased}.bz1lBb{background:#fff;border-radius:8px 8px 0 0;box-shadow:0 1px 6px rgba(32, 33, 36, 0.18);margin-top:10px}.KP7LCb{border-radius:0 0 8px 8px;box-shadow:0 2px 3px rgba(32, 33, 36, 0.18);margin-bottom:10px;overflow:hidden}.cOl4Id{letter-spacing:-1px;text-align:center;font:22pt Futura, Arial, sans-serif;padding:10px 0 5px 0;height:37px;font-smoothing:antialiased}.cOl4Id span{display:inline-block}.S591j{height:100%}.V6gwVd{color:#4285f4}.iWkuvd{color:#ea4335}.cDrQ7{color:#fbcc05}.ntlR9{color:#34a853}.tJ3Myc{-webkit-transform:rotate(-20deg);position:relative;left:-1px;display:inline-block}footer{text-align:center;margin-top:18px}footer a,footer a:visited,.smiUbb{color:#5f6368}.ksTU4c{margin:0 13px}#mCljob{margin-top:36px}#mCljob>div{margin:20px}</style></head><body jsmodel=\" TvHxbe\"><header id=\"hdr\"><script nonce=\"xrA4b0edzsj1KgOCRcz10A==\">(function(){var c=500;(function(){window.screen&&window.screen.width<=c&&window.screen.height<=c&&document.getElementById(\"hdr\").classList.add(\"sml\");}).call(this);})();</script><div class=\"cOl4Id\"><a href=\"/?sa=X&amp;ved=0ahUKEwjF2te75f7nAhUOHHcKHSvhC5wQOwgC\"><span class=\"V6gwVd\">G</span><span class=\"iWkuvd\">o</span><span class=\"cDrQ7\">o</span><span class=\"V6gwVd\">g</span><span class=\"ntlR9\">l</span><span class=\"iWkuvd tJ3Myc\">e</span></a></div><div class=\"bz1lBb\"><form class=\"Pg70bf\" id=\"sf\"><a class=\"l\" href=\"/?output=search&amp;ie=UTF-8&amp;sa=X&amp;ved=0ahUKEwjF2te75f7nAhUOHHcKHSvhC5wQPAgE\"><span class=\"V6gwVd\">G</span><span class=\"iWkuvd\">o</span><span class=\"cDrQ7\">o</span><span class=\"V6gwVd\">g</span><span class=\"ntlR9\">l</span><span class=\"iWkuvd tJ3Myc\">e</span></a><input name=\"ie\" type=\"hidden\" value=\"ISO-8859-1\"/><div class=\"H0PQec\"><div class=\"sbc esbc\"><input autocapitalize=\"none\" autocomplete=\"off\" class=\"noHIxc\" name=\"q\" spellcheck=\"false\" type=\"text\" value=\"San Jose zip code\"/><input name=\"oq\" type=\"hidden\"/><input name=\"aqs\" type=\"hidden\"/><div class=\"x\">×</div><div class=\"sc\"></div></div></div><button id=\"qdClwb\" type=\"submit\"></button></form></div><noscript><meta content=\"0;url=/search?q=San+Jose+zip+code&amp;ie=UTF-8&amp;gbv=1&amp;sei=3Y5eXoX4KI643AOrwq_gCQ\" http-equiv=\"refresh\"/><style>table,div,span,p{display:none}</style><div style=\"display:block\">Kérjük, kattintson <a href=\"/search?q=San+Jose+zip+code&amp;ie=UTF-8&amp;gbv=1&amp;sei=3Y5eXoX4KI643AOrwq_gCQ\">ide</a>, ha böngészője nem irányítja át néhány másodpercen belül.</div></noscript></header><div id=\"main\"><div><div class=\"KP7LCb\"> <div class=\"bRsWnc\"> <div class=\"N6RWV\"> <div class=\"Pg70bf Uv67qb\"> <span class=\"OXXup\">Összes</span><a class=\"eZt8xd\" href=\"/search?q=San+Jose+zip+code&amp;ie=UTF-8&amp;source=lnms&amp;tbm=isch&amp;sa=X&amp;ved=0ahUKEwjF2te75f7nAhUOHHcKHSvhC5wQ_AUICCgB\">Képek</a><a class=\"eZt8xd\" href=\"https://maps.google.com/maps?q=San+Jose+zip+code&amp;um=1&amp;ie=UTF-8&amp;sa=X&amp;ved=0ahUKEwjF2te75f7nAhUOHHcKHSvhC5wQ_AUICSgC\">Térkép</a><a class=\"eZt8xd\" href=\"/search?q=San+Jose+zip+code&amp;ie=UTF-8&amp;source=lnms&amp;tbm=vid&amp;sa=X&amp;ved=0ahUKEwjF2te75f7nAhUOHHcKHSvhC5wQ_AUICigD\">Videók</a> <a href=\"/search?q=San+Jose+zip+code&amp;ie=UTF-8&amp;source=lnms&amp;tbm=nws&amp;sa=X&amp;ved=0ahUKEwjF2te75f7nAhUOHHcKHSvhC5wQ_AUICygE\">Hírek</a> <a href=\"/search?q=San+Jose+zip+code&amp;ie=UTF-8&amp;source=lnms&amp;tbm=shop&amp;sa=X&amp;ved=0ahUKEwjF2te75f7nAhUOHHcKHSvhC5wQ_AUIDCgF\">Vásárlás</a> <a href=\"/search?q=San+Jose+zip+code&amp;ie=UTF-8&amp;source=lnms&amp;tbm=bks&amp;sa=X&amp;ved=0ahUKEwjF2te75f7nAhUOHHcKHSvhC5wQ_AUIDSgG\">Könyvek</a> <div class=\"FElbsf\"><a href=\"/advanced_search\" id=\"st-toggle\" role=\"button\" style=\"white-space:nowrap\">Keresőeszközök</a></div> </div> </div> </div> </div><div class=\"Pg70bf wEsjbd ZINbbc xpd O9g5cc uUPGi\" id=\"st-card\" style=\"display:none\"><style>.wEsjbd{background-color:#fff;height:44px;white-space:nowrap}.coPU8c{height:60px;overflow-scrolling:touch;overflow-x:auto;overflow-y:hidden}.Xj2aue{height:44px;overflow:hidden}.RnNGze{margin:11px 16px}.wEsjbd div,.wEsjbd a,.wEsjbd li{outline-width:0;outline:none}</style><div class=\"Xj2aue\"><div class=\"coPU8c\"><div class=\"RnNGze\"><style>.PA9J5{display:inline-block}.RXaOfd{display:inline-block;height:22px;position:relative;padding-top:0;padding-bottom:0;padding-right:16px;padding-left:0;line-height:22px;cursor:pointer;text-transform:uppercase;font-size:12px;color:#757575}.sa1toc{display:none;position:absolute;background:#fff;border:1px solid #d6d6d6;box-shadow:0 2px 4px rgba(0,0,0,0.3);margin:0;white-space:nowrap;z-index:103;line-height:17px;padding-top:5px;padding-bottom:5px;padding-left:0px}.PA9J5:hover .sa1toc{display:block}.mGSy8d a:active,.RXaOfd:active{color:#4285f4}</style><div class=\"PA9J5\"><div class=\"RXaOfd\" role=\"button\" tabindex=\"0\"><style>.TWMOUc{display:inline-block;padding-right:14px;white-space:nowrap}.vQYuGf{font-weight:bold}.OmTIzf{border-color:#909090 transparent;border-style:solid;border-width:4px 4px 0 4px;width:0;height:0;margin-left:-10px;top:50%;margin-top:-2px;position:absolute}.RXaOfd:active .OmTIzf{border-color:#4285f4 transparent}</style><div class=\"TWMOUc\">Bármilyen nyelv</div><span class=\"OmTIzf\"></span></div><ul class=\"sa1toc ozatM\"><style>.ozatM{font-size:12px;text-transform:uppercase}.ozatM .yNFsl,.ozatM li{list-style-type:none;list-style-position:outside;list-style-image:none}.yNFsl.SkUj4c,.yNFsl a{color:rgba(0,0,0,0.54);text-decoration:none;padding:6px 44px 6px 14px;line-height:17px;display:block}.SkUj4c{background-image:url(//ssl.gstatic.com/ui/v1/menu/checkmark2.png);background-position:right center;background-repeat:no-repeat}.SkUj4c:active{background-color:#f5f5f5}</style><li class=\"yNFsl SkUj4c\">Bármilyen nyelv</li><li class=\"yNFsl\"><a href=\"/search?q=San+Jose+zip+code&amp;ie=UTF-8&amp;source=lnt&amp;tbs=lr:lang_1hu&amp;lr=lang_hu&amp;sa=X&amp;ved=0ahUKEwjF2te75f7nAhUOHHcKHSvhC5wQpwUIDw\">Keresés - magyar oldalak</a></li></ul></div><div class=\"PA9J5\"><div class=\"RXaOfd\" role=\"button\" tabindex=\"0\"><div class=\"TWMOUc\">Bármikor</div><span class=\"OmTIzf\"></span></div><ul class=\"sa1toc ozatM\"><li class=\"yNFsl SkUj4c\">Bármikor</li><li class=\"yNFsl\"><a href=\"/search?q=San+Jose+zip+code&amp;ie=UTF-8&amp;source=lnt&amp;tbs=qdr:h&amp;sa=X&amp;ved=0ahUKEwjF2te75f7nAhUOHHcKHSvhC5wQpwUIEQ\"> Az elmúlt órában</a></li><li class=\"yNFsl\"><a href=\"/search?q=San+Jose+zip+code&amp;ie=UTF-8&amp;source=lnt&amp;tbs=qdr:d&amp;sa=X&amp;ved=0ahUKEwjF2te75f7nAhUOHHcKHSvhC5wQpwUIEg\"> Az elmúlt 24 órában</a></li><li class=\"yNFsl\"><a href=\"/search?q=San+Jose+zip+code&amp;ie=UTF-8&amp;source=lnt&amp;tbs=qdr:w&amp;sa=X&amp;ved=0ahUKEwjF2te75f7nAhUOHHcKHSvhC5wQpwUIEw\"> Az elmúlt héten</a></li><li class=\"yNFsl\"><a href=\"/search?q=San+Jose+zip+code&amp;ie=UTF-8&amp;source=lnt&amp;tbs=qdr:m&amp;sa=X&amp;ved=0ahUKEwjF2te75f7nAhUOHHcKHSvhC5wQpwUIFA\"> Az elmúlt hónapban</a></li><li class=\"yNFsl\"><a href=\"/search?q=San+Jose+zip+code&amp;ie=UTF-8&amp;source=lnt&amp;tbs=qdr:y&amp;sa=X&amp;ved=0ahUKEwjF2te75f7nAhUOHHcKHSvhC5wQpwUIFQ\"> Az elmúlt évben</a></li></ul></div><div class=\"PA9J5\"><div class=\"RXaOfd\" role=\"button\" tabindex=\"0\"><div class=\"TWMOUc\">Összes találat</div><span class=\"OmTIzf\"></span></div><ul class=\"sa1toc ozatM\"><li class=\"yNFsl SkUj4c\">Összes találat</li><li class=\"yNFsl\"><a href=\"/search?q=San+Jose+zip+code&amp;ie=UTF-8&amp;source=lnt&amp;tbs=li:1&amp;sa=X&amp;ved=0ahUKEwjF2te75f7nAhUOHHcKHSvhC5wQpwUIFw\">Szó szerint</a></li></ul></div></div></div></div><script nonce=\"xrA4b0edzsj1KgOCRcz10A==\">(function(){\n",
       "var a=document.getElementById(\"st-toggle\"),b=document.getElementById(\"st-card\");a&&b&&a.addEventListener(\"click\",function(c){b.style.display=b.style.display?\"\":\"none\";c.preventDefault()},!1);}).call(this);</script></div></div><style>.ZINbbc{background-color:#fff;margin-bottom:10px;box-shadow:0 1px 6px rgba(32, 33, 36, 0.28);border-radius:8px}.uUPGi{font-size:14px;line-height:20px;}.O9g5cc>*:first-child{border-top-left-radius:8px;border-top-right-radius:8px}.O9g5cc>*:last-child{border-bottom-left-radius:8px;border-bottom-right-radius:8px}.O9g5cc>.qxDOhb>*:first-child{border-top-left-radius:8px;border-top-right-radius:8px}.O9g5cc>.qxDOhb>*:last-child{border-bottom-left-radius:8px;border-bottom-right-radius:8px}.kCrYT{padding:12px 16px 12px}.BNeawe{white-space:pre-line;word-wrap:break-word}.deIvCb{font-size:16px;line-height:20px;font-weight:400}.deIvCb.HrGdeb{color:rgba(255,255,255,1)}.deIvCb.AP7Wnd{color:#202124}.tAd8D{font-size:14px;line-height:20px}.tAd8D.HrGdeb{color:rgba(255,255,255,.7)}.tAd8D.AP7Wnd{color:#70757A}.Xdlr0d{overflow-x:auto;-webkit-overflow-scrolling:touch;margin:0 -8px;padding:16px 0 16px 24px;padding-top:2px;margin-top:-2px;transform:translate3d(0,0,0)}.idg8be{display:table;border-collapse:separate;border-spacing:8px 0;margin:0 -8px;padding-right:16px}.BVG0Nb{display:table-cell;vertical-align:top;background-color:#fff;border-radius:8px;box-shadow:0 1px 6px rgba(32, 33, 36, 0.28);overflow:hidden}a.fdYsqf{color:#4B11A8}.s3v9rd{font-size:14px;line-height:20px}.s3v9rd.HrGdeb{color:rgba(255,255,255,1)}.s3v9rd.AP7Wnd{color:#202124}.nGphre{float:right;padding-left:16px}.UykT9d{border-radius:8px;display:block}.nYT7Qb{clear:both}.R0jTRc{vertical-align:middle}.skVgpb{display:table;table-layout:fixed;width:100%}.VGHMXd{display:table-cell;vertical-align:middle;height:52px;text-align:center}.LpaDrb{margin:0 auto 8px;display:block}.vbShOe{padding-top:0}.x54gtf{height:1px;background-color:#dfe1e5;margin:0 16px}.Q0HXG{height:1px;background-color:#dfe1e5}.Ap5OSd{padding-bottom:12px}.XLloXe{color:#1967D2;font-size:14px;line-height:20px}.XLloXe a:visited{color:#4B11A8}.XLloXe.HrGdeb{color:rgba(255,255,255,1)}.XLloXe.HrGdeb a:visited{color:rgba(255,255,255,.7)}.wITvVb{margin:0;padding:12px 16px 12px}.FCUp0c{font-weight:bold}.LKSyXe{height:1px;background-color:#dfe1e5;margin:0 16px}.xpc .hwc,.xpx .hwx{display:none}.iIWm4b{box-sizing:border-box;min-height:48px}.fLtXsc{padding:14px;position:relative}.NtmAdb{width:40px;height:40px;overflow:hidden;margin-top:-10px;margin-bottom:-16px;margin-right:8px;border-radius:4px}.xpc .NtmAdb{display:inline-block}.xpx .NtmAdb{display:none}.Lt3Tzc{display:inline-block;padding-right:26px}.Lym8W{width:14px;height:20px;position:relative;margin:0 auto}.xCgLUe{position:absolute;right:16px;margin-top:-10px;top:50%}.Lym8W div{position:absolute;border-left:7px solid transparent;border-right:7px solid transparent;width:0;height:0;left:0}.IyYaEd{top:7px;border-top:7px solid #757575}.ECUHQe{top:4px;border-top:7px solid #fff}.AeQQub{bottom:7px;border-bottom:7px solid #757575}.YCU7eb{bottom:4px;border-bottom:7px solid #fff}.qxDOhb{border-radius:0}.M56Nqc{padding:0 16px 12px}.Z8j5ae>div>div{border-radius:8px;box-shadow:none;border:1px solid #dfe1e5;margin-bottom:0}.oTWEpb{padding-top:12px}.n1Qedd{overflow:hidden;text-align:center}.KMAGC{margin:0 auto;display:block}.ho0sdc{margin:0 -50%;display:inline-block}.vvjwJb{color:#1967D2;font-size:16px;line-height:20px}.vvjwJb a:visited{color:#4B11A8}.vvjwJb.HrGdeb{color:rgba(255,255,255,1)}.vvjwJb.HrGdeb a:visited{color:rgba(255,255,255,.7)}.UPmit{font-size:14px;line-height:20px}.UPmit.HrGdeb{color:rgba(255,255,255,.7)}.UPmit.AP7Wnd{color:rgba(0,102,33,1)}.PDHNXc{display:table;width:100%;padding-top:16px;padding-bottom:16px;margin-bottom:-12px}.iU269d{display:table-cell;vertical-align:top}.TeHtNe{vertical-align:middle}.kXUfPb{color:#3C4043;font-size:14px;text-align:center}.Vp9uZ{display:block;white-space:pre-line;word-wrap:break-word}.kXUfPb.Vp9uZ{line-height:20px}.RtoYlb{padding:18px}.r0bn4c.tr0dw{color:rgba(255,255,255,.7)}.r0bn4c.rQMQod{color:#70757A}.hfgVwf{margin-top:12px}.IxZjcf .hfgVwf{margin-bottom:12px}.OdF8Fd{float:right;padding-left:16px}.p1vimb{border-radius:8px;display:block}.rkvY3c{clear:both}.CgE3Ac{margin:0 16px}.I9mEQ{padding-bottom:12px}.LnMnt{border-collapse:collapse;border-spacing:0;width:100%}.LnMnt td{padding-top:0;padding-bottom:0;padding-right:8px}.LnMnt .s5aIid{padding-right:0}.IxZjcf{border-bottom:1px solid #dfe1e5}.sjsZvd{vertical-align:top}.OE1use{text-align:left}.BSv1qf{text-align:center}.HlHBvc{text-align:right}.uEec3{font-size:12px;line-height:16px}.uEec3.HrGdeb{color:rgba(255,255,255,.7)}.uEec3.AP7Wnd{color:#70757A}.IfyLsd{float:left;margin-right:8px}.rl7ilb{display:block;clear:both}.mSx1Ee{padding-left:48px;margin:0}.v9i61e{padding-bottom:8px}.rLshyf,.BmP5tf{padding-top:12px;padding-bottom:12px}.w1C3Le,.BmP5tf,.G5NbBd{padding-left:16px;padding-right:16px;}.G5NbBd{padding-bottom:12px}.nMymef{display:flex}.G5eFlf{flex:1;display:block}.nMymef span{text-align:center}</style><div><!--SW_C_X--></div><div><div class=\"ZINbbc xpd O9g5cc uUPGi\"><div class=\"kCrYT\"><div class=\"BNeawe deIvCb AP7Wnd\">San José</div><div class=\"BNeawe tAd8D AP7Wnd\">Irányítószámok</div></div><div><div><div><div class=\"Xdlr0d\"><div class=\"idg8be\"><a class=\"BVG0Nb\" href=\"/search?ie=UTF-8&amp;q=san+jos%C3%A9+94088&amp;stick=H4sIAAAAAAAAAONgFuLQz9U3SDMwKVPiArHM8woNLIu15LKTrfRz8pMTSzLz8_STM0sqS_LL86yqMgsUkvNTUh8xVnMLvPxxT1iqaNKak9cYc7gIaBBy42JzzSsBCgtJcfFIwS3VYJDi4oLzpBSUuHgPRTuKiXrNj9yuJcT51f5n15NT_Q2C1YXzT3H1zN1pxaTByLOIlb84MU8hK7_48EoFSxMDCwsAFykIAMgAAAA&amp;sa=X&amp;ved=2ahUKEwjF2te75f7nAhUOHHcKHSvhC5wQ-BZ6BAgTEAI\"><div><div style=\"width:112px\"><div class=\"RWuggc kCrYT\"><div><div class=\"BNeawe s3v9rd AP7Wnd\">94088</div></div></div></div></div></a><a class=\"BVG0Nb\" href=\"/search?ie=UTF-8&amp;q=san+jos%C3%A9+94089&amp;stick=H4sIAAAAAAAAAONgFuLQz9U3SDMwKVPiArEMq4rMCky15LKTrfRz8pMTSzLz8_STM0sqS_LL86yqMgsUkvNTUh8xVnMLvPxxT1iqaNKak9cYc7gIaBBy42JzzSsBCgtJcfFIwS3VYJDi4oLzpBSUuHgPRTuKiXrNj9yuJcT51f5n15NT_Q2C1YXzT3H1zN1pxaTByLOIlb84MU8hK7_48EoFSxMDC0sAlpIBacgAAAA&amp;sa=X&amp;ved=2ahUKEwjF2te75f7nAhUOHHcKHSvhC5wQ-BZ6BAgTEAQ\"><div><div style=\"width:112px\"><div class=\"RWuggc kCrYT\"><div><div class=\"BNeawe s3v9rd AP7Wnd\">94089</div></div></div></div></div></a><a class=\"BVG0Nb\" href=\"/search?ie=UTF-8&amp;q=san+jos%C3%A9+94560&amp;stick=H4sIAAAAAAAAAONgFuLQz9U3SDMwKVPiArEMq7LSzYq15LKTrfRz8pMTSzLz8_STM0sqS_LL86yqMgsUkvNTUh8xVnMLvPxxT1iqaNKak9cYc7gIaBBy42JzzSsBCgtJcfFIwS3VYJDi4oLzpBSUuHgPRTuKiXrNj9yuJcT51f5n15NT_Q2C1YXzT3H1zN1pxaTByLOIlb84MU8hK7_48EoFSxNTMwMAdrK2rcgAAAA&amp;sa=X&amp;ved=2ahUKEwjF2te75f7nAhUOHHcKHSvhC5wQ-BZ6BAgTEAY\"><div><div style=\"width:112px\"><div class=\"RWuggc kCrYT\"><div><div class=\"BNeawe s3v9rd AP7Wnd\">94560</div></div></div></div></div></a><a class=\"BVG0Nb\" href=\"/search?ie=UTF-8&amp;q=san+jos%C3%A9+95002&amp;stick=H4sIAAAAAAAAAONgFuLQz9U3SDMwKVPiArGM8izLS5K05LKTrfRz8pMTSzLz8_STM0sqS_LL86yqMgsUkvNTUh8xVnMLvPxxT1iqaNKak9cYc7gIaBBy42JzzSsBCgtJcfFIwS3VYJDi4oLzpBSUuHgPRTuKiXrNj9yuJcT51f5n15NT_Q2C1YXzT3H1zN1pxaTByLOIlb84MU8hK7_48EoFS1MDAyMAZVkN2sgAAAA&amp;sa=X&amp;ved=2ahUKEwjF2te75f7nAhUOHHcKHSvhC5wQ-BZ6BAgTEAg\"><div><div style=\"width:112px\"><div class=\"RWuggc kCrYT\"><div><div class=\"BNeawe s3v9rd AP7Wnd\">95002</div></div></div></div></div></a><a class=\"BVG0Nb\" href=\"/search?ie=UTF-8&amp;q=san+jos%C3%A9+95008&amp;stick=H4sIAAAAAAAAAONgFuLQz9U3SDMwKVPiArEMq5KTc8u15LKTrfRz8pMTSzLz8_STM0sqS_LL86yqMgsUkvNTUh8xVnMLvPxxT1iqaNKak9cYc7gIaBBy42JzzSsBCgtJcfFIwS3VYJDi4oLzpBSUuHgPRTuKiXrNj9yuJcT51f5n15NT_Q2C1YXzT3H1zN1pxaTByLOIlb84MU8hK7_48EoFS1MDAwsAXdPJK8gAAAA&amp;sa=X&amp;ved=2ahUKEwjF2te75f7nAhUOHHcKHSvhC5wQ-BZ6BAgTEAo\"><div><div style=\"width:112px\"><div class=\"RWuggc kCrYT\"><div><div class=\"BNeawe s3v9rd AP7Wnd\">95008</div></div></div></div></div></a><a class=\"BVG0Nb\" href=\"/search?ie=UTF-8&amp;q=san+jos%C3%A9+95013&amp;stick=H4sIAAAAAAAAAONgFuLQz9U3SDMwKVPiArHM8wriLVO05LKTrfRz8pMTSzLz8_STM0sqS_LL86yqMgsUkvNTUh8xVnMLvPxxT1iqaNKak9cYc7gIaBBy42JzzSsBCgtJcfFIwS3VYJDi4oLzpBSUuHgPRTuKiXrNj9yuJcT51f5n15NT_Q2C1YXzT3H1zN1pxaTByLOIlb84MU8hK7_48EoFS1MDQ2MAG6bQ9sgAAAA&amp;sa=X&amp;ved=2ahUKEwjF2te75f7nAhUOHHcKHSvhC5wQ-BZ6BAgTEAw\"><div><div style=\"width:112px\"><div class=\"RWuggc kCrYT\"><div><div class=\"BNeawe s3v9rd AP7Wnd\">95013</div></div></div></div></div></a><a class=\"BVG0Nb\" href=\"/search?ie=UTF-8&amp;q=san+jos%C3%A9+95035&amp;stick=H4sIAAAAAAAAAONgFuLQz9U3SDMwKVPiArEMq7IMSiq05LKTrfRz8pMTSzLz8_STM0sqS_LL86yqMgsUkvNTUh8xVnMLvPxxT1iqaNKak9cYc7gIaBBy42JzzSsBCgtJcfFIwS3VYJDi4oLzpBSUuHgPRTuKiXrNj9yuJcT51f5n15NT_Q2C1YXzT3H1zN1pxaTByLOIlb84MU8hK7_48EoFS1MDY1MAUj_P6MgAAAA&amp;sa=X&amp;ved=2ahUKEwjF2te75f7nAhUOHHcKHSvhC5wQ-BZ6BAgTEA4\"><div><div style=\"width:112px\"><div class=\"RWuggc kCrYT\"><div><div class=\"BNeawe s3v9rd AP7Wnd\">95035</div></div></div></div></div></a><a class=\"BVG0Nb\" href=\"/search?ie=UTF-8&amp;q=san+jos%C3%A9+95037&amp;stick=H4sIAAAAAAAAAONgFuLQz9U3SDMwKVPiArEMq7KycrO15LKTrfRz8pMTSzLz8_STM0sqS_LL86yqMgsUkvNTUh8xVnMLvPxxT1iqaNKak9cYc7gIaBBy42JzzSsBCgtJcfFIwS3VYJDi4oLzpBSUuHgPRTuKiXrNj9yuJcT51f5n15NT_Q2C1YXzT3H1zN1pxaTByLOIlb84MU8hK7_48EoFS1MDY3MA1QBEKMgAAAA&amp;sa=X&amp;ved=2ahUKEwjF2te75f7nAhUOHHcKHSvhC5wQ-BZ6BAgTEBA\"><div><div style=\"width:112px\"><div class=\"RWuggc kCrYT\"><div><div class=\"BNeawe s3v9rd AP7Wnd\">95037</div></div></div></div></div></a><a class=\"BVG0Nb\" href=\"/search?ie=UTF-8&amp;q=san+jos%C3%A9+95050&amp;stick=H4sIAAAAAAAAAONgFuLQz9U3SDMwKVPiArEMqwrNzMu15LKTrfRz8pMTSzLz8_STM0sqS_LL86yqMgsUkvNTUh8xVnMLvPxxT1iqaNKak9cYc7gIaBBy42JzzSsBCgtJcfFIwS3VYJDi4oLzpBSUuHgPRTuKiXrNj9yuJcT51f5n15NT_Q2C1YXzT3H1zN1pxaTByLOIlb84MU8hK7_48EoFS1MDUwMASChWrcgAAAA&amp;sa=X&amp;ved=2ahUKEwjF2te75f7nAhUOHHcKHSvhC5wQ-BZ6BAgTEBI\"><div><div style=\"width:112px\"><div class=\"RWuggc kCrYT\"><div><div class=\"BNeawe s3v9rd AP7Wnd\">95050</div></div></div></div></div></a><a class=\"BVG0Nb\" href=\"/search?ie=UTF-8&amp;q=san+jos%C3%A9+95054&amp;stick=H4sIAAAAAAAAAONgFuLQz9U3SDMwKVPiArEMqwrNTI215LKTrfRz8pMTSzLz8_STM0sqS_LL86yqMgsUkvNTUh8xVnMLvPxxT1iqaNKak9cYc7gIaBBy42JzzSsBCgtJcfFIwS3VYJDi4oLzpBSUuHgPRTuKiXrNj9yuJcT51f5n15NT_Q2C1YXzT3H1zN1pxaTByLOIlb84MU8hK7_48EoFS1MDUxMAbwn5z8gAAAA&amp;sa=X&amp;ved=2ahUKEwjF2te75f7nAhUOHHcKHSvhC5wQ-BZ6BAgTEBQ\"><div><div style=\"width:112px\"><div class=\"RWuggc kCrYT\"><div><div class=\"BNeawe s3v9rd AP7Wnd\">95054</div></div></div></div></div></a><a class=\"BVG0Nb\" href=\"/search?ie=UTF-8&amp;q=san+jos%C3%A9+95101&amp;stick=H4sIAAAAAAAAAONgFuLQz9U3SDMwKVPiArHM8wriTSu05LKTrfRz8pMTSzLz8_STM0sqS_LL86yqMgsUkvNTUh8xVnMLvPxxT1iqaNKak9cYc7gIaBBy42JzzSsBCgtJcfFIwS3VYJDi4oLzpBSUuHgPRTuKiXrNj9yuJcT51f5n15NT_Q2C1YXzT3H1zN1pxaTByLOIlb84MU8hK7_48EoFS1NDA0MAM_RWS8gAAAA&amp;sa=X&amp;ved=2ahUKEwjF2te75f7nAhUOHHcKHSvhC5wQ-BZ6BAgTEBY\"><div><div style=\"width:112px\"><div class=\"RWuggc kCrYT\"><div><div class=\"BNeawe s3v9rd AP7Wnd\">95101</div></div></div></div></div></a><a class=\"BVG0Nb\" href=\"/search?ie=UTF-8&amp;q=san+jos%C3%A9+95103&amp;stick=H4sIAAAAAAAAAONgFuLQz9U3SDMwKVPiArHM8wriTQu05LKTrfRz8pMTSzLz8_STM0sqS_LL86yqMgsUkvNTUh8xVnMLvPxxT1iqaNKak9cYc7gIaBBy42JzzSsBCgtJcfFIwS3VYJDi4oLzpBSUuHgPRTuKiXrNj9yuJcT51f5n15NT_Q2C1YXzT3H1zN1pxaTByLOIlb84MU8hK7_48EoFS1NDA2MA1yJZCcgAAAA&amp;sa=X&amp;ved=2ahUKEwjF2te75f7nAhUOHHcKHSvhC5wQ-BZ6BAgTEBg\"><div><div style=\"width:112px\"><div class=\"RWuggc kCrYT\"><div><div class=\"BNeawe s3v9rd AP7Wnd\">95103</div></div></div></div></div></a><a class=\"BVG0Nb\" href=\"/search?ie=UTF-8&amp;q=san+jos%C3%A9+95106&amp;stick=H4sIAAAAAAAAAONgFuLQz9U3SDMwKVPiArHM8wriTdO15LKTrfRz8pMTSzLz8_STM0sqS_LL86yqMgsUkvNTUh8xVnMLvPxxT1iqaNKak9cYc7gIaBBy42JzzSsBCgtJcfFIwS3VYJDi4oLzpBSUuHgPRTuKiXrNj9yuJcT51f5n15NT_Q2C1YXzT3H1zN1pxaTByLOIlb84MU8hK7_48EoFS1NDAzMAZj_BksgAAAA&amp;sa=X&amp;ved=2ahUKEwjF2te75f7nAhUOHHcKHSvhC5wQ-BZ6BAgTEBo\"><div><div style=\"width:112px\"><div class=\"RWuggc kCrYT\"><div><div class=\"BNeawe s3v9rd AP7Wnd\">95106</div></div></div></div></div></a><a class=\"BVG0Nb\" href=\"/search?ie=UTF-8&amp;q=san+jos%C3%A9+95108&amp;stick=H4sIAAAAAAAAAONgFuLQz9U3SDMwKVPiArHM8wriTc215LKTrfRz8pMTSzLz8_STM0sqS_LL86yqMgsUkvNTUh8xVnMLvPxxT1iqaNKak9cYc7gIaBBy42JzzSsBCgtJcfFIwS3VYJDi4oLzpBSUuHgPRTuKiXrNj9yuJcT51f5n15NT_Q2C1YXzT3H1zN1pxaTByLOIlb84MU8hK7_48EoFS1NDAwsAN9ZRlsgAAAA&amp;sa=X&amp;ved=2ahUKEwjF2te75f7nAhUOHHcKHSvhC5wQ-BZ6BAgTEBw\"><div><div style=\"width:112px\"><div class=\"RWuggc kCrYT\"><div><div class=\"BNeawe s3v9rd AP7Wnd\">95108</div></div></div></div></div></a><a class=\"BVG0Nb\" href=\"/search?ie=UTF-8&amp;q=san+jos%C3%A9+95109&amp;stick=H4sIAAAAAAAAAONgFuLQz9U3SDMwKVPiArHM8wriTQ205LKTrfRz8pMTSzLz8_STM0sqS_LL86yqMgsUkvNTUh8xVnMLvPxxT1iqaNKak9cYc7gIaBBy42JzzSsBCgtJcfFIwS3VYJDi4oLzpBSUuHgPRTuKiXrNj9yuJcT51f5n15NT_Q2C1YXzT3H1zN1pxaTByLOIlb84MU8hK7_48EoFS1NDA0sATmbWicgAAAA&amp;sa=X&amp;ved=2ahUKEwjF2te75f7nAhUOHHcKHSvhC5wQ-BZ6BAgTEB4\"><div><div style=\"width:112px\"><div class=\"RWuggc kCrYT\"><div><div class=\"BNeawe s3v9rd AP7Wnd\">95109</div></div></div></div></div></a><a class=\"BVG0Nb\" href=\"/search?ie=UTF-8&amp;q=san+jos%C3%A9+95110&amp;stick=H4sIAAAAAAAAAONgFuLQz9U3SDMwKVPiArEMqwrSDY215LKTrfRz8pMTSzLz8_STM0sqS_LL86yqMgsUkvNTUh8xVnMLvPxxT1iqaNKak9cYc7gIaBBy42JzzSsBCgtJcfFIwS3VYJDi4oLzpBSUuHgPRTuKiXrNj9yuJcT51f5n15NT_Q2C1YXzT3H1zN1pxaTByLOIlb84MU8hK7_48EoFS1NDQwMAXtuWrsgAAAA&amp;sa=X&amp;ved=2ahUKEwjF2te75f7nAhUOHHcKHSvhC5wQ-BZ6BAgTECA\"><div><div style=\"width:112px\"><div class=\"RWuggc kCrYT\"><div><div class=\"BNeawe s3v9rd AP7Wnd\">95110</div></div></div></div></div></a><a class=\"BVG0Nb\" href=\"/search?ie=UTF-8&amp;q=san+jos%C3%A9+95111&amp;stick=H4sIAAAAAAAAAONgFuLQz9U3SDMwKVPiArGMU_Jykgy15LKTrfRz8pMTSzLz8_STM0sqS_LL86yqMgsUkvNTUh8xVnMLvPxxT1iqaNKak9cYc7gIaBBy42JzzSsBCgtJcfFIwS3VYJDi4oLzpBSUuHgPRTuKiXrNj9yuJcT51f5n15NT_Q2C1YXzT3H1zN1pxaTByLOIlb84MU8hK7_48EoFS1NDQ0MAXHyR08gAAAA&amp;sa=X&amp;ved=2ahUKEwjF2te75f7nAhUOHHcKHSvhC5wQ-BZ6BAgTECI\"><div><div style=\"width:112px\"><div class=\"RWuggc kCrYT\"><div><div class=\"BNeawe s3v9rd AP7Wnd\">95111</div></div></div></div></div></a><a class=\"BVG0Nb\" href=\"/search?ie=UTF-8&amp;q=san+jos%C3%A9+95112&amp;stick=H4sIAAAAAAAAAONgFuLQz9U3SDMwKVPiArEMqwrSk3K05LKTrfRz8pMTSzLz8_STM0sqS_LL86yqMgsUkvNTUh8xVnMLvPxxT1iqaNKak9cYc7gIaBBy42JzzSsBCgtJcfFIwS3VYJDi4oLzpBSUuHgPRTuKiXrNj9yuJcT51f5n15NT_Q2C1YXzT3H1zN1pxaTByLOIlb84MU8hK7_48EoFS1NDQyMA1cw2csgAAAA&amp;sa=X&amp;ved=2ahUKEwjF2te75f7nAhUOHHcKHSvhC5wQ-BZ6BAgTECQ\"><div><div style=\"width:112px\"><div class=\"RWuggc kCrYT\"><div><div class=\"BNeawe s3v9rd AP7Wnd\">95112</div></div></div></div></div></a><a class=\"BVG0Nb\" href=\"/search?ie=UTF-8&amp;q=san+jos%C3%A9+95113&amp;stick=H4sIAAAAAAAAAONgFuLQz9U3SDMwKVPiBrEMDSwLsw3NteSyk630c_KTE0sy8_P0kzNLKkvyy_OsqjILFJLzU1IfMVZzC7z8cU9YqmjSmpPXGHO4CGgQcuNic80rAQoLSXHxSMFt1WCQ4uKC86QUlLh4D0U7iol6zY_criXE-dX-Z9eTU_0NgtWF809x9czdacWkwciziJW_ODFPISu_-PBKBUtTQ0NjAF2-tfLJAAAA&amp;sa=X&amp;ved=2ahUKEwjF2te75f7nAhUOHHcKHSvhC5wQ-BZ6BAgTECY\"><div><div style=\"width:112px\"><div class=\"RWuggc kCrYT\"><div><div class=\"BNeawe s3v9rd AP7Wnd\">95113</div></div></div></div></div></a><a class=\"BVG0Nb\" href=\"/search?ie=UTF-8&amp;q=san+jos%C3%A9+95115&amp;stick=H4sIAAAAAAAAAONgFuLQz9U3SDMwKVPiArHM8wriTUq05LKTrfRz8pMTSzLz8_STM0sqS_LL86yqMgsUkvNTUh8xVnMLvPxxT1iqaNKak9cYc7gIaBBy42JzzSsBCgtJcfFIwS3VYJDi4oLzpBSUuHgPRTuKiXrNj9yuJcT51f5n15NT_Q2C1YXzT3H1zN1pxaTByLOIlb84MU8hK7_48EoFS1NDQ1MAyadVa8gAAAA&amp;sa=X&amp;ved=2ahUKEwjF2te75f7nAhUOHHcKHSvhC5wQ-BZ6BAgTECg\"><div><div style=\"width:112px\"><div class=\"RWuggc kCrYT\"><div><div class=\"BNeawe s3v9rd AP7Wnd\">95115</div></div></div></div></div></a><a class=\"BVG0Nb\" href=\"/search?ie=UTF-8&amp;q=san+jos%C3%A9+95116&amp;stick=H4sIAAAAAAAAAONgFuLQz9U3SDMwKVPiArEMqwoyMuK15LKTrfRz8pMTSzLz8_STM0sqS_LL86yqMgsUkvNTUh8xVnMLvPxxT1iqaNKak9cYc7gIaBBy42JzzSsBCgtJcfFIwS3VYJDi4oLzpBSUuHgPRTuKiXrNj9yuJcT51f5n15NT_Q2C1YXzT3H1zN1pxaTByLOIlb84MU8hK7_48EoFS1NDQzMAduTPscgAAAA&amp;sa=X&amp;ved=2ahUKEwjF2te75f7nAhUOHHcKHSvhC5wQ-BZ6BAgTECo\"><div><div style=\"width:112px\"><div class=\"RWuggc kCrYT\"><div><div class=\"BNeawe s3v9rd AP7Wnd\">95116</div></div></div></div></div></a><a class=\"BVG0Nb\" href=\"/search?ie=UTF-8&amp;q=san+jos%C3%A9+95117&amp;stick=H4sIAAAAAAAAAONgFuLQz9U3SDMwKVPiArEMqwpyTQu05LKTrfRz8pMTSzLz8_STM0sqS_LL86yqMgsUkvNTUh8xVnMLvPxxT1iqaNKak9cYc7gIaBBy42JzzSsBCgtJcfFIwS3VYJDi4oLzpBSUuHgPRTuKiXrNj9yuJcT51f5n15NT_Q2C1YXzT3H1zN1pxaTByLOIlb84MU8hK7_48EoFS1NDQ3MAefy2isgAAAA&amp;sa=X&amp;ved=2ahUKEwjF2te75f7nAhUOHHcKHSvhC5wQ-BZ6BAgTECw\"><div><div style=\"width:112px\"><div class=\"RWuggc kCrYT\"><div><div class=\"BNeawe s3v9rd AP7Wnd\">95117</div></div></div></div></div></a><a class=\"BVG0Nb\" href=\"/search?ie=UTF-8&amp;q=san+jos%C3%A9+95118&amp;stick=H4sIAAAAAAAAAONgFuLQz9U3SDMwKVPiArEMqwrSy4u15LKTrfRz8pMTSzLz8_STM0sqS_LL86yqMgsUkvNTUh8xVnMLvPxxT1iqaNKak9cYc7gIaBBy42JzzSsBCgtJcfFIwS3VYJDi4oLzpBSUuHgPRTuKiXrNj9yuJcT51f5n15NT_Q2C1YXzT3H1zN1pxaTByLOIlb84MU8hK7_48EoFS1NDQwsAIgcCR8gAAAA&amp;sa=X&amp;ved=2ahUKEwjF2te75f7nAhUOHHcKHSvhC5wQ-BZ6BAgTEC4\"><div><div style=\"width:112px\"><div class=\"RWuggc kCrYT\"><div><div class=\"BNeawe s3v9rd AP7Wnd\">95118</div></div></div></div></div></a><a class=\"BVG0Nb\" href=\"/search?ie=UTF-8&amp;q=san+jos%C3%A9+95119&amp;stick=H4sIAAAAAAAAAONgFuLQz9U3SDMwKVPiArGMU_JyklO05LKTrfRz8pMTSzLz8_STM0sqS_LL86yqMgsUkvNTUh8xVnMLvPxxT1iqaNKak9cYc7gIaBBy42JzzSsBCgtJcfFIwS3VYJDi4oLzpBSUuHgPRTuKiXrNj9yuJcT51f5n15NT_Q2C1YXzT3H1zN1pxaTByLOIlb84MU8hK7_48EoFS1NDQ0sAqxeWucgAAAA&amp;sa=X&amp;ved=2ahUKEwjF2te75f7nAhUOHHcKHSvhC5wQ-BZ6BAgTEDA\"><div><div style=\"width:112px\"><div class=\"RWuggc kCrYT\"><div><div class=\"BNeawe s3v9rd AP7Wnd\">95119</div></div></div></div></div></a><a class=\"BVG0Nb\" href=\"/search?ie=UTF-8&amp;q=san+jos%C3%A9+95120&amp;stick=H4sIAAAAAAAAAONgFuLQz9U3SDMwKVPiArEMqwqyqyy05LKTrfRz8pMTSzLz8_STM0sqS_LL86yqMgsUkvNTUh8xVnMLvPxxT1iqaNKak9cYc7gIaBBy42JzzSsBCgtJcfFIwS3VYJDi4oLzpBSUuHgPRTuKiXrNj9yuJcT51f5n15NT_Q2C1YXzT3H1zN1pxaTByLOIlb84MU8hK7_48EoFS1NDIwMASoZMG8gAAAA&amp;sa=X&amp;ved=2ahUKEwjF2te75f7nAhUOHHcKHSvhC5wQ-BZ6BAgTEDI\"><div><div style=\"width:112px\"><div class=\"RWuggc kCrYT\"><div><div class=\"BNeawe s3v9rd AP7Wnd\">95120</div></div></div></div></div></a><a class=\"BVG0Nb\" href=\"/search?ie=UTF-8&amp;q=san+jos%C3%A9+95121&amp;stick=H4sIAAAAAAAAAONgFuLQz9U3SDMwKVPiArEMqwoyygq05LKTrfRz8pMTSzLz8_STM0sqS_LL86yqMgsUkvNTUh8xVnMLvPxxT1iqaNKak9cYc7gIaBBy42JzzSsBCgtJcfFIwS3VYJDi4oLzpBSUuHgPRTuKiXrNj9yuJcT51f5n15NT_Q2C1YXzT3H1zN1pxaTByLOIlb84MU8hK7_48EoFS1NDI0MAK65_jcgAAAA&amp;sa=X&amp;ved=2ahUKEwjF2te75f7nAhUOHHcKHSvhC5wQ-BZ6BAgTEDQ\"><div><div style=\"width:112px\"><div class=\"RWuggc kCrYT\"><div><div class=\"BNeawe s3v9rd AP7Wnd\">95121</div></div></div></div></div></a><a class=\"BVG0Nb\" href=\"/search?ie=UTF-8&amp;q=san+jos%C3%A9+95122&amp;stick=H4sIAAAAAAAAAONgFuLQz9U3SDMwKVPiArEMqwqyqnK05LKTrfRz8pMTSzLz8_STM0sqS_LL86yqMgsUkvNTUh8xVnMLvPxxT1iqaNKak9cYc7gIaBBy42JzzSsBCgtJcfFIwS3VYJDi4oLzpBSUuHgPRTuKiXrNj9yuJcT51f5n15NT_Q2C1YXzT3H1zN1pxaTByLOIlb84MU8hK7_48EoFS1NDIyMAOSKuSsgAAAA&amp;sa=X&amp;ved=2ahUKEwjF2te75f7nAhUOHHcKHSvhC5wQ-BZ6BAgTEDY\"><div><div style=\"width:112px\"><div class=\"RWuggc kCrYT\"><div><div class=\"BNeawe s3v9rd AP7Wnd\">95122</div></div></div></div></div></a><a class=\"BVG0Nb\" href=\"/search?ie=UTF-8&amp;q=san+jos%C3%A9+95123&amp;stick=H4sIAAAAAAAAAONgFuLQz9U3SDMwKVPiArEMqwrSC3O05LKTrfRz8pMTSzLz8_STM0sqS_LL86yqMgsUkvNTUh8xVnMLvPxxT1iqaNKak9cYc7gIaBBy42JzzSsBCgtJcfFIwS3VYJDi4oLzpBSUuHgPRTuKiXrNj9yuJcT51f5n15NT_Q2C1YXzT3H1zN1pxaTByLOIlb84MU8hK7_48EoFS1NDI2MAeGanSMgAAAA&amp;sa=X&amp;ved=2ahUKEwjF2te75f7nAhUOHHcKHSvhC5wQ-BZ6BAgTEDg\"><div><div style=\"width:112px\"><div class=\"RWuggc kCrYT\"><div><div class=\"BNeawe s3v9rd AP7Wnd\">95123</div></div></div></div></div></a><a class=\"BVG0Nb\" href=\"/search?ie=UTF-8&amp;q=san+jos%C3%A9+95124&amp;stick=H4sIAAAAAAAAAONgFuLQz9U3SDMwKVPiArEMqwrSLS205LKTrfRz8pMTSzLz8_STM0sqS_LL86yqMgsUkvNTUh8xVnMLvPxxT1iqaNKak9cYc7gIaBBy42JzzSsBCgtJcfFIwS3VYJDi4oLzpBSUuHgPRTuKiXrNj9yuJcT51f5n15NT_Q2C1YXzT3H1zN1pxaTByLOIlb84MU8hK7_48EoFS1NDIxMAcutEhcgAAAA&amp;sa=X&amp;ved=2ahUKEwjF2te75f7nAhUOHHcKHSvhC5wQ-BZ6BAgTEDo\"><div><div style=\"width:112px\"><div class=\"RWuggc kCrYT\"><div><div class=\"BNeawe s3v9rd AP7Wnd\">95124</div></div></div></div></div></a><a class=\"BVG0Nb\" href=\"/search?ie=UTF-8&amp;q=san+jos%C3%A9+95125&amp;stick=H4sIAAAAAAAAAONgFuLQz9U3SDMwKVPiArEMqwrSzUy05LKTrfRz8pMTSzLz8_STM0sqS_LL86yqMgsUkvNTUh8xVnMLvPxxT1iqaNKak9cYc7gIaBBy42JzzSsBCgtJcfFIwS3VYJDi4oLzpBSUuHgPRTuKiXrNj9yuJcT51f5n15NT_Q2C1YXzT3H1zN1pxaTByLOIlb84MU8hK7_48EoFS1NDI1MAlIOMrcgAAAA&amp;sa=X&amp;ved=2ahUKEwjF2te75f7nAhUOHHcKHSvhC5wQ-BZ6BAgTEDw\"><div><div style=\"width:112px\"><div class=\"RWuggc kCrYT\"><div><div class=\"BNeawe s3v9rd AP7Wnd\">95125</div></div></div></div></div></a><a class=\"BVG0Nb\" href=\"/search?ie=UTF-8&amp;q=san+jos%C3%A9+95126&amp;stick=H4sIAAAAAAAAAONgFuLQz9U3SDMwKVPiArEMqwrS0wy15LKTrfRz8pMTSzLz8_STM0sqS_LL86yqMgsUkvNTUh8xVnMLvPxxT1iqaNKak9cYc7gIaBBy42JzzSsBCgtJcfFIwS3VYJDi4oLzpBSUuHgPRTuKiXrNj9yuJcT51f5n15NT_Q2C1YXzT3H1zN1pxaTByLOIlb84MU8hK7_48EoFS1NDIzMANuPu9cgAAAA&amp;sa=X&amp;ved=2ahUKEwjF2te75f7nAhUOHHcKHSvhC5wQ-BZ6BAgTED4\"><div><div style=\"width:112px\"><div class=\"RWuggc kCrYT\"><div><div class=\"BNeawe s3v9rd AP7Wnd\">95126</div></div></div></div></div></a><a class=\"BVG0Nb\" href=\"/search?ie=UTF-8&amp;q=san+jos%C3%A9+95127&amp;stick=H4sIAAAAAAAAAONgFuLQz9U3SDMwKVPiArEMqwoyqiy05LKTrfRz8pMTSzLz8_STM0sqS_LL86yqMgsUkvNTUh8xVnMLvPxxT1iqaNKak9cYc7gIaBBy42JzzSsBCgtJcfFIwS3VYJDi4oLzpBSUuHgPRTuKiXrNj9yuJcT51f5n15NT_Q2C1YXzT3H1zN1pxaTByLOIlb84MU8hK7_48EoFS1NDI3MA3nxlmsgAAAA&amp;sa=X&amp;ved=2ahUKEwjF2te75f7nAhUOHHcKHSvhC5wQ-BZ6BAgTEEA\"><div><div style=\"width:112px\"><div class=\"RWuggc kCrYT\"><div><div class=\"BNeawe s3v9rd AP7Wnd\">95127</div></div></div></div></div></a><a class=\"BVG0Nb\" href=\"/search?ie=UTF-8&amp;q=san+jos%C3%A9+95128&amp;stick=H4sIAAAAAAAAAONgFuLQz9U3SDMwKVPiArEMqwrScyu15LKTrfRz8pMTSzLz8_STM0sqS_LL86yqMgsUkvNTUh8xVnMLvPxxT1iqaNKak9cYc7gIaBBy42JzzSsBCgtJcfFIwS3VYJDi4oLzpBSUuHgPRTuKiXrNj9yuJcT51f5n15NT_Q2C1YXzT3H1zN1pxaTByLOIlb84MU8hK7_48EoFS1NDIwsAmMby3MgAAAA&amp;sa=X&amp;ved=2ahUKEwjF2te75f7nAhUOHHcKHSvhC5wQ-BZ6BAgTEEI\"><div><div style=\"width:112px\"><div class=\"RWuggc kCrYT\"><div><div class=\"BNeawe s3v9rd AP7Wnd\">95128</div></div></div></div></div></a><a class=\"BVG0Nb\" href=\"/search?ie=UTF-8&amp;q=san+jos%C3%A9+95129&amp;stick=H4sIAAAAAAAAAONgFuLQz9U3SDMwKVPiArEMq5KTiw205LKTrfRz8pMTSzLz8_STM0sqS_LL86yqMgsUkvNTUh8xVnMLvPxxT1iqaNKak9cYc7gIaBBy42JzzSsBCgtJcfFIwS3VYJDi4oLzpBSUuHgPRTuKiXrNj9yuJcT51f5n15NT_Q2C1YXzT3H1zN1pxaTByLOIlb84MU8hK7_48EoFS1NDI0sA76gN98gAAAA&amp;sa=X&amp;ved=2ahUKEwjF2te75f7nAhUOHHcKHSvhC5wQ-BZ6BAgTEEQ\"><div><div style=\"width:112px\"><div class=\"RWuggc kCrYT\"><div><div class=\"BNeawe s3v9rd AP7Wnd\">95129</div></div></div></div></div></a><a class=\"BVG0Nb\" href=\"/search?ie=UTF-8&amp;q=san+jos%C3%A9+95130&amp;stick=H4sIAAAAAAAAAONgFuLQz9U3SDMwKVPiArEMqwoy0pO15LKTrfRz8pMTSzLz8_STM0sqS_LL86yqMgsUkvNTUh8xVnMLvPxxT1iqaNKak9cYc7gIaBBy42JzzSsBCgtJcfFIwS3VYJDi4oLzpBSUuHgPRTuKiXrNj9yuJcT51f5n15NT_Q2C1YXzT3H1zN1pxaTByLOIlb84MU8hK7_48EoFS1NDYwMAg8eya8gAAAA&amp;sa=X&amp;ved=2ahUKEwjF2te75f7nAhUOHHcKHSvhC5wQ-BZ6BAgTEEY\"><div><div style=\"width:112px\"><div class=\"RWuggc kCrYT\"><div><div class=\"BNeawe s3v9rd AP7Wnd\">95130</div></div></div></div></div></a><a class=\"BVG0Nb\" href=\"/search?ie=UTF-8&amp;q=san+jos%C3%A9+95131&amp;stick=H4sIAAAAAAAAAONgFuLQz9U3SDMwKVPiArEMqwqyKrK05LKTrfRz8pMTSzLz8_STM0sqS_LL86yqMgsUkvNTUh8xVnMLvPxxT1iqaNKak9cYc7gIaBBy42JzzSsBCgtJcfFIwS3VYJDi4oLzpBSUuHgPRTuKiXrNj9yuJcT51f5n15NT_Q2C1YXzT3H1zN1pxaTByLOIlb84MU8hK7_48EoFS1NDY0MAiWck5MgAAAA&amp;sa=X&amp;ved=2ahUKEwjF2te75f7nAhUOHHcKHSvhC5wQ-BZ6BAgTEEg\"><div><div style=\"width:112px\"><div class=\"RWuggc kCrYT\"><div><div class=\"BNeawe s3v9rd AP7Wnd\">95131</div></div></div></div></div></a><a class=\"BVG0Nb\" href=\"/search?ie=UTF-8&amp;q=san+jos%C3%A9+95132&amp;stick=H4sIAAAAAAAAAONgFuLQz9U3SDMwKVPiArEMqwqyMrK15LKTrfRz8pMTSzLz8_STM0sqS_LL86yqMgsUkvNTUh8xVnMLvPxxT1iqaNKak9cYc7gIaBBy42JzzSsBCgtJcfFIwS3VYJDi4oLzpBSUuHgPRTuKiXrNj9yuJcT51f5n15NT_Q2C1YXzT3H1zN1pxaTByLOIlb84MU8hK7_48EoFS1NDYyMA4ZD6mcgAAAA&amp;sa=X&amp;ved=2ahUKEwjF2te75f7nAhUOHHcKHSvhC5wQ-BZ6BAgTEEo\"><div><div style=\"width:112px\"><div class=\"RWuggc kCrYT\"><div><div class=\"BNeawe s3v9rd AP7Wnd\">95132</div></div></div></div></div></a><a class=\"BVG0Nb\" href=\"/search?ie=UTF-8&amp;q=san+jos%C3%A9+95133&amp;stick=H4sIAAAAAAAAAONgFuLQz9U3SDMwKVPiArEMqwoyCnK15LKTrfRz8pMTSzLz8_STM0sqS_LL86yqMgsUkvNTUh8xVnMLvPxxT1iqaNKak9cYc7gIaBBy42JzzSsBCgtJcfFIwS3VYJDi4oLzpBSUuHgPRTuKiXrNj9yuJcT51f5n15NT_Q2C1YXzT3H1zN1pxaTByLOIlb84MU8hK7_48EoFS1NDY2MApXgw4sgAAAA&amp;sa=X&amp;ved=2ahUKEwjF2te75f7nAhUOHHcKHSvhC5wQ-BZ6BAgTEEw\"><div><div style=\"width:112px\"><div class=\"RWuggc kCrYT\"><div><div class=\"BNeawe s3v9rd AP7Wnd\">95133</div></div></div></div></div></a><a class=\"BVG0Nb\" href=\"/search?ie=UTF-8&amp;q=san+jos%C3%A9+95134&amp;stick=H4sIAAAAAAAAAONgFuLQz9U3SDMwKVPiArEMqwqyzVK05LKTrfRz8pMTSzLz8_STM0sqS_LL86yqMgsUkvNTUh8xVnMLvPxxT1iqaNKak9cYc7gIaBBy42JzzSsBCgtJcfFIwS3VYJDi4oLzpBSUuHgPRTuKiXrNj9yuJcT51f5n15NT_Q2C1YXzT3H1zN1pxaTByLOIlb84MU8hK7_48EoFS1NDYxMAyfqNXcgAAAA&amp;sa=X&amp;ved=2ahUKEwjF2te75f7nAhUOHHcKHSvhC5wQ-BZ6BAgTEE4\"><div><div style=\"width:112px\"><div class=\"RWuggc kCrYT\"><div><div class=\"BNeawe s3v9rd AP7Wnd\">95134</div></div></div></div></div></a><a class=\"BVG0Nb\" href=\"/search?ie=UTF-8&amp;q=san+jos%C3%A9+95135&amp;stick=H4sIAAAAAAAAAONgFuLQz9U3SDMwKVPiArGMU_Jy0nO15LKTrfRz8pMTSzLz8_STM0sqS_LL86yqMgsUkvNTUh8xVnMLvPxxT1iqaNKak9cYc7gIaBBy42JzzSsBCgtJcfFIwS3VYJDi4oLzpBSUuHgPRTuKiXrNj9yuJcT51f5n15NT_Q2C1YXzT3H1zN1pxaTByLOIlb84MU8hK7_48EoFS1NDY1MAiZ6mnMgAAAA&amp;sa=X&amp;ved=2ahUKEwjF2te75f7nAhUOHHcKHSvhC5wQ-BZ6BAgTEFA\"><div><div style=\"width:112px\"><div class=\"RWuggc kCrYT\"><div><div class=\"BNeawe s3v9rd AP7Wnd\">95135</div></div></div></div></div></a><a class=\"BVG0Nb\" href=\"/search?ie=UTF-8&amp;q=san+jos%C3%A9+95136&amp;stick=H4sIAAAAAAAAAONgFuLQz9U3SDMwKVPiArEMqwpycsq15LKTrfRz8pMTSzLz8_STM0sqS_LL86yqMgsUkvNTUh8xVnMLvPxxT1iqaNKak9cYc7gIaBBy42JzzSsBCgtJcfFIwS3VYJDi4oLzpBSUuHgPRTuKiXrNj9yuJcT51f5n15NT_Q2C1YXzT3H1zN1pxaTByLOIlb84MU8hK7_48EoFS1NDYzMA0alPfsgAAAA&amp;sa=X&amp;ved=2ahUKEwjF2te75f7nAhUOHHcKHSvhC5wQ-BZ6BAgTEFI\"><div><div style=\"width:112px\"><div class=\"RWuggc kCrYT\"><div><div class=\"BNeawe s3v9rd AP7Wnd\">95136</div></div></div></div></div></a><a class=\"BVG0Nb\" href=\"/search?ie=UTF-8&amp;q=san+jos%C3%A9+95138&amp;stick=H4sIAAAAAAAAAONgFuLQz9U3SDMwKVPiArEMqwpysyq15LKTrfRz8pMTSzLz8_STM0sqS_LL86yqMgsUkvNTUh8xVnMLvPxxT1iqaNKak9cYc7gIaBBy42JzzSsBCgtJcfFIwS3VYJDi4oLzpBSUuHgPRTuKiXrNj9yuJcT51f5n15NT_Q2C1YXzT3H1zN1pxaTByLOIlb84MU8hK7_48EoFS1NDYwsAAuqbtsgAAAA&amp;sa=X&amp;ved=2ahUKEwjF2te75f7nAhUOHHcKHSvhC5wQ-BZ6BAgTEFQ\"><div><div style=\"width:112px\"><div class=\"RWuggc kCrYT\"><div><div class=\"BNeawe s3v9rd AP7Wnd\">95138</div></div></div></div></div></a><a class=\"BVG0Nb\" href=\"/search?ie=UTF-8&amp;q=san+jos%C3%A9+95139&amp;stick=H4sIAAAAAAAAAONgFuLQz9U3SDMwKVPiArGMU_JyMlK05LKTrfRz8pMTSzLz8_STM0sqS_LL86yqMgsUkvNTUh8xVnMLvPxxT1iqaNKak9cYc7gIaBBy42JzzSsBCgtJcfFIwS3VYJDi4oLzpBSUuHgPRTuKiXrNj9yuJcT51f5n15NT_Q2C1YXzT3H1zN1pxaTByLOIlb84MU8hK7_48EoFS1NDY0sAz2dficgAAAA&amp;sa=X&amp;ved=2ahUKEwjF2te75f7nAhUOHHcKHSvhC5wQ-BZ6BAgTEFY\"><div><div style=\"width:112px\"><div class=\"RWuggc kCrYT\"><div><div class=\"BNeawe s3v9rd AP7Wnd\">95139</div></div></div></div></div></a><a class=\"BVG0Nb\" href=\"/search?ie=UTF-8&amp;q=san+jos%C3%A9+95141&amp;stick=H4sIAAAAAAAAAONgFuLQz9U3SDMwKVPiArFMyspTCrO05LKTrfRz8pMTSzLz8_STM0sqS_LL86yqMgsUkvNTUh8xVnMLvPxxT1iqaNKak9cYc7gIaBBy42JzzSsBCgtJcfFIwS3VYJDi4oLzpBSUuHgPRTuKiXrNj9yuJcT51f5n15NT_Q2C1YXzT3H1zN1pxaTByLOIlb84MU8hK7_48EoFS1NDE0MAfDBlj8gAAAA&amp;sa=X&amp;ved=2ahUKEwjF2te75f7nAhUOHHcKHSvhC5wQ-BZ6BAgTEFg\"><div><div style=\"width:112px\"><div class=\"RWuggc kCrYT\"><div><div class=\"BNeawe s3v9rd AP7Wnd\">95141</div></div></div></div></div></a><a class=\"BVG0Nb\" href=\"/search?ie=UTF-8&amp;q=san+jos%C3%A9+95148&amp;stick=H4sIAAAAAAAAAONgFuLQz9U3SDMwKVPiArGMU_JyMuK15LKTrfRz8pMTSzLz8_STM0sqS_LL86yqMgsUkvNTUh8xVnMLvPxxT1iqaNKak9cYc7gIaBBy42JzzSsBCgtJcfFIwS3VYJDi4oLzpBSUuHgPRTuKiXrNj9yuJcT51f5n15NT_Q2C1YXzT3H1zN1pxaTByLOIlb84MU8hK7_48EoFS1NDEwsAb5F_fcgAAAA&amp;sa=X&amp;ved=2ahUKEwjF2te75f7nAhUOHHcKHSvhC5wQ-BZ6BAgTEFo\"><div><div style=\"width:112px\"><div class=\"RWuggc kCrYT\"><div><div class=\"BNeawe s3v9rd AP7Wnd\">95148</div></div></div></div></div></a><a class=\"BVG0Nb\" href=\"/search?ie=UTF-8&amp;q=san+jos%C3%A9+95150&amp;stick=H4sIAAAAAAAAAONgFuLQz9U3SDMwKVPiArHM8wriTZK15LKTrfRz8pMTSzLz8_STM0sqS_LL86yqMgsUkvNTUh8xVnMLvPxxT1iqaNKak9cYc7gIaBBy42JzzSsBCgtJcfFIwS3VYJDi4oLzpBSUuHgPRTuKiXrNj9yuJcT51f5n15NT_Q2C1YXzT3H1zN1pxaTByLOIlb84MU8hK7_48EoFS1NDUwMAfH-hlMgAAAA&amp;sa=X&amp;ved=2ahUKEwjF2te75f7nAhUOHHcKHSvhC5wQ-BZ6BAgTEFw\"><div><div style=\"width:112px\"><div class=\"RWuggc kCrYT\"><div><div class=\"BNeawe s3v9rd AP7Wnd\">95150</div></div></div></div></div></a><a class=\"BVG0Nb\" href=\"/search?ie=UTF-8&amp;q=san+jos%C3%A9+95151&amp;stick=H4sIAAAAAAAAAONgFuLQz9U3SDMwKVPiArHM8wriTUy05LKTrfRz8pMTSzLz8_STM0sqS_LL86yqMgsUkvNTUh8xVnMLvPxxT1iqaNKak9cYc7gIaBBy42JzzSsBCgtJcfFIwS3VYJDi4oLzpBSUuHgPRTuKiXrNj9yuJcT51f5n15NT_Q2C1YXzT3H1zN1pxaTByLOIlb84MU8hK7_48EoFS1NDU0MAUwsOaMgAAAA&amp;sa=X&amp;ved=2ahUKEwjF2te75f7nAhUOHHcKHSvhC5wQ-BZ6BAgTEF4\"><div><div style=\"width:112px\"><div class=\"RWuggc kCrYT\"><div><div class=\"BNeawe s3v9rd AP7Wnd\">95151</div></div></div></div></div></a><a class=\"BVG0Nb\" href=\"/search?ie=UTF-8&amp;q=san+jos%C3%A9+95152&amp;stick=H4sIAAAAAAAAAONgFuLQz9U3SDMwKVPiArHM8wrijSu15LKTrfRz8pMTSzLz8_STM0sqS_LL86yqMgsUkvNTUh8xVnMLvPxxT1iqaNKak9cYc7gIaBBy42JzzSsBCgtJcfFIwS3VYJDi4oLzpBSUuHgPRTuKiXrNj9yuJcT51f5n15NT_Q2C1YXzT3H1zN1pxaTByLOIlb84MU8hK7_48EoFS1NDUyMA0tIBTsgAAAA&amp;sa=X&amp;ved=2ahUKEwjF2te75f7nAhUOHHcKHSvhC5wQ-BZ6BAgTEGA\"><div><div style=\"width:112px\"><div class=\"RWuggc kCrYT\"><div><div class=\"BNeawe s3v9rd AP7Wnd\">95152</div></div></div></div></div></a><a class=\"BVG0Nb\" href=\"/search?ie=UTF-8&amp;q=san+jos%C3%A9+95153&amp;stick=H4sIAAAAAAAAAONgFuLQz9U3SDMwKVPiArHM8wrijQu15LKTrfRz8pMTSzLz8_STM0sqS_LL86yqMgsUkvNTUh8xVnMLvPxxT1iqaNKak9cYc7gIaBBy42JzzSsBCgtJcfFIwS3VYJDi4oLzpBSUuHgPRTuKiXrNj9yuJcT51f5n15NT_Q2C1YXzT3H1zN1pxaTByLOIlb84MU8hK7_48EoFS1NDU2MAjFUHlcgAAAA&amp;sa=X&amp;ved=2ahUKEwjF2te75f7nAhUOHHcKHSvhC5wQ-BZ6BAgTEGI\"><div><div style=\"width:112px\"><div class=\"RWuggc kCrYT\"><div><div class=\"BNeawe s3v9rd AP7Wnd\">95153</div></div></div></div></div></a><a class=\"BVG0Nb\" href=\"/search?ie=UTF-8&amp;q=san+jos%C3%A9+95154&amp;stick=H4sIAAAAAAAAAONgFuLQz9U3SDMwKVPiArHM8wrijTO05LKTrfRz8pMTSzLz8_STM0sqS_LL86yqMgsUkvNTUh8xVnMLvPxxT1iqaNKak9cYc7gIaBBy42JzzSsBCgtJcfFIwS3VYJDi4oLzpBSUuHgPRTuKiXrNj9yuJcT51f5n15NT_Q2C1YXzT3H1zN1pxaTByLOIlb84MU8hK7_48EoFS1NDUxMAzyiQMcgAAAA&amp;sa=X&amp;ved=2ahUKEwjF2te75f7nAhUOHHcKHSvhC5wQ-BZ6BAgTEGQ\"><div><div style=\"width:112px\"><div class=\"RWuggc kCrYT\"><div><div class=\"BNeawe s3v9rd AP7Wnd\">95154</div></div></div></div></div></a><a class=\"BVG0Nb\" href=\"/search?ie=UTF-8&amp;q=san+jos%C3%A9+95155&amp;stick=H4sIAAAAAAAAAONgFuLQz9U3SDMwKVPiArHM8wrijS205LKTrfRz8pMTSzLz8_STM0sqS_LL86yqMgsUkvNTUh8xVnMLvPxxT1iqaNKak9cYc7gIaBBy42JzzSsBCgtJcfFIwS3VYJDi4oLzpBSUuHgPRTuKiXrNj9yuJcT51f5n15NT_Q2C1YXzT3H1zN1pxaTByLOIlb84MU8hK7_48EoFS1NDU1MAD9y_pcgAAAA&amp;sa=X&amp;ved=2ahUKEwjF2te75f7nAhUOHHcKHSvhC5wQ-BZ6BAgTEGY\"><div><div style=\"width:112px\"><div class=\"RWuggc kCrYT\"><div><div class=\"BNeawe s3v9rd AP7Wnd\">95155</div></div></div></div></div></a><a class=\"BVG0Nb\" href=\"/search?ie=UTF-8&amp;q=san+jos%C3%A9+95156&amp;stick=H4sIAAAAAAAAAONgFuLQz9U3SDMwKVPiArHM8wrijQ215LKTrfRz8pMTSzLz8_STM0sqS_LL86yqMgsUkvNTUh8xVnMLvPxxT1iqaNKak9cYc7gIaBBy42JzzSsBCgtJcfFIwS3VYJDi4oLzpBSUuHgPRTuKiXrNj9yuJcT51f5n15NT_Q2C1YXzT3H1zN1pxaTByLOIlb84MU8hK7_48EoFS1NDUzMAhAw3hcgAAAA&amp;sa=X&amp;ved=2ahUKEwjF2te75f7nAhUOHHcKHSvhC5wQ-BZ6BAgTEGg\"><div><div style=\"width:112px\"><div class=\"RWuggc kCrYT\"><div><div class=\"BNeawe s3v9rd AP7Wnd\">95156</div></div></div></div></div></a><a class=\"BVG0Nb\" href=\"/search?ie=UTF-8&amp;q=san+jos%C3%A9+95157&amp;stick=H4sIAAAAAAAAAONgFuLQz9U3SDMwKVPiArHM8wrijcq05LKTrfRz8pMTSzLz8_STM0sqS_LL86yqMgsUkvNTUh8xVnMLvPxxT1iqaNKak9cYc7gIaBBy42JzzSsBCgtJcfFIwS3VYJDi4oLzpBSUuHgPRTuKiXrNj9yuJcT51f5n15NT_Q2C1YXzT3H1zN1pxaTByLOIlb84MU8hK7_48EoFS1NDU3MA9NuePsgAAAA&amp;sa=X&amp;ved=2ahUKEwjF2te75f7nAhUOHHcKHSvhC5wQ-BZ6BAgTEGo\"><div><div style=\"width:112px\"><div class=\"RWuggc kCrYT\"><div><div class=\"BNeawe s3v9rd AP7Wnd\">95157</div></div></div></div></div></a><a class=\"BVG0Nb\" href=\"/search?ie=UTF-8&amp;q=san+jos%C3%A9+95158&amp;stick=H4sIAAAAAAAAAONgFuLQz9U3SDMwKVPiArHM8wrijXK15LKTrfRz8pMTSzLz8_STM0sqS_LL86yqMgsUkvNTUh8xVnMLvPxxT1iqaNKak9cYc7gIaBBy42JzzSsBCgtJcfFIwS3VYJDi4oLzpBSUuHgPRTuKiXrNj9yuJcT51f5n15NT_Q2C1YXzT3H1zN1pxaTByLOIlb84MU8hK7_48EoFS1NDUwsAd0PSv8gAAAA&amp;sa=X&amp;ved=2ahUKEwjF2te75f7nAhUOHHcKHSvhC5wQ-BZ6BAgTEGw\"><div><div style=\"width:112px\"><div class=\"RWuggc kCrYT\"><div><div class=\"BNeawe s3v9rd AP7Wnd\">95158</div></div></div></div></div></a><a class=\"BVG0Nb\" href=\"/search?ie=UTF-8&amp;q=san+jos%C3%A9+95160&amp;stick=H4sIAAAAAAAAAONgFuLQz9U3SDMwKVPiArHM8wrijUy15LKTrfRz8pMTSzLz8_STM0sqS_LL86yqMgsUkvNTUh8xVnMLvPxxT1iqaNKak9cYc7gIaBBy42JzzSsBCgtJcfFIwS3VYJDi4oLzpBSUuHgPRTuKiXrNj9yuJcT51f5n15NT_Q2C1YXzT3H1zN1pxaTByLOIlb84MU8hK7_48EoFS1NDMwMAGOsN1cgAAAA&amp;sa=X&amp;ved=2ahUKEwjF2te75f7nAhUOHHcKHSvhC5wQ-BZ6BAgTEG4\"><div><div style=\"width:112px\"><div class=\"RWuggc kCrYT\"><div><div class=\"BNeawe s3v9rd AP7Wnd\">95160</div></div></div></div></div></a><a class=\"BVG0Nb\" href=\"/search?ie=UTF-8&amp;q=san+jos%C3%A9+95161&amp;stick=H4sIAAAAAAAAAONgFuLQz9U3SDMwKVPiArHM8wriDau05LKTrfRz8pMTSzLz8_STM0sqS_LL86yqMgsUkvNTUh8xVnMLvPxxT1iqaNKak9cYc7gIaBBy42JzzSsBCgtJcfFIwS3VYJDi4oLzpBSUuHgPRTuKiXrNj9yuJcT51f5n15NT_Q2C1YXzT3H1zN1pxaTByLOIlb84MU8hK7_48EoFS1NDM0MA_Rg9kcgAAAA&amp;sa=X&amp;ved=2ahUKEwjF2te75f7nAhUOHHcKHSvhC5wQ-BZ6BAgTEHA\"><div><div style=\"width:112px\"><div class=\"RWuggc kCrYT\"><div><div class=\"BNeawe s3v9rd AP7Wnd\">95161</div></div></div></div></div></a><a class=\"BVG0Nb\" href=\"/search?ie=UTF-8&amp;q=san+jos%C3%A9+95164&amp;stick=H4sIAAAAAAAAAONgFuLQz9U3SDMwKVPiArHM8wriDYu05LKTrfRz8pMTSzLz8_STM0sqS_LL86yqMgsUkvNTUh8xVnMLvPxxT1iqaNKak9cYc7gIaBBy42JzzSsBCgtJcfFIwS3VYJDi4oLzpBSUuHgPRTuKiXrNj9yuJcT51f5n15NT_Q2C1YXzT3H1zN1pxaTByLOIlb84MU8hK7_48EoFS1NDMxMAultWTcgAAAA&amp;sa=X&amp;ved=2ahUKEwjF2te75f7nAhUOHHcKHSvhC5wQ-BZ6BAgTEHI\"><div><div style=\"width:112px\"><div class=\"RWuggc kCrYT\"><div><div class=\"BNeawe s3v9rd AP7Wnd\">95164</div></div></div></div></div></a><a class=\"BVG0Nb\" href=\"/search?ie=UTF-8&amp;q=san+jos%C3%A9+95170&amp;stick=H4sIAAAAAAAAAONgFuLQz9U3SDMwKVPiArHM8wriDbO05LKTrfRz8pMTSzLz8_STM0sqS_LL86yqMgsUkvNTUh8xVnMLvPxxT1iqaNKak9cYc7gIaBBy42JzzSsBCgtJcfFIwS3VYJDi4oLzpBSUuHgPRTuKiXrNj9yuJcT51f5n15NT_Q2C1YXzT3H1zN1pxaTByLOIlb84MU8hK7_48EoFS1NDcwMA-3BTfMgAAAA&amp;sa=X&amp;ved=2ahUKEwjF2te75f7nAhUOHHcKHSvhC5wQ-BZ6BAgTEHQ\"><div><div style=\"width:112px\"><div class=\"RWuggc kCrYT\"><div><div class=\"BNeawe s3v9rd AP7Wnd\">95170</div></div></div></div></div></a><a class=\"BVG0Nb\" href=\"/search?ie=UTF-8&amp;q=san+jos%C3%A9+95172&amp;stick=H4sIAAAAAAAAAONgFuLQz9U3SDMwKVPiArHM8wriDS215LKTrfRz8pMTSzLz8_STM0sqS_LL86yqMgsUkvNTUh8xVnMLvPxxT1iqaNKak9cYc7gIaBBy42JzzSsBCgtJcfFIwS3VYJDi4oLzpBSUuHgPRTuKiXrNj9yuJcT51f5n15NT_Q2C1YXzT3H1zN1pxaTByLOIlb84MU8hK7_48EoFS1NDcyMAio71T8gAAAA&amp;sa=X&amp;ved=2ahUKEwjF2te75f7nAhUOHHcKHSvhC5wQ-BZ6BAgTEHY\"><div><div style=\"width:112px\"><div class=\"RWuggc kCrYT\"><div><div class=\"BNeawe s3v9rd AP7Wnd\">95172</div></div></div></div></div></a><a class=\"BVG0Nb\" href=\"/search?ie=UTF-8&amp;q=95173&amp;stick=H4sIAAAAAAAAAONgFuLQz9U3SDMwKVPiArHM8wriDY205LKTrfRz8pMTSzLz8_STM0sqS_LL86yqMgsUkvNTUh8xVnMLvPxxT1iqaNKak9cYc7gIaBBy42JzzSsBCgtJcfFIwS3VYJDi4oLzpBSUuHgPRTuKiXrNj9yuJcT51f5n15NT_Q2C1YXzT3H1zN1pxaTByLOIldXS1NDcGADzaLTOvgAAAA&amp;sa=X&amp;ved=2ahUKEwjF2te75f7nAhUOHHcKHSvhC5wQ-BZ6BAgTEHg\"><div><div style=\"width:112px\"><div class=\"RWuggc kCrYT\"><div><div class=\"BNeawe s3v9rd AP7Wnd\">95173</div></div></div></div></div></a><a class=\"BVG0Nb\" href=\"/search?ie=UTF-8&amp;q=san+jos%C3%A9+95190&amp;stick=H4sIAAAAAAAAAONgFuLQz9U3SDMwKVPiArHM8wriDcq15LKTrfRz8pMTSzLz8_STM0sqS_LL86yqMgsUkvNTUh8xVnMLvPxxT1iqaNKak9cYc7gIaBBy42JzzSsBCgtJcfFIwS3VYJDi4oLzpBSUuHgPRTuKiXrNj9yuJcT51f5n15NT_Q2C1YXzT3H1zN1pxaTByLOIlb84MU8hK7_48EoFS1NDSwMA_6RXSsgAAAA&amp;sa=X&amp;ved=2ahUKEwjF2te75f7nAhUOHHcKHSvhC5wQ-BZ6BAgTEHo\"><div><div style=\"width:112px\"><div class=\"RWuggc kCrYT\"><div><div class=\"BNeawe s3v9rd AP7Wnd\">95190</div></div></div></div></div></a><a class=\"BVG0Nb\" href=\"/search?ie=UTF-8&amp;q=san+jos%C3%A9+95191&amp;stick=H4sIAAAAAAAAAONgFuLQz9U3SDMwKVPiArHM8wriDfK05LKTrfRz8pMTSzLz8_STM0sqS_LL86yqMgsUkvNTUh8xVnMLvPxxT1iqaNKak9cYc7gIaBBy42JzzSsBCgtJcfFIwS3VYJDi4oLzpBSUuHgPRTuKiXrNj9yuJcT51f5n15NT_Q2C1YXzT3H1zN1pxaTByLOIlb84MU8hK7_48EoFS1NDS0MAiXyjB8gAAAA&amp;sa=X&amp;ved=2ahUKEwjF2te75f7nAhUOHHcKHSvhC5wQ-BZ6BAgTEHw\"><div><div style=\"width:112px\"><div class=\"RWuggc kCrYT\"><div><div class=\"BNeawe s3v9rd AP7Wnd\">95191</div></div></div></div></div></a><a class=\"BVG0Nb\" href=\"/search?ie=UTF-8&amp;q=san+jos%C3%A9+95192&amp;stick=H4sIAAAAAAAAAONgFuLQz9U3SDMwKVPiArHM8wriDdK05LKTrfRz8pMTSzLz8_STM0sqS_LL86yqMgsUkvNTUh8xVnMLvPxxT1iqaNKak9cYc7gIaBBy42JzzSsBCgtJcfFIwS3VYJDi4oLzpBSUuHgPRTuKiXrNj9yuJcT51f5n15NT_Q2C1YXzT3H1zN1pxaTByLOIlb84MU8hK7_48EoFS1NDSyMA-5qrMsgAAAA&amp;sa=X&amp;ved=2ahUKEwjF2te75f7nAhUOHHcKHSvhC5wQ-BZ6BAgTEH4\"><div><div style=\"width:112px\"><div class=\"RWuggc kCrYT\"><div><div class=\"BNeawe s3v9rd AP7Wnd\">95192</div></div></div></div></div></a><a class=\"BVG0Nb\" href=\"/search?ie=UTF-8&amp;q=san+jos%C3%A9+95193&amp;stick=H4sIAAAAAAAAAONgFuLQz9U3SDMwKVPiArHM8wriDcy05LKTrfRz8pMTSzLz8_STM0sqS_LL86yqMgsUkvNTUh8xVnMLvPxxT1iqaNKak9cYc7gIaBBy42JzzSsBCgtJcfFIwS3VYJDi4oLzpBSUuHgPRTuKiXrNj9yuJcT51f5n15NT_Q2C1YXzT3H1zN1pxaTByLOIlb84MU8hK7_48EoFS1NDS2MAO26EpsgAAAA&amp;sa=X&amp;ved=2ahUKEwjF2te75f7nAhUOHHcKHSvhC5wQ-BZ6BQgTEIAB\"><div><div style=\"width:112px\"><div class=\"RWuggc kCrYT\"><div><div class=\"BNeawe s3v9rd AP7Wnd\">95193</div></div></div></div></div></a><a class=\"BVG0Nb\" href=\"/search?ie=UTF-8&amp;q=san+jos%C3%A9+95194&amp;stick=H4sIAAAAAAAAAONgFuLQz9U3SDMwKVPiArHM8wqq4uO15LKTrfRz8pMTSzLz8_STM0sqS_LL86yqMgsUkvNTUh8xVnMLvPxxT1iqaNKak9cYc7gIaBBy42JzzSsBCgtJcfFIwS3VYJDi4oLzpBSUuHgPRTuKiXrNj9yuJcT51f5n15NT_Q2C1YXzT3H1zN1pxaTByLOIlb84MU8hK7_48EoFS1NDSxMAELY_ccgAAAA&amp;sa=X&amp;ved=2ahUKEwjF2te75f7nAhUOHHcKHSvhC5wQ-BZ6BQgTEIIB\"><div><div style=\"width:112px\"><div class=\"RWuggc kCrYT\"><div><div class=\"BNeawe s3v9rd AP7Wnd\">95194</div></div></div></div></div></a><a class=\"BVG0Nb\" href=\"/search?ie=UTF-8&amp;q=san+jos%C3%A9+95196&amp;stick=H4sIAAAAAAAAAONgFuLQz9U3SDMwKVPiArHM8wqq4ou15LKTrfRz8pMTSzLz8_STM0sqS_LL86yqMgsUkvNTUh8xVnMLvPxxT1iqaNKak9cYc7gIaBBy42JzzSsBCgtJcfFIwS3VYJDi4oLzpBSUuHgPRTuKiXrNj9yuJcT51f5n15NT_Q2C1YXzT3H1zN1pxaTByLOIlb84MU8hK7_48EoFS1NDSzMA826luMgAAAA&amp;sa=X&amp;ved=2ahUKEwjF2te75f7nAhUOHHcKHSvhC5wQ-BZ6BQgTEIQB\"><div><div style=\"width:112px\"><div class=\"RWuggc kCrYT\"><div><div class=\"BNeawe s3v9rd AP7Wnd\">95196</div></div></div></div></div></a></div></div></div></div></div></div></div><div><div class=\"ZINbbc xpd O9g5cc uUPGi\"><div class=\"kCrYT\"><div class=\"nGphre\"><img alt=\"\" class=\"UykT9d\" data-deferred=\"1\" id=\"dimg_13\" src=\"data:image/gif;base64,R0lGODlhAQABAIAAAP///////yH5BAEKAAEALAAAAAABAAEAAAICTAEAOw==\" style=\"max-width:72px;max-height:72px\"/></div><span><div class=\"BNeawe deIvCb AP7Wnd\">San José</div></span><span><div class=\"BNeawe tAd8D AP7Wnd\">Város, Kalifornia</div></span><div class=\"nYT7Qb\"></div></div><div class=\"Q0HXG\"></div><div class=\"kCrYT\"><div><div class=\"BNeawe s3v9rd AP7Wnd\"><div><div class=\"BNeawe s3v9rd AP7Wnd\">San José város az Amerikai Egyesült Államokban, Kalifornia államban.\n",
       "San José Kalifornia állam harmadik legnagyobb városa, az Egyesült Államokban a tizedik. Santa Clara megyeszékhelye. A város a Santa Clara-völgyben fekszik, a Szilícium-völgy régiójában. <span class=\"BNeawe\"><a href=\"/url?q=https://hu.wikipedia.org/wiki/San_Jos%25C3%25A9_(Kalifornia)&amp;sa=U&amp;ved=2ahUKEwjF2te75f7nAhUOHHcKHSvhC5wQmhN6BAgUEAU&amp;usg=AOvVaw0_eSF48pA-jlxLO73oM4m0\"><span class=\"XLloXe AP7Wnd\">Wikipédia</span></a></span></div></div></div></div></div></div></div><div class=\"ZINbbc xpd O9g5cc uUPGi\"><h2 class=\"wITvVb\"><span><div class=\"BNeawe deIvCb AP7Wnd\"><span class=\"FCUp0c rQMQod\">Mások ezeket a kérdéseket is felteszik</span></div></span></h2><div class=\"LKSyXe\"></div><div class=\"xpc\"><div class=\"duf-h\"><div aria-expanded=\"false\" class=\"fLtXsc iIWm4b\" data-ved=\"2ahUKEwjF2te75f7nAhUOHHcKHSvhC5wQuk56BAgOEAI\" id=\"tsuid1\" role=\"button\"><div class=\"Lt3Tzc\">What is the ZIP code for downtown San Jose?</div><div class=\"Lym8W xCgLUe\"><div class=\"AeQQub hwc\"></div><div class=\"YCU7eb hwc\"></div><div class=\"IyYaEd hwx\"></div><div class=\"ECUHQe hwx\"></div></div></div></div><div class=\"qxDOhb\" id=\"accdef_2\"></div></div><div class=\"LKSyXe\"></div><div class=\"xpc\"><div class=\"duf-h\"><div aria-expanded=\"false\" class=\"fLtXsc iIWm4b\" data-ved=\"2ahUKEwjF2te75f7nAhUOHHcKHSvhC5wQuk56BAgOEAU\" id=\"tsuid4\" role=\"button\"><div class=\"Lt3Tzc\">What area code is San Jose?</div><div class=\"Lym8W xCgLUe\"><div class=\"AeQQub hwc\"></div><div class=\"YCU7eb hwc\"></div><div class=\"IyYaEd hwx\"></div><div class=\"ECUHQe hwx\"></div></div></div></div><div class=\"qxDOhb\" id=\"accdef_5\"></div></div><div class=\"LKSyXe\"></div><div class=\"xpc\"><div class=\"duf-h\"><div aria-expanded=\"false\" class=\"fLtXsc iIWm4b\" data-ved=\"2ahUKEwjF2te75f7nAhUOHHcKHSvhC5wQuk56BAgOEAg\" id=\"tsuid7\" role=\"button\"><div class=\"Lt3Tzc\">What is the zip code for area code 408?</div><div class=\"Lym8W xCgLUe\"><div class=\"AeQQub hwc\"></div><div class=\"YCU7eb hwc\"></div><div class=\"IyYaEd hwx\"></div><div class=\"ECUHQe hwx\"></div></div></div></div><div class=\"qxDOhb\" id=\"accdef_8\"></div></div><div class=\"LKSyXe\"></div><div class=\"xpc\"><div class=\"duf-h\"><div aria-expanded=\"false\" class=\"fLtXsc iIWm4b\" data-ved=\"2ahUKEwjF2te75f7nAhUOHHcKHSvhC5wQuk56BAgOEAs\" id=\"tsuid10\" role=\"button\"><div class=\"Lt3Tzc\">What is the California postal code?</div><div class=\"Lym8W xCgLUe\"><div class=\"AeQQub hwc\"></div><div class=\"YCU7eb hwc\"></div><div class=\"IyYaEd hwx\"></div><div class=\"ECUHQe hwx\"></div></div></div></div><div class=\"qxDOhb\" id=\"accdef_11\"></div></div></div><div><div class=\"ZINbbc xpd O9g5cc uUPGi\"><div class=\"kCrYT\"><a href=\"/url?q=https://www.zip-codes.com/city/ca-san-jose.asp&amp;sa=U&amp;ved=2ahUKEwjF2te75f7nAhUOHHcKHSvhC5wQFjAXegQIAxAB&amp;usg=AOvVaw13ZG8O__x0mtT1Vc7_osnG\"><div class=\"BNeawe vvjwJb AP7Wnd\">All Zip Codes in San Jose CA - Zip-Codes.com</div><div class=\"BNeawe UPmit AP7Wnd\">https://www.zip-codes.com › city › ca-san-jose</div></a></div><div class=\"x54gtf\"></div><div class=\"kCrYT\"><div><div class=\"BNeawe s3v9rd AP7Wnd\"><div><div><div class=\"BNeawe s3v9rd AP7Wnd\">City of San Jose, CA - SANTA CLARA County California ZIP Codes. Detailed information on every zip code in San Jose.</div></div></div></div></div></div></div></div><div><div class=\"ZINbbc xpd O9g5cc uUPGi\"><div class=\"kCrYT\"><a href=\"/url?q=https://california.hometownlocator.com/zip-codes/zipcodes,city,san%2520jose.cfm&amp;sa=U&amp;ved=2ahUKEwjF2te75f7nAhUOHHcKHSvhC5wQFjAYegQICRAB&amp;usg=AOvVaw12foNqu3Eo-ebabaCbs5bU\"><div class=\"BNeawe vvjwJb AP7Wnd\">San Jose, California (CA) ZIP Code Map</div><div class=\"BNeawe UPmit AP7Wnd\">https://california.hometownlocator.com › zip-codes › zipcodes,city,san jose</div></a></div><div class=\"x54gtf\"></div><div class=\"kCrYT\"><div><div class=\"BNeawe s3v9rd AP7Wnd\"><div><div><div class=\"BNeawe s3v9rd AP7Wnd\">Maps of all 59 San Jose, CA ZIP Codes with population, income and housing data, local area photos, jobs and information.</div></div></div></div></div></div></div></div><div><div class=\"ZINbbc xpd O9g5cc uUPGi\"><div class=\"kCrYT\"><a href=\"/url?q=https://www.zipmap.net/California/Santa_Clara_County/San_Jose.htm&amp;sa=U&amp;ved=2ahUKEwjF2te75f7nAhUOHHcKHSvhC5wQFjAZegQIBRAB&amp;usg=AOvVaw3Glkmgx2G2exIYeO_dKFVM\"><div class=\"BNeawe vvjwJb AP7Wnd\">San Jose, California Zip Code Boundary Map (CA)</div><div class=\"BNeawe UPmit AP7Wnd\">https://www.zipmap.net › California › Santa_Clara_County › San_Jose</div></a></div><div class=\"x54gtf\"></div><div class=\"kCrYT\"><div><div class=\"BNeawe s3v9rd AP7Wnd\"><div><div><div class=\"BNeawe s3v9rd AP7Wnd\">This page shows a map with an overlay of Zip Codes for San Jose, Santa Clara County, California. Users can easily view the boundaries of each Zip Code and ...</div></div></div></div></div></div></div></div><div><div class=\"ZINbbc xpd O9g5cc uUPGi\"><div class=\"kCrYT\"><a href=\"/url?q=https://worldpostalcode.com/united-states/california/san-jose&amp;sa=U&amp;ved=2ahUKEwjF2te75f7nAhUOHHcKHSvhC5wQFjAaegQIBBAB&amp;usg=AOvVaw0RaDZwQFmjQcXwEgleQxW7\"><div class=\"BNeawe vvjwJb AP7Wnd\">San Jose (CA), United States Zip Codes - World Postal Code</div><div class=\"BNeawe UPmit AP7Wnd\">https://worldpostalcode.com › United States › California</div></a></div><div class=\"x54gtf\"></div><div class=\"kCrYT\"><div><div class=\"BNeawe s3v9rd AP7Wnd\"><div><div><div class=\"BNeawe s3v9rd AP7Wnd\">ZIP codes for San Jose, California, US. Use our interactive map, address lookup, or code list to find the correct 5-digit or 9-digit (ZIP+4) code for your postal mails ...</div></div></div></div></div></div></div></div><div><div class=\"ZINbbc xpd O9g5cc uUPGi\"><div class=\"kCrYT\"><a href=\"/url?q=https://sanjose.areaconnect.com/zip2.htm%3Fsearch%3Dzip&amp;sa=U&amp;ved=2ahUKEwjF2te75f7nAhUOHHcKHSvhC5wQFjAbegQIBhAB&amp;usg=AOvVaw0bYMX0RyDTQv-l0CWWeV9j\"><div class=\"BNeawe vvjwJb AP7Wnd\">San Jose Zip Codes, Area Code, County and more</div><div class=\"BNeawe UPmit AP7Wnd\">https://sanjose.areaconnect.com › zip2 › search=zip</div></a></div><div class=\"x54gtf\"></div><div class=\"kCrYT\"><div><div class=\"BNeawe s3v9rd AP7Wnd\"><div><div><div class=\"BNeawe s3v9rd AP7Wnd\">San Jose Yellow Pages ...find local info, white pages, demographics and more using Areaconnect San Jose.</div></div></div></div></div></div></div></div><div><div class=\"ZINbbc xpd O9g5cc uUPGi\"><div class=\"kCrYT\"><a href=\"/url?q=http://www.city-data.com/zipmaps/San-Jose-California.html&amp;sa=U&amp;ved=2ahUKEwjF2te75f7nAhUOHHcKHSvhC5wQFjAcegQICBAB&amp;usg=AOvVaw10EXsWqYwNModSQzmUAJ5v\"><div class=\"BNeawe vvjwJb AP7Wnd\">San Jose, California (CA) Zip Code Map - Locations, Demographics ...</div><div class=\"BNeawe UPmit AP7Wnd\">www.city-data.com › San Jose, CA</div></a></div><div class=\"x54gtf\"></div><div class=\"kCrYT\"><div><div class=\"BNeawe s3v9rd AP7Wnd\"><div><div><div class=\"BNeawe s3v9rd AP7Wnd\">Zip codes: 94089, 95002, 95008, 95013, 95014, 95032, 95035, 95037, 95050, 95054, 95070, 95110, 95111, 95112, 95113, 95116, 95117, 95118, 95119, ...</div></div></div></div></div></div></div></div><div><div class=\"ZINbbc xpd O9g5cc uUPGi\"><div class=\"kCrYT\"><a href=\"/url?q=http://zipcode.org/city/CA/SANJOSE&amp;sa=U&amp;ved=2ahUKEwjF2te75f7nAhUOHHcKHSvhC5wQFjAdegQIARAB&amp;usg=AOvVaw2sTkS7IO_PDbv3QuGBZ7QY\"><div class=\"BNeawe vvjwJb AP7Wnd\">City of San Jose, CA Zip Codes | ZipCode.org</div><div class=\"BNeawe UPmit AP7Wnd\">zipcode.org › California</div></a></div><div class=\"x54gtf\"></div><div class=\"kCrYT\"><div><div class=\"BNeawe s3v9rd AP7Wnd\"><div><div><div class=\"BNeawe s3v9rd AP7Wnd\">San Jose Zip Codes. California zip codes and information.</div></div></div></div></div></div></div></div><div><div class=\"ZINbbc xpd O9g5cc uUPGi\"><div class=\"kCrYT\"><a href=\"/url?q=https://www.zipdatamaps.com/zipcodes-san-jose-ca&amp;sa=U&amp;ved=2ahUKEwjF2te75f7nAhUOHHcKHSvhC5wQFjAeegQIABAB&amp;usg=AOvVaw2WtDcURBjlRFxL42oEVlWn\"><div class=\"BNeawe vvjwJb AP7Wnd\">San Jose, California ZIP Code Map - Updated March 2020</div><div class=\"BNeawe UPmit AP7Wnd\">https://www.zipdatamaps.com › zipcodes-san-jose-ca</div></a></div><div class=\"x54gtf\"></div><div class=\"kCrYT\"><div><div class=\"BNeawe s3v9rd AP7Wnd\"><div><div><div class=\"BNeawe s3v9rd AP7Wnd\">Map of ZIP Codes in San Jose, California. ... List of Zipcodes in San Jose, California. ZIP Code, ZIP Code Name, Population, Type. 94089. Sunnyvale, 19245 ...</div></div></div></div></div></div></div></div><div><div class=\"ZINbbc xpd O9g5cc uUPGi\"><div class=\"kCrYT\"><a href=\"/url?q=https://data.mongabay.com/igapo/states/ca/san_jose,_california.html&amp;sa=U&amp;ved=2ahUKEwjF2te75f7nAhUOHHcKHSvhC5wQFjAfegQIAhAB&amp;usg=AOvVaw15sjsP4PutY3_qWBpAuLyB\"><div class=\"BNeawe vvjwJb AP7Wnd\">Zip Code(s) for San Jose, California</div><div class=\"BNeawe UPmit AP7Wnd\">https://data.mongabay.com › igapo › states › san_jose,_california</div></a></div><div class=\"x54gtf\"></div><div class=\"kCrYT\"><div><div class=\"BNeawe s3v9rd AP7Wnd\"><div><div><div class=\"BNeawe s3v9rd AP7Wnd\">95106 (area code: 408) 95108 (area code: 408) 95109 (area code: 408) 95110 ( area code: 408) 95111 (area code: 408) 95112 (area code: 408) 95113 (area ...</div></div></div></div></div></div></div></div><div><div class=\"ZINbbc xpd O9g5cc uUPGi\"><div class=\"kCrYT\"><a href=\"/url?q=https://www.sanjoseca.gov/Home/ShowDocument%3Fid%3D9143&amp;sa=U&amp;ved=2ahUKEwjF2te75f7nAhUOHHcKHSvhC5wQFjAgegQIBxAB&amp;usg=AOvVaw1JsEtYK9egorrzdtuQoEvF\"><div class=\"BNeawe vvjwJb AP7Wnd\">[PDF] Zip Code Map - City of San Jose</div><div class=\"BNeawe UPmit AP7Wnd\">https://www.sanjoseca.gov › Home › ShowDocument</div></a></div><div class=\"x54gtf\"></div><div class=\"kCrYT\"><div><div class=\"BNeawe s3v9rd AP7Wnd\"><div><div><div class=\"BNeawe s3v9rd AP7Wnd\">Hwy 17. Hwy 17Hwy 17. Hwy 17. Hwy 85. Hwy 85. Hwy 85. Hwy 85. Hwy 85. Hwy 85. Hwy 280. Hwy 280. Hwy 280. Hwy 280. Hwy 280. Hwy 280. 95037. 95037.</div></div></div></div></div></div></div></div><footer> <div> <div class=\"ZINbbc xpd O9g5cc uUPGi BmP5tf\"><div class=\"nMymef MUxGbd lyLwlc\"><a aria-label=\"Következő oldal\" class=\"nBDE1b G5eFlf\" href=\"/search?q=San+Jose+zip+code&amp;ie=UTF-8&amp;ei=3Y5eXoX4KI643AOrwq_gCQ&amp;start=10&amp;sa=N\">Következő &gt;</a></div></div> </div> <div id=\"mCljob\"><div><a href=\"/url?q=https://accounts.google.com/ServiceLogin%3Fcontinue%3Dhttps://www.google.com/search%253Fq%253DSan%252BJose%252Bzip%252Bcode%26hl%3Dhu&amp;sa=U&amp;ved=0ahUKEwjF2te75f7nAhUOHHcKHSvhC5wQxs8CCNgB&amp;usg=AOvVaw05Y4ylQchSbVaP1AFfxUN8\">Bejelentkezés</a></div><div><a class=\"ksTU4c\" href=\"https://www.google.com/preferences?hl=hu&amp;fg=1&amp;sa=X&amp;ved=0ahUKEwjF2te75f7nAhUOHHcKHSvhC5wQ5fUCCNkB\">Beállítások</a><a class=\"ksTU4c\" href=\"//policies.google.com/privacy?fg=1\">Adatvédelem</a><a class=\"ksTU4c\" href=\"//policies.google.com/terms?fg=1\">Általános Szerződési Feltételek</a></div></div> </footer><script nonce=\"xrA4b0edzsj1KgOCRcz10A==\">(function(){var hl='hu';(function(){\n",
       "var b=this||self,d=/^[\\w+/_-]+[=]{0,2}$/,e=null;var f=document.querySelector(\".l\"),g=document.querySelector(\"#sf\"),k=g.querySelector(\".sbc\"),l=g.querySelector(\"[type=text]\"),m=g.querySelector(\"[type=submit]\"),n=g.querySelector(\".sc\"),p=g.querySelector(\".x\"),q=l.value,r=[],t=-1,u=q,w,x,y;q||(p&&(p.style.display=\"none\"),z(!1));function z(a){if(k.classList.contains(\"esbc\")){var c=k.classList.contains(\"chsbc\"),h=k.classList.contains(\"rtlsbc\");a&&(n.style.display=\"block\",c?(g.style.borderRadius=\"20px 20px 0 0\",n.style.borderBottom=\"1px solid #DFE1E5\",m.style.borderRadius=h?\"20px 0 0 0\":\"0 20px 0 0\"):k.style.borderRadius=h?\"0 8px 0 0\":\"8px 0 0 0\");a||(n.style.display=\"none\",c?(g.style.borderRadius=\"20px\",n.style.borderBottom=\"none\",m.style.borderRadius=h?\"20px 0 0 20px\":\"0 20px 20px 0\"):k.style.borderRadius=h?\"0 8px 8px 0\":\"8px 0 0 8px\")}}function A(){g.querySelector(\"[name=oq]\").value=u;g.querySelector(\"[name=aqs]\").value=\"heirloom-srp.\"+(0<=t?t:\"\")+\".\"+(0<r.length?\"0l\"+r.length:\"\")}\n",
       "function C(){w=null;if(x){var a=\"/complete/search?client=heirloom-srp&hl=\"+hl+\"&json=t&callback=hS&q=\"+encodeURIComponent(x);\"undefined\"!==typeof ds&&ds&&(a+=\"&ds=\"+ds);var c=document.createElement(\"script\");c.src=a;if(null===e)a:{a=b.document;if((a=a.querySelector&&a.querySelector(\"script[nonce]\"))&&(a=a.nonce||a.getAttribute(\"nonce\"))&&d.test(a)){e=a;break a}e=\"\"}(a=e)&&c.setAttribute(\"nonce\",a);document.body.appendChild(c);x=null;w=setTimeout(C,500)}}\n",
       "function D(){for(;n.firstChild;)n.removeChild(n.firstChild);r=[];t=-1;z(!1)}function E(){var a=n.querySelector(\".scs\");a&&(a.className=\"\");0<=t?(a=n.childNodes[t],a.className=\"scs\",q=a.textContent):q=u;l.value=q}l.addEventListener(\"focus\",function(){f&&(f.style.display=\"none\")},!1);l.addEventListener(\"blur\",function(){D();f&&(f.style.display=\"\")},!1);l.addEventListener(\"keyup\",function(a){q=l.value;y=!1;13==a.which?A():27==a.which?(D(),f&&(f.style.display=\"\"),q=u,l.value=q):40==a.which?(t++,t>=r.length&&(t=-1),E()):38==a.which?(t--,-1>t&&(t=r.length-1),E()):(a=q)?(p&&(p.style.display=\"\"),x=a,w||C(),u=a):(p&&(p.style.display=\"none\"),z(!1),D(),u=\"\",y=!0)},!1);m.addEventListener(\"click\",A,!1);p.addEventListener(\"click\",function(){l.value=\"\";p.style.display=\"none\";z(!1)},!1);k.addEventListener(\"click\",function(){l.focus()},!1);window.hS=function(a){if(!y){D();0==a[1].length&&z(!1);for(var c=0;c<a[1].length;c++){var h=a[1][c][0],v=document.createElement(\"div\");v.innerHTML=h;v.addEventListener(\"mousedown\",function(B){B.preventDefault();return!1},!1);h=h.replace(/<\\/?b>/g,\"\");v.addEventListener(\"click\",function(B){return function(){t=B;A();E();D();g.submit()}}(c),!1);n.appendChild(v);z(!0);r.push(h)}}};}).call(this);})();(function(){\n",
       "function b(a){for(a=a.target||a.srcElement;a&&\"A\"!=a.nodeName;)a=a.parentElement;a&&(a.href||\"\").match(/\\/search.*[?&]tbm=isch/)&&(a.href+=\"&biw=\"+document.documentElement.clientWidth,a.href+=\"&bih=\"+document.documentElement.clientHeight)}document.addEventListener(\"click\",b,!1);document.addEventListener(\"touchStart\",b,!1);}).call(this);</script></div><!-- cctlcm 5 cctlcm --><textarea class=\"csi\" name=\"csi\" style=\"display:none\"></textarea><script nonce=\"xrA4b0edzsj1KgOCRcz10A==\">(function(){var e='3Y5eXoX4KI643AOrwq_gCQ';var sn='web';(function(){\n",
       "function x(a){if(!a||\"none\"==a.style.display)return 0;if(document.defaultView&&document.defaultView.getComputedStyle){var b=document.defaultView.getComputedStyle(a);if(b&&(\"hidden\"==b.visibility||\"0px\"==b.height&&\"0px\"==b.width))return 0}if(!a.getBoundingClientRect)return 1;var c=a.getBoundingClientRect();a=c.left+window.pageXOffset;b=c.top+window.pageYOffset;var f=c.width;c=c.height;var h=0;if(0>=c&&0>=f)return h;0>b+c?h=2:b>=(window.innerHeight||document.documentElement.clientHeight)&&(h=4);if(0>\n",
       "a+f||a>=(window.innerWidth||document.documentElement.clientWidth))h|=8;return h||1};var y=e,z=sn,H=[];function I(a,b,c){a=\"/gen_204?atyp=csi&s=\"+(z||\"web\")+\"&t=\"+a+(\"&lite=1&ei=\"+y+\"&conn=\"+(window.navigator&&window.navigator.connection?window.navigator.connection.type:-1)+b);b=\"&rt=\";for(var f in c)a+=b+f+\".\"+c[f],b=\",\";return a}function J(a){a={prt:a};window.wsrt&&(a.wsrt=window.wsrt);return a}function K(a){window.ping?window.ping(a):(new Image).src=a}\n",
       "(function(){for(var a=(new Date).getTime()-window.start,b=J(a),c=0,f=0,h=0,A=document.getElementsByTagName(\"img\"),n=\"&imn=\"+A.length+\"&biw=\"+window.innerWidth+\"&bih=\"+window.innerHeight,L=function(g,p){g.onload=function(){f=(new Date).getTime()-window.start;p&&++t==h&&(c=f,B());g.onload=null}},B=function(){n+=\"&ima=\"+h;b.aft=c;K(I(\"aft\",n,b))},t=0,M=0,d=void 0;d=A[M++];){var q=x(d),r=1==q;r&&++h;var m=d.hasAttribute(\"data-ilite\"),u=d.hasAttribute(\"data-deferred\")||m,C=d.getAttribute(\"data-src\")||\n",
       "d.getAttribute(\"data-lzysrc\");H.push([q,u,!u&&C,google.ldi&&d.id&&google.ldi[d.id]||m&&C]);m=(q=d.complete&&!u)&&Number(d.getAttribute(\"data-iml\"))||0;q&&m?(r&&++t,m&&(d=m-window.start,r&&(c=Math.max(c,d)),f=Math.max(f,d))):L(d,r)}c||(c=a);f||(f=c);t==h&&B();google.rglh&&google.rglh();window.addEventListener(\"load\",function(){window.setTimeout(function(){b.ol=(new Date).getTime()-window.start;b.iml=f;var g=window.performance&&window.performance.timing;g&&(b.rqst=g.responseEnd-g.requestStart,b.rspt=\n",
       "g.responseEnd-g.responseStart);for(var p=g=0,D=0,E=0,F=0,N=0,k;k=H[N++];){var l=k[0],v=k[1],O=k[2];k=k[3];var P=0==l,w=l&8,G=l&4;l=1==l||2==l||w&&!G;!l||w||v&&!k||++D;v&&(l&&k&&++g,G&&!k&&++p);P||w?O||++F:v||++E}n+=\"&ime=\"+D+(\"&imex=\"+E+\"&imeh=\"+F)+(\"&imea=\"+g+\"&imeb=\"+p);K(I(\"all\",n,b))},0)},!1)})();}).call(this);})();</script><script nonce=\"xrA4b0edzsj1KgOCRcz10A==\">function _setImagesSrc(e,c){function f(b){b.onerror=function(){b.style.display=\"none\"};b.src=c}for(var g=0,a=void 0;a=e[g++];){var d=document.getElementById(a)||document.querySelector('img[data-iid=\"'+a+'\"]');d?f(d):(window.google=window.google||{},google.iir=google.iir||{},google.iir[a]=c)}};</script><script nonce=\"xrA4b0edzsj1KgOCRcz10A==\">(function(){var s='data:image/jpeg;base64,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\\x3d';var i=['dimg_13'];_setImagesSrc(i,s);})();</script><script nonce=\"xrA4b0edzsj1KgOCRcz10A==\">(function(){var e='3Y5eXoX4KI643AOrwq_gCQ';(function(){\n",
       "var a=e,b=window.performance&&window.performance.navigation;b&&2==b.type&&window.ping(\"/gen_204?ct=backbutton&ei=\"+a);}).call(this);})();(function(){\n",
       "var b=[function(){google.tick&&google.tick(\"load\",\"dcl\")}];google.dclc=function(a){b.length?b.push(a):a()};function c(){for(var a;a=b.shift();)a()}window.addEventListener?(document.addEventListener(\"DOMContentLoaded\",c,!1),window.addEventListener(\"load\",c,!1)):window.attachEvent&&window.attachEvent(\"onload\",c);}).call(this);(function(){(function(){google.csct={};google.csct.ps='AOvVaw3f0iCHhwzGX7zzfTHHVzz0\\x26ust\\x3d1583341661712365';})();})();(function(){(function(){google.csct.rd=true;})();})();(function(){window.xp=function(b){function f(k,g,h){return\"xp\"+(\"x\"==g?\"c\":\"x\")+h}for(var c=/\\bxp(x|c)(\\d?)\\b/,a=b;a;){var e=a.className,d=e.match(c);if(d){d=\"c\"==d[1];a.className=e.replace(c,f);b&&b.setAttribute(\"aria-expanded\",d);if(d)for(b=a.getElementsByTagName(\"img\"),c=0;c<b.length;++c)if(a=b[c],e=a.getAttribute(\"data-ll\"))a.src=e,a.removeAttribute(\"data-ll\");break}a=a.parentElement}};})();(function(){(function(){window.logVe=function(a){a&&a.attributes[\"data-ved\"]&&window.ping(\"/gen_204?ved=\"+a.attributes[\"data-ved\"].value)};}).call(this);})();(function(){(function(){var id='tsuid1';var lve=true;(function(){\n",
       "document.getElementById(id).onclick=function(){window.xp(this);lve&&window.logVe(this)};}).call(this);})();})();(function(){window.jsl=window.jsl||{};window.jsl.dh=window.jsl.dh||function(i,c,d){try{var e=document.getElementById(i);if(e){e.innerHTML=c;if(d){d();}}else{if(window.jsl.el){window.jsl.el(new Error('Missing ID.'),{'id':i});}}}catch(e){if(window.jsl.el){window.jsl.el(new Error('jsl.dh'));}}};})();(function(){window.jsl.dh('accdef_2','\\x3cdiv class\\x3d\\x22hwc M56Nqc\\x22\\x3e\\x3cdiv class\\x3d\\x22Z8j5ae\\x22\\x3e\\x3cdiv\\x3e\\x3cdiv class\\x3d\\x22ZINbbc xpd O9g5cc uUPGi\\x22\\x3e\\x3cdiv class\\x3d\\x22kCrYT\\x22\\x3e\\x3cdiv\\x3e\\x3cdiv class\\x3d\\x22BNeawe s3v9rd AP7Wnd\\x22\\x3e\\x3cdiv\\x3e\\x3cdiv class\\x3d\\x22BNeawe s3v9rd AP7Wnd\\x22\\x3eThe ZIP code for the business district of downtown San Jose is \\x3cspan class\\x3d\\x22FCUp0c rQMQod\\x22\\x3e95113\\x3c/span\\x3e, and the residential area is covered by ZIP codes \\x3cspan class\\x3d\\x22FCUp0c rQMQod\\x22\\x3e95110\\x3c/span\\x3e, \\x3cspan class\\x3d\\x22FCUp0c rQMQod\\x22\\x3e95112\\x3c/span\\x3e and \\x3cspan class\\x3d\\x22FCUp0c rQMQod\\x22\\x3e95113\\x3c/span\\x3e.\\x3c/div\\x3e\\x3c/div\\x3e\\x3c/div\\x3e\\x3c/div\\x3e\\x3c/div\\x3e\\x3cdiv class\\x3d\\x22x54gtf\\x22\\x3e\\x3c/div\\x3e\\x3cdiv class\\x3d\\x22kCrYT\\x22\\x3e\\x3ca href\\x3d\\x22/url?q\\x3dhttps://www.mapquest.com/us/california/downtown-san-jose-ca-282014836\\x26amp;sa\\x3dU\\x26amp;ved\\x3d2ahUKEwjF2te75f7nAhUOHHcKHSvhC5wQFnoECAoQAg\\x26amp;usg\\x3dAOvVaw0iQtZmut5x9qEBWh0wpHE3\\x22\\x3e\\x3cspan\\x3e\\x3cdiv class\\x3d\\x22BNeawe vvjwJb AP7Wnd\\x22\\x3eDowntown San Jose, CA - MapQuest\\x3c/div\\x3e\\x3c/span\\x3e\\x3cspan\\x3e\\x3cdiv class\\x3d\\x22BNeawe UPmit AP7Wnd\\x22\\x3ehttps://www.mapquest.com \\x26gt; california \\x26gt; downtown-san-jose-ca-282014836\\x3c/div\\x3e\\x3c/span\\x3e\\x3c/a\\x3e\\x3c/div\\x3e\\x3c/div\\x3e\\x3c/div\\x3e\\x3c/div\\x3e\\x3cdiv\\x3e\\x3cdiv class\\x3d\\x22PDHNXc\\x22\\x3e\\x3cdiv class\\x3d\\x22iU269d TeHtNe\\x22\\x3e\\x3cspan class\\x3d\\x22kXUfPb Vp9uZ\\x22\\x3e\\x3ca class\\x3d\\x22RtoYlb\\x22 href\\x3d\\x22https://www.google.com/search?ie\\x3dUTF-8\\x26amp;ei\\x3d3Y5eXoX4KI643AOrwq_gCQ\\x26amp;q\\x3dWhat+is+the+ZIP+code+for+downtown+San+Jose?\\x26amp;sa\\x3dX\\x26amp;ved\\x3d2ahUKEwjF2te75f7nAhUOHHcKHSvhC5wQzmd6BAgOEAM\\x22\\x3eTov\\xe1bbi tal\\xe1latok\\x3c/a\\x3e\\x3c/span\\x3e\\x3c/div\\x3e\\x3c/div\\x3e\\x3c/div\\x3e\\x3c/div\\x3e');})();(function(){(function(){var id='tsuid4';var lve=true;(function(){\n",
       "document.getElementById(id).onclick=function(){window.xp(this);lve&&window.logVe(this)};}).call(this);})();})();(function(){window.jsl.dh('accdef_5','\\x3cdiv class\\x3d\\x22hwc M56Nqc\\x22\\x3e\\x3cdiv class\\x3d\\x22Z8j5ae\\x22\\x3e\\x3cdiv\\x3e\\x3cdiv class\\x3d\\x22ZINbbc xpd O9g5cc uUPGi\\x22\\x3e\\x3cdiv class\\x3d\\x22kCrYT\\x22\\x3e\\x3cdiv\\x3e\\x3cdiv class\\x3d\\x22BNeawe s3v9rd AP7Wnd\\x22\\x3e\\x3cdiv\\x3e\\x3cdiv class\\x3d\\x22BNeawe s3v9rd AP7Wnd\\x22\\x3eArea codes 408 and 669\\n\\n\\x3cspan class\\x3d\\x22r0bn4c rQMQod\\x22\\x3eSan Jos\\xe9\\x3c/span\\x3e / \\x3cspan class\\x3d\\x22FCUp0c rQMQod\\x22\\x3eK\\xf6rzetsz\\xe1mok\\x3c/span\\x3e\\n\\nSan Jose, California Area Code\\n\\n San Jose, CA is officially utilizing an area code overlay in which \\x3cspan class\\x3d\\x22FCUp0c rQMQod\\x22\\x3earea codes 408 and 669\\x3c/span\\x3e serve the same geographic area. Ten digit dialing (area code + seven digit number) is necessary.\\x3c/div\\x3e\\x3c/div\\x3e\\x3c/div\\x3e\\x3c/div\\x3e\\x3c/div\\x3e\\x3cdiv class\\x3d\\x22x54gtf\\x22\\x3e\\x3c/div\\x3e\\x3cdiv class\\x3d\\x22kCrYT\\x22\\x3e\\x3ca href\\x3d\\x22/url?q\\x3dhttps://www.areacodehelp.com/cacode/san_jose_area_code.shtml\\x26amp;sa\\x3dU\\x26amp;ved\\x3d2ahUKEwjF2te75f7nAhUOHHcKHSvhC5wQFnoECAsQAg\\x26amp;usg\\x3dAOvVaw0GzaCZFm0fCVGqljFb9DuF\\x22\\x3e\\x3cspan\\x3e\\x3cdiv class\\x3d\\x22BNeawe vvjwJb AP7Wnd\\x22\\x3eSan Jose - Area Code Help\\x3c/div\\x3e\\x3c/span\\x3e\\x3cspan\\x3e\\x3cdiv class\\x3d\\x22BNeawe UPmit AP7Wnd\\x22\\x3ehttps://www.areacodehelp.com \\x26gt; cacode \\x26gt; san_jose_area_code\\x3c/div\\x3e\\x3c/span\\x3e\\x3c/a\\x3e\\x3c/div\\x3e\\x3c/div\\x3e\\x3c/div\\x3e\\x3c/div\\x3e\\x3cdiv\\x3e\\x3cdiv class\\x3d\\x22PDHNXc\\x22\\x3e\\x3cdiv class\\x3d\\x22iU269d TeHtNe\\x22\\x3e\\x3cspan class\\x3d\\x22kXUfPb Vp9uZ\\x22\\x3e\\x3ca class\\x3d\\x22RtoYlb\\x22 href\\x3d\\x22https://www.google.com/search?ie\\x3dUTF-8\\x26amp;ei\\x3d3Y5eXoX4KI643AOrwq_gCQ\\x26amp;q\\x3dWhat+area+code+is+San+Jose?\\x26amp;sa\\x3dX\\x26amp;ved\\x3d2ahUKEwjF2te75f7nAhUOHHcKHSvhC5wQzmd6BAgOEAY\\x22\\x3eTov\\xe1bbi tal\\xe1latok\\x3c/a\\x3e\\x3c/span\\x3e\\x3c/div\\x3e\\x3c/div\\x3e\\x3c/div\\x3e\\x3c/div\\x3e');})();(function(){(function(){var id='tsuid7';var lve=true;(function(){\n",
       "document.getElementById(id).onclick=function(){window.xp(this);lve&&window.logVe(this)};}).call(this);})();})();(function(){window.jsl.dh('accdef_8','\\x3cdiv class\\x3d\\x22hwc M56Nqc\\x22\\x3e\\x3cdiv class\\x3d\\x22Z8j5ae\\x22\\x3e\\x3cdiv\\x3e\\x3cdiv class\\x3d\\x22ZINbbc xpd O9g5cc uUPGi\\x22\\x3e\\x3cdiv\\x3e\\x3cdiv class\\x3d\\x22kCrYT\\x22\\x3e\\x3ca href\\x3d\\x22/url?q\\x3dhttp://www.heartandcoeur.com/heart_travel/area/california_408.php\\x26amp;sa\\x3dU\\x26amp;ved\\x3d2ahUKEwjF2te75f7nAhUOHHcKHSvhC5wQFnoECAwQAQ\\x26amp;usg\\x3dAOvVaw0pcPqUKV9kxt0p0HvKWj8A\\x22\\x3e\\x3cspan\\x3e\\x3c/span\\x3e\\x3c/a\\x3e\\x3c/div\\x3e\\x3cdiv class\\x3d\\x22CgE3Ac I9mEQ\\x22\\x3e\\x3ctable class\\x3d\\x22LnMnt\\x22\\x3e\\x3cthead\\x3e\\x3ctr\\x3e\\x3ctd class\\x3d\\x22IxZjcf sjsZvd OE1use\\x22\\x3e\\x3cdiv class\\x3d\\x22hfgVwf\\x22\\x3e\\x3cdiv class\\x3d\\x22BNeawe uEec3 AP7Wnd\\x22\\x3eCITY and (COUNTY)\\x3c/div\\x3e\\x3c/div\\x3e\\x3c/td\\x3e\\x3ctd class\\x3d\\x22IxZjcf sjsZvd OE1use\\x22\\x3e\\x3cdiv class\\x3d\\x22hfgVwf\\x22\\x3e\\x3cdiv class\\x3d\\x22BNeawe uEec3 AP7Wnd\\x22\\x3eZIP CODE\\x3c/div\\x3e\\x3c/div\\x3e\\x3c/td\\x3e\\x3ctd class\\x3d\\x22IxZjcf sjsZvd s5aIid OE1use\\x22\\x3e\\x3cdiv class\\x3d\\x22hfgVwf\\x22\\x3e\\x3cdiv class\\x3d\\x22BNeawe uEec3 AP7Wnd\\x22\\x3eAREA CODE\\x3c/div\\x3e\\x3c/div\\x3e\\x3c/td\\x3e\\x3c/tr\\x3e\\x3c/thead\\x3e\\x3ctbody\\x3e\\x3ctr\\x3e\\x3ctd class\\x3d\\x22sjsZvd OE1use\\x22\\x3e\\x3cdiv class\\x3d\\x22hfgVwf\\x22\\x3e\\x3cdiv class\\x3d\\x22BNeawe s3v9rd AP7Wnd\\x22\\x3eSan Jose - (Santa Clara)\\x3c/div\\x3e\\x3c/div\\x3e\\x3c/td\\x3e\\x3ctd class\\x3d\\x22sjsZvd OE1use\\x22\\x3e\\x3cdiv class\\x3d\\x22hfgVwf\\x22\\x3e\\x3cdiv class\\x3d\\x22BNeawe s3v9rd AP7Wnd\\x22\\x3e95101\\x3c/div\\x3e\\x3c/div\\x3e\\x3c/td\\x3e\\x3ctd class\\x3d\\x22sjsZvd s5aIid OE1use\\x22\\x3e\\x3cdiv class\\x3d\\x22hfgVwf\\x22\\x3e\\x3cdiv class\\x3d\\x22BNeawe s3v9rd AP7Wnd\\x22\\x3e408\\x3c/div\\x3e\\x3c/div\\x3e\\x3c/td\\x3e\\x3c/tr\\x3e\\x3ctr\\x3e\\x3ctd class\\x3d\\x22sjsZvd OE1use\\x22\\x3e\\x3cdiv class\\x3d\\x22hfgVwf\\x22\\x3e\\x3cdiv class\\x3d\\x22BNeawe s3v9rd AP7Wnd\\x22\\x3eSan Jose - (Santa Clara)\\x3c/div\\x3e\\x3c/div\\x3e\\x3c/td\\x3e\\x3ctd class\\x3d\\x22sjsZvd OE1use\\x22\\x3e\\x3cdiv class\\x3d\\x22hfgVwf\\x22\\x3e\\x3cdiv class\\x3d\\x22BNeawe s3v9rd AP7Wnd\\x22\\x3e95102\\x3c/div\\x3e\\x3c/div\\x3e\\x3c/td\\x3e\\x3ctd class\\x3d\\x22sjsZvd s5aIid OE1use\\x22\\x3e\\x3cdiv class\\x3d\\x22hfgVwf\\x22\\x3e\\x3cdiv class\\x3d\\x22BNeawe s3v9rd AP7Wnd\\x22\\x3e408\\x3c/div\\x3e\\x3c/div\\x3e\\x3c/td\\x3e\\x3c/tr\\x3e\\x3ctr\\x3e\\x3ctd class\\x3d\\x22sjsZvd OE1use\\x22\\x3e\\x3cdiv class\\x3d\\x22hfgVwf\\x22\\x3e\\x3cdiv class\\x3d\\x22BNeawe s3v9rd AP7Wnd\\x22\\x3eSan Jose - (Santa Clara)\\x3c/div\\x3e\\x3c/div\\x3e\\x3c/td\\x3e\\x3ctd class\\x3d\\x22sjsZvd OE1use\\x22\\x3e\\x3cdiv class\\x3d\\x22hfgVwf\\x22\\x3e\\x3cdiv class\\x3d\\x22BNeawe s3v9rd AP7Wnd\\x22\\x3e95103\\x3c/div\\x3e\\x3c/div\\x3e\\x3c/td\\x3e\\x3ctd class\\x3d\\x22sjsZvd s5aIid OE1use\\x22\\x3e\\x3cdiv class\\x3d\\x22hfgVwf\\x22\\x3e\\x3cdiv class\\x3d\\x22BNeawe s3v9rd AP7Wnd\\x22\\x3e408\\x3c/div\\x3e\\x3c/div\\x3e\\x3c/td\\x3e\\x3c/tr\\x3e\\x3ctr\\x3e\\x3ctd class\\x3d\\x22sjsZvd OE1use\\x22\\x3e\\x3cdiv class\\x3d\\x22hfgVwf\\x22\\x3e\\x3cdiv class\\x3d\\x22BNeawe s3v9rd AP7Wnd\\x22\\x3eSan Jose - (Santa Clara)\\x3c/div\\x3e\\x3c/div\\x3e\\x3c/td\\x3e\\x3ctd class\\x3d\\x22sjsZvd OE1use\\x22\\x3e\\x3cdiv class\\x3d\\x22hfgVwf\\x22\\x3e\\x3cdiv class\\x3d\\x22BNeawe s3v9rd AP7Wnd\\x22\\x3e95106\\x3c/div\\x3e\\x3c/div\\x3e\\x3c/td\\x3e\\x3ctd class\\x3d\\x22sjsZvd s5aIid OE1use\\x22\\x3e\\x3cdiv class\\x3d\\x22hfgVwf\\x22\\x3e\\x3cdiv class\\x3d\\x22BNeawe s3v9rd AP7Wnd\\x22\\x3e408\\x3c/div\\x3e\\x3c/div\\x3e\\x3c/td\\x3e\\x3c/tr\\x3e\\x3c/tbody\\x3e\\x3c/table\\x3e\\x3c/div\\x3e\\x3cdiv class\\x3d\\x22hwc\\x22\\x3e\\x3cdiv class\\x3d\\x22Q0HXG\\x22\\x3e\\x3c/div\\x3e\\x3cdiv class\\x3d\\x22kCrYT\\x22\\x3e\\x3ca href\\x3d\\x22/url?q\\x3dhttp://www.heartandcoeur.com/heart_travel/area/california_408.php\\x26amp;sa\\x3dU\\x26amp;ved\\x3d2ahUKEwjF2te75f7nAhUOHHcKHSvhC5wQFnoECAwQAg\\x26amp;usg\\x3dAOvVaw1uZ_MjpJipk2sn4OmeUcsJ\\x22\\x3e\\x3cdiv\\x3e\\x3cspan\\x3e\\x3cdiv class\\x3d\\x22BNeawe vvjwJb AP7Wnd\\x22\\x3eAREA CODE - CITY - ZIP CODE - AREA CODE CALIFORNIA 408\\x3c/div\\x3e\\x3c/span\\x3e\\x3cspan\\x3e\\x3cdiv class\\x3d\\x22BNeawe UPmit AP7Wnd\\x22\\x3ewww.heartandcoeur.com \\x26gt; heart_travel \\x26gt; area \\x26gt; california_408\\x3c/div\\x3e\\x3c/span\\x3e\\x3c/div\\x3e\\x3c/a\\x3e\\x3c/div\\x3e\\x3c/div\\x3e\\x3c/div\\x3e\\x3c/div\\x3e\\x3c/div\\x3e\\x3c/div\\x3e\\x3cdiv\\x3e\\x3cdiv class\\x3d\\x22PDHNXc\\x22\\x3e\\x3cdiv class\\x3d\\x22iU269d TeHtNe\\x22\\x3e\\x3cspan class\\x3d\\x22kXUfPb Vp9uZ\\x22\\x3e\\x3ca class\\x3d\\x22RtoYlb\\x22 href\\x3d\\x22https://www.google.com/search?ie\\x3dUTF-8\\x26amp;ei\\x3d3Y5eXoX4KI643AOrwq_gCQ\\x26amp;q\\x3dWhat+is+the+zip+code+for+area+code+408?\\x26amp;sa\\x3dX\\x26amp;ved\\x3d2ahUKEwjF2te75f7nAhUOHHcKHSvhC5wQzmd6BAgOEAk\\x22\\x3eTov\\xe1bbi tal\\xe1latok\\x3c/a\\x3e\\x3c/span\\x3e\\x3c/div\\x3e\\x3c/div\\x3e\\x3c/div\\x3e\\x3c/div\\x3e');})();(function(){(function(){var id='tsuid10';var lve=true;(function(){\n",
       "document.getElementById(id).onclick=function(){window.xp(this);lve&&window.logVe(this)};}).call(this);})();})();(function(){window.jsl.dh('accdef_11','\\x3cdiv class\\x3d\\x22hwc M56Nqc\\x22\\x3e\\x3cdiv class\\x3d\\x22Z8j5ae\\x22\\x3e\\x3cdiv\\x3e\\x3cdiv class\\x3d\\x22ZINbbc xpd O9g5cc uUPGi\\x22\\x3e\\x3cdiv\\x3e\\x3cdiv class\\x3d\\x22kCrYT\\x22\\x3e\\x3ca href\\x3d\\x22/url?q\\x3dhttps://www.geonames.org/postal-codes/US/CA/california.html\\x26amp;sa\\x3dU\\x26amp;ved\\x3d2ahUKEwjF2te75f7nAhUOHHcKHSvhC5wQFnoECA0QAQ\\x26amp;usg\\x3dAOvVaw2iX-RwOfE6RXOEXJ0Sp1Ty\\x22\\x3e\\x3cspan\\x3e\\x3cdiv class\\x3d\\x22BNeawe deIvCb AP7Wnd\\x22\\x3eCalifornia - postal codes\\x3c/div\\x3e\\x3c/span\\x3e\\x3c/a\\x3e\\x3c/div\\x3e\\x3cdiv class\\x3d\\x22CgE3Ac I9mEQ\\x22\\x3e\\x3ctable class\\x3d\\x22LnMnt\\x22\\x3e\\x3cthead\\x3e\\x3ctr\\x3e\\x3ctd class\\x3d\\x22IxZjcf sjsZvd OE1use\\x22\\x3e\\x3cdiv class\\x3d\\x22hfgVwf\\x22\\x3e\\x3c/div\\x3e\\x3c/td\\x3e\\x3ctd class\\x3d\\x22IxZjcf sjsZvd OE1use\\x22\\x3e\\x3cdiv class\\x3d\\x22hfgVwf\\x22\\x3e\\x3cdiv class\\x3d\\x22BNeawe uEec3 AP7Wnd\\x22\\x3ePlace\\x3c/div\\x3e\\x3c/div\\x3e\\x3c/td\\x3e\\x3ctd class\\x3d\\x22IxZjcf sjsZvd s5aIid OE1use\\x22\\x3e\\x3cdiv class\\x3d\\x22hfgVwf\\x22\\x3e\\x3cdiv class\\x3d\\x22BNeawe uEec3 AP7Wnd\\x22\\x3eCode\\x3c/div\\x3e\\x3c/div\\x3e\\x3c/td\\x3e\\x3c/tr\\x3e\\x3c/thead\\x3e\\x3ctbody\\x3e\\x3ctr\\x3e\\x3ctd class\\x3d\\x22sjsZvd OE1use\\x22\\x3e\\x3cdiv class\\x3d\\x22hfgVwf\\x22\\x3e\\x3cdiv class\\x3d\\x22BNeawe s3v9rd AP7Wnd\\x22\\x3e2\\x3c/div\\x3e\\x3c/div\\x3e\\x3c/td\\x3e\\x3ctd class\\x3d\\x22sjsZvd OE1use\\x22\\x3e\\x3cdiv class\\x3d\\x22hfgVwf\\x22\\x3e\\x3cdiv class\\x3d\\x22BNeawe s3v9rd AP7Wnd\\x22\\x3eLos Angeles\\x3c/div\\x3e\\x3c/div\\x3e\\x3c/td\\x3e\\x3ctd class\\x3d\\x22sjsZvd s5aIid OE1use\\x22\\x3e\\x3cdiv class\\x3d\\x22hfgVwf\\x22\\x3e\\x3cdiv class\\x3d\\x22BNeawe s3v9rd AP7Wnd\\x22\\x3e90002\\x3c/div\\x3e\\x3c/div\\x3e\\x3c/td\\x3e\\x3c/tr\\x3e\\x3ctr\\x3e\\x3ctd class\\x3d\\x22sjsZvd OE1use\\x22\\x3e\\x3cdiv class\\x3d\\x22hfgVwf\\x22\\x3e\\x3c/div\\x3e\\x3c/td\\x3e\\x3ctd class\\x3d\\x22sjsZvd OE1use\\x22\\x3e\\x3cdiv class\\x3d\\x22hfgVwf\\x22\\x3e\\x3cdiv class\\x3d\\x22BNeawe s3v9rd AP7Wnd\\x22\\x3e33.95/-118.246\\x3c/div\\x3e\\x3c/div\\x3e\\x3c/td\\x3e\\x3ctd class\\x3d\\x22sjsZvd s5aIid OE1use\\x22\\x3e\\x3cdiv class\\x3d\\x22hfgVwf\\x22\\x3e\\x3c/div\\x3e\\x3c/td\\x3e\\x3c/tr\\x3e\\x3ctr\\x3e\\x3ctd class\\x3d\\x22sjsZvd OE1use\\x22\\x3e\\x3cdiv class\\x3d\\x22hfgVwf\\x22\\x3e\\x3cdiv class\\x3d\\x22BNeawe s3v9rd AP7Wnd\\x22\\x3e3\\x3c/div\\x3e\\x3c/div\\x3e\\x3c/td\\x3e\\x3ctd class\\x3d\\x22sjsZvd OE1use\\x22\\x3e\\x3cdiv class\\x3d\\x22hfgVwf\\x22\\x3e\\x3cdiv class\\x3d\\x22BNeawe s3v9rd AP7Wnd\\x22\\x3eLos Angeles\\x3c/div\\x3e\\x3c/div\\x3e\\x3c/td\\x3e\\x3ctd class\\x3d\\x22sjsZvd s5aIid OE1use\\x22\\x3e\\x3cdiv class\\x3d\\x22hfgVwf\\x22\\x3e\\x3cdiv class\\x3d\\x22BNeawe s3v9rd AP7Wnd\\x22\\x3e90003\\x3c/div\\x3e\\x3c/div\\x3e\\x3c/td\\x3e\\x3c/tr\\x3e\\x3ctr\\x3e\\x3ctd class\\x3d\\x22sjsZvd OE1use\\x22\\x3e\\x3cdiv class\\x3d\\x22hfgVwf\\x22\\x3e\\x3c/div\\x3e\\x3c/td\\x3e\\x3ctd class\\x3d\\x22sjsZvd OE1use\\x22\\x3e\\x3cdiv class\\x3d\\x22hfgVwf\\x22\\x3e\\x3cdiv class\\x3d\\x22BNeawe s3v9rd AP7Wnd\\x22\\x3e33.965/-118.273\\x3c/div\\x3e\\x3c/div\\x3e\\x3c/td\\x3e\\x3ctd class\\x3d\\x22sjsZvd s5aIid OE1use\\x22\\x3e\\x3cdiv class\\x3d\\x22hfgVwf\\x22\\x3e\\x3c/div\\x3e\\x3c/td\\x3e\\x3c/tr\\x3e\\x3c/tbody\\x3e\\x3c/table\\x3e\\x3c/div\\x3e\\x3cdiv class\\x3d\\x22hwc\\x22\\x3e\\x3cdiv class\\x3d\\x22Q0HXG\\x22\\x3e\\x3c/div\\x3e\\x3cdiv class\\x3d\\x22kCrYT\\x22\\x3e\\x3ca href\\x3d\\x22/url?q\\x3dhttps://www.geonames.org/postal-codes/US/CA/california.html\\x26amp;sa\\x3dU\\x26amp;ved\\x3d2ahUKEwjF2te75f7nAhUOHHcKHSvhC5wQFnoECA0QAw\\x26amp;usg\\x3dAOvVaw3Crh9GcWWDEXJq5LLF31Qm\\x22\\x3e\\x3cdiv\\x3e\\x3cspan\\x3e\\x3cdiv class\\x3d\\x22BNeawe vvjwJb AP7Wnd\\x22\\x3eCalifornia - Postal Codes California, United States\\x3c/div\\x3e\\x3c/span\\x3e\\x3cspan\\x3e\\x3cdiv class\\x3d\\x22BNeawe UPmit AP7Wnd\\x22\\x3ehttps://www.geonames.org \\x26gt; postal-codes \\x26gt; california\\x3c/div\\x3e\\x3c/span\\x3e\\x3c/div\\x3e\\x3c/a\\x3e\\x3c/div\\x3e\\x3c/div\\x3e\\x3c/div\\x3e\\x3c/div\\x3e\\x3c/div\\x3e\\x3c/div\\x3e\\x3cdiv\\x3e\\x3cdiv class\\x3d\\x22PDHNXc\\x22\\x3e\\x3cdiv class\\x3d\\x22iU269d TeHtNe\\x22\\x3e\\x3cspan class\\x3d\\x22kXUfPb Vp9uZ\\x22\\x3e\\x3ca class\\x3d\\x22RtoYlb\\x22 href\\x3d\\x22https://www.google.com/search?ie\\x3dUTF-8\\x26amp;ei\\x3d3Y5eXoX4KI643AOrwq_gCQ\\x26amp;q\\x3dWhat+is+the+California+postal+code?\\x26amp;sa\\x3dX\\x26amp;ved\\x3d2ahUKEwjF2te75f7nAhUOHHcKHSvhC5wQzmd6BAgOEAw\\x22\\x3eTov\\xe1bbi tal\\xe1latok\\x3c/a\\x3e\\x3c/span\\x3e\\x3c/div\\x3e\\x3c/div\\x3e\\x3c/div\\x3e\\x3c/div\\x3e');})();google.drty&&google.drty();</script></body></html>"
      ]
     },
     "execution_count": 21,
     "metadata": {},
     "output_type": "execute_result"
    }
   ],
   "source": [
    "### Your code here\n",
    "res_zip = requests.get(\"https://www.google.com/search?q=San+Jose+zip+code\")\n",
    "soup = BeautifulSoup(res_zip.text, 'html.parser')\n",
    "soup"
   ]
  },
  {
   "cell_type": "markdown",
   "metadata": {},
   "source": [
    "### 2 - check yourself"
   ]
  },
  {
   "cell_type": "code",
   "execution_count": 22,
   "metadata": {},
   "outputs": [
    {
     "name": "stdout",
     "output_type": "stream",
     "text": [
      "Your soup object is correct\n"
     ]
    }
   ],
   "source": [
    "if type(soup) == BeautifulSoup and '94089' in soup.text:\n",
    "    print('Your soup object is correct')\n",
    "else:\n",
    "    print('Your soup object is NOT correct')"
   ]
  },
  {
   "cell_type": "markdown",
   "metadata": {},
   "source": [
    "### 3 - exercise\n",
    "Try to find all the div elements of class IAznY in your soup object. How many are there?"
   ]
  },
  {
   "cell_type": "code",
   "execution_count": 23,
   "metadata": {},
   "outputs": [
    {
     "data": {
      "text/plain": [
       "[]"
      ]
     },
     "execution_count": 23,
     "metadata": {},
     "output_type": "execute_result"
    }
   ],
   "source": [
    "### Your code here\n",
    "soup.find_all('div', class_=\"lAznY\")"
   ]
  },
  {
   "cell_type": "markdown",
   "metadata": {},
   "source": [
    "### 3 - check yourself\n",
    "If you haven't found any div of this class you were right."
   ]
  },
  {
   "cell_type": "markdown",
   "metadata": {},
   "source": [
    "### 4 - exercise\n",
    "So it looks like that the scraped HTML code doesn't have the elements you saw in the browser. The reason is that when opening the url in the browser, it uses JavaScript to format the page, but when we scraped it, only the plaine HTML was sent. <br><br>\n",
    "To see the same content in the browser disable JavaScript usage by following this directions:  https://productforums.google.com/forum/#!msg/chrome/BYOQskiuGU0/dO592rlLbJ0J). <br><br>\n",
    "Then open the page again and find using the Inspect tool find the HTML elemnt containg the zip code!"
   ]
  },
  {
   "cell_type": "markdown",
   "metadata": {},
   "source": [
    "### 4 - check yourself\n",
    "\n",
    "The zip codes are under a div of class \"RWuggc kCrYT\" and each zip code is under a div of class \"BNeawe s3v9rd AP7Wnd\""
   ]
  },
  {
   "cell_type": "markdown",
   "metadata": {},
   "source": [
    "### 5 - exercise\n",
    "Try to find all the span elements of class \"RWuggc kCrYT\" in your soup object. How many are there?"
   ]
  },
  {
   "cell_type": "code",
   "execution_count": 26,
   "metadata": {},
   "outputs": [
    {
     "data": {
      "text/plain": [
       "66"
      ]
     },
     "execution_count": 26,
     "metadata": {},
     "output_type": "execute_result"
    }
   ],
   "source": [
    "### Your code here\n",
    "len(soup.find_all('div', class_=\"RWuggc kCrYT\"))"
   ]
  },
  {
   "cell_type": "markdown",
   "metadata": {},
   "source": [
    "### 5 - check yourself\n",
    "You should find 66 elements"
   ]
  },
  {
   "cell_type": "markdown",
   "metadata": {},
   "source": [
    "### 6 - exercise\n",
    "Make a list called zipcode_list that contains the text from all the \"BNeawe s3v9rd AP7Wnd\" div elements inside each \"RWuggc kCrYT\" element you've found in the previous tast!"
   ]
  },
  {
   "cell_type": "code",
   "execution_count": 40,
   "metadata": {},
   "outputs": [],
   "source": [
    "### Your code here\n",
    "zipcode_list = []\n",
    "\n",
    "for i in range(len(soup.find_all(\"div\", class_=\"RWuggc kCrYT\"))):\n",
    "    zipcode_list.append(soup.find_all(\"div\", class_=\"BNeawe s3v9rd AP7Wnd\")[i].text)"
   ]
  },
  {
   "cell_type": "markdown",
   "metadata": {},
   "source": [
    "### 6 - check yourself"
   ]
  },
  {
   "cell_type": "code",
   "execution_count": 41,
   "metadata": {},
   "outputs": [
    {
     "name": "stdout",
     "output_type": "stream",
     "text": [
      "Your list is correct\n"
     ]
    }
   ],
   "source": [
    "if sorted(zipcode_list)[0] == '94088' and len(zipcode_list) == 66:\n",
    "    print('Your list is correct')\n",
    "else:\n",
    "    print('Your list is NOT correct')"
   ]
  },
  {
   "cell_type": "markdown",
   "metadata": {},
   "source": [
    "### 7 - exercise\n",
    "Read in the weather csv into a pandas dataframe called station. <br>\n",
    "Create a dictionary called zipcode_dict which keys are the unique values from the landmark column and the value of each key is an empty list. You print the unique values and create the dictionary by hand or as an advanced task, try to create the dictionary without typing any landmark name!"
   ]
  },
  {
   "cell_type": "code",
   "execution_count": 55,
   "metadata": {},
   "outputs": [],
   "source": [
    "### Your code here\n",
    "import pandas as pd\n",
    "\n",
    "station = pd.read_csv(\"weather.csv\")\n",
    "landmarks = list(station.landmark.unique())\n",
    "zipcode_dict = {}\n",
    "\n",
    "for landmark in landmarks:\n",
    "    zipcode_dict.update({landmark: []})"
   ]
  },
  {
   "cell_type": "markdown",
   "metadata": {},
   "source": [
    "### 7 - check yourself"
   ]
  },
  {
   "cell_type": "code",
   "execution_count": 57,
   "metadata": {},
   "outputs": [
    {
     "name": "stdout",
     "output_type": "stream",
     "text": [
      "Your dictionary is correct\n"
     ]
    }
   ],
   "source": [
    "if sorted(list(zipcode_dict.items())) == [('Mountain View', []),\n",
    "                                         ('Palo Alto', []),\n",
    "                                         ('Redwood City', []),\n",
    "                                         ('San Francisco', []),\n",
    "                                         ('San Jose', [])]:\n",
    "    print('Your dictionary is correct')\n",
    "else:\n",
    "    print('Your dictionary is NOT correct')"
   ]
  },
  {
   "cell_type": "markdown",
   "metadata": {},
   "source": [
    "### 8 - exercise\n",
    "Loop the keys from the zipcode_dict and for each key print the url you would use to search the zip codes of a given city in google by using string formatting. <br>\n",
    "For example if the city is Palo Alto the url should be: <br>\n",
    "https://www.google.com/search?q=Palo Alto zip code"
   ]
  },
  {
   "cell_type": "code",
   "execution_count": 58,
   "metadata": {},
   "outputs": [
    {
     "name": "stdout",
     "output_type": "stream",
     "text": [
      "https://www.google.com/search?q=San Francisco zip code\n",
      "https://www.google.com/search?q=Palo Alto zip code\n",
      "https://www.google.com/search?q=Mountain View zip code\n",
      "https://www.google.com/search?q=San Jose zip code\n",
      "https://www.google.com/search?q=Redwood City zip code\n"
     ]
    }
   ],
   "source": [
    "### Your code here\n",
    "for k in zipcode_dict:\n",
    "    print(\"https://www.google.com/search?q=\" + k + \" zip code\")"
   ]
  },
  {
   "cell_type": "markdown",
   "metadata": {},
   "source": [
    "### 9 - exercise\n",
    "Similarly as before, loop the keys from the zipcode_dict and for each key inside the loop:\n",
    "- Get a response object to the url you would use to search the zip codes of a given city in google. <br>\n",
    "- Make a soup from that resopnse object. <br>\n",
    "- Make a list of all zip codes in the soup object. You can find the zip codes as in Exercise 6<br>\n",
    "- Assign this list as value to the key in the zipcode_dict"
   ]
  },
  {
   "cell_type": "code",
   "execution_count": 69,
   "metadata": {},
   "outputs": [],
   "source": [
    "### Your code here\n",
    "for key in zipcode_dict:\n",
    "    zipcode_list = []\n",
    "    res = requests.get(\"https://www.google.com/search?q=\" + key + \" zip code\")\n",
    "    time.sleep(3)\n",
    "    soup = BeautifulSoup(res.text, 'html.parser')\n",
    "    for i in range(len(soup.find_all(\"div\", class_=\"RWuggc kCrYT\"))):\n",
    "        zipcode_list.append(soup.find_all(\"div\", class_=\"BNeawe s3v9rd AP7Wnd\")[i].text)\n",
    "    zipcode_dict.update({key: zipcode_list})"
   ]
  },
  {
   "cell_type": "code",
   "execution_count": 72,
   "metadata": {},
   "outputs": [
    {
     "data": {
      "text/plain": [
       "[7, 7, 10, 56, 66]"
      ]
     },
     "execution_count": 72,
     "metadata": {},
     "output_type": "execute_result"
    }
   ],
   "source": [
    "sorted([len(x) for x in zipcode_dict.values()])"
   ]
  },
  {
   "cell_type": "markdown",
   "metadata": {},
   "source": [
    "### 9 - check yourslef"
   ]
  },
  {
   "cell_type": "code",
   "execution_count": 80,
   "metadata": {},
   "outputs": [
    {
     "name": "stdout",
     "output_type": "stream",
     "text": [
      "Your dictionary is correct\n"
     ]
    }
   ],
   "source": [
    "if sorted([len(x) for x in zipcode_dict.values()]) == [7, 7, 10, 56, 66]:\n",
    "    print('Your dictionary is correct')\n",
    "else:\n",
    "    print('Your dictionary is NOT correct')"
   ]
  },
  {
   "cell_type": "markdown",
   "metadata": {
    "collapsed": true
   },
   "source": [
    "### 10 - exercise\n",
    "Save the dictionary into a file!"
   ]
  },
  {
   "cell_type": "code",
   "execution_count": 74,
   "metadata": {},
   "outputs": [],
   "source": [
    "### Your code here\n",
    "import csv\n",
    "\n",
    "with open('zipcode_dict.csv', 'w', newline=\"\") as csv_file:  \n",
    "    writer = csv.writer(csv_file)\n",
    "    for key, value in zipcode_dict.items():\n",
    "       writer.writerow([key, value])"
   ]
  },
  {
   "cell_type": "markdown",
   "metadata": {},
   "source": [
    "### 10 - check yourself\n",
    "Read back the dictianry from the file and check if it's the same as the original one"
   ]
  },
  {
   "cell_type": "code",
   "execution_count": 75,
   "metadata": {},
   "outputs": [],
   "source": [
    "### Your code here\n",
    "with open('zipcode_dict.csv') as csv_file:\n",
    "    reader = csv.reader(csv_file)\n",
    "    saved_zipcode_dict = dict(reader)"
   ]
  }
 ],
 "metadata": {
  "kernelspec": {
   "display_name": "Python 3",
   "language": "python",
   "name": "python3"
  },
  "language_info": {
   "codemirror_mode": {
    "name": "ipython",
    "version": 3
   },
   "file_extension": ".py",
   "mimetype": "text/x-python",
   "name": "python",
   "nbconvert_exporter": "python",
   "pygments_lexer": "ipython3",
   "version": "3.7.4"
  }
 },
 "nbformat": 4,
 "nbformat_minor": 2
}
