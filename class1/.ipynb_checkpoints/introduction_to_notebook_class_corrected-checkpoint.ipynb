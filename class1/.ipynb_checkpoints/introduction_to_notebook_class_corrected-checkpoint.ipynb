{
 "cells": [
  {
   "cell_type": "code",
   "execution_count": 1,
   "metadata": {},
   "outputs": [
    {
     "name": "stdout",
     "output_type": "stream",
     "text": [
      "I'm writing in the input field and this will show in the output field\n"
     ]
    }
   ],
   "source": [
    "print(\"I'm writing in the input field and this will show in the output field\")"
   ]
  },
  {
   "cell_type": "code",
   "execution_count": 1,
   "metadata": {},
   "outputs": [
    {
     "name": "stdout",
     "output_type": "stream",
     "text": [
      "The numbers next to the cells show the order in which they ran\n"
     ]
    }
   ],
   "source": [
    "print(\"The numbers next to the cells show the order in which they ran\")"
   ]
  },
  {
   "cell_type": "code",
   "execution_count": 2,
   "metadata": {},
   "outputs": [
    {
     "name": "stdout",
     "output_type": "stream",
     "text": [
      "If there is no number, the cell hasn't run\n"
     ]
    }
   ],
   "source": [
    "print(\"If there is no number, the cell hasn't run\")"
   ]
  },
  {
   "cell_type": "code",
   "execution_count": 3,
   "metadata": {},
   "outputs": [
    {
     "name": "stdout",
     "output_type": "stream",
     "text": [
      "The cells don't have to run...\n"
     ]
    }
   ],
   "source": [
    "print(\"The cells don't have to run...\")"
   ]
  },
  {
   "cell_type": "code",
   "execution_count": 4,
   "metadata": {},
   "outputs": [
    {
     "name": "stdout",
     "output_type": "stream",
     "text": [
      "...In the order they are presented\n"
     ]
    }
   ],
   "source": [
    "print(\"...In the order they are presented\")"
   ]
  },
  {
   "cell_type": "markdown",
   "metadata": {},
   "source": [
    "This is a markdown cell, put titles, notes here"
   ]
  },
  {
   "cell_type": "markdown",
   "metadata": {},
   "source": [
    "### You can use html like formatting here\n",
    "For example <br> line breaks"
   ]
  },
  {
   "cell_type": "code",
   "execution_count": null,
   "metadata": {
    "collapsed": true
   },
   "outputs": [],
   "source": [
    "# Or just comment lines, so they won't be executed"
   ]
  },
  {
   "cell_type": "markdown",
   "metadata": {},
   "source": [
    "# Very big header\n",
    "## Big header\n",
    "### Smaller header\n",
    "#### Etc\n",
    "\n",
    "Make bulletpoints\n",
    "- first point\n",
    "- second point \n",
    "\n",
    "Make numbered bulletpoints\n",
    "1. first point\n",
    "2. second point\n",
    "\n",
    "Show picture\n",
    "<img src=\"pythonlogo.jpeg\" width=\"20%\" height=\"20%\">"
   ]
  },
  {
   "cell_type": "markdown",
   "metadata": {},
   "source": [
    "### Variables \n",
    "##### variables are loaded into memory while the notebook runs. If you stop the notebook, they will be lost"
   ]
  },
  {
   "cell_type": "code",
   "execution_count": null,
   "metadata": {
    "collapsed": true
   },
   "outputs": [],
   "source": [
    "a = 3"
   ]
  },
  {
   "cell_type": "code",
   "execution_count": null,
   "metadata": {
    "collapsed": true
   },
   "outputs": [],
   "source": [
    "a"
   ]
  },
  {
   "cell_type": "code",
   "execution_count": null,
   "metadata": {
    "collapsed": true
   },
   "outputs": [],
   "source": [
    "a = a + 1"
   ]
  },
  {
   "cell_type": "markdown",
   "metadata": {},
   "source": [
    "Read the error messages, especially the last line"
   ]
  },
  {
   "cell_type": "code",
   "execution_count": null,
   "metadata": {
    "collapsed": true
   },
   "outputs": [],
   "source": [
    "b"
   ]
  },
  {
   "cell_type": "markdown",
   "metadata": {},
   "source": [
    "### Printing variables"
   ]
  },
  {
   "cell_type": "code",
   "execution_count": null,
   "metadata": {
    "collapsed": true
   },
   "outputs": [],
   "source": [
    "number_var = 2\n",
    "string_var = \"2\""
   ]
  },
  {
   "cell_type": "code",
   "execution_count": null,
   "metadata": {
    "collapsed": true
   },
   "outputs": [],
   "source": [
    "number_var, string_var"
   ]
  },
  {
   "cell_type": "code",
   "execution_count": null,
   "metadata": {
    "collapsed": true
   },
   "outputs": [],
   "source": [
    "type(number_var), type(string_var)"
   ]
  },
  {
   "cell_type": "code",
   "execution_count": null,
   "metadata": {
    "collapsed": true
   },
   "outputs": [],
   "source": [
    "print(\"The value of the string_var is \" + string_var)"
   ]
  },
  {
   "cell_type": "code",
   "execution_count": null,
   "metadata": {
    "collapsed": true
   },
   "outputs": [],
   "source": [
    "print(\"The value of the number_var is \" + number_var)"
   ]
  },
  {
   "cell_type": "code",
   "execution_count": null,
   "metadata": {
    "collapsed": true
   },
   "outputs": [],
   "source": [
    "number_var_converted_to_string = str(number_var)"
   ]
  },
  {
   "cell_type": "code",
   "execution_count": null,
   "metadata": {
    "collapsed": true
   },
   "outputs": [],
   "source": [
    "number_var_converted_to_string, type(number_var_converted_to_string)"
   ]
  },
  {
   "cell_type": "code",
   "execution_count": null,
   "metadata": {
    "collapsed": true
   },
   "outputs": [],
   "source": [
    "print(\"The value of the number_var is \" + number_var_converted_to_string)"
   ]
  },
  {
   "cell_type": "code",
   "execution_count": null,
   "metadata": {
    "collapsed": true
   },
   "outputs": [],
   "source": [
    "print(\"The value of the number_var is \" + str(number_var))"
   ]
  },
  {
   "cell_type": "code",
   "execution_count": null,
   "metadata": {
    "collapsed": true
   },
   "outputs": [],
   "source": [
    "print(\"The value of the number_var is {}\".format(number_var))"
   ]
  },
  {
   "cell_type": "markdown",
   "metadata": {},
   "source": [
    "#### int vs float"
   ]
  },
  {
   "cell_type": "code",
   "execution_count": null,
   "metadata": {
    "collapsed": true
   },
   "outputs": [],
   "source": [
    "num_var = 3"
   ]
  },
  {
   "cell_type": "code",
   "execution_count": null,
   "metadata": {
    "collapsed": true
   },
   "outputs": [],
   "source": [
    "num_var, type(num_var)"
   ]
  },
  {
   "cell_type": "code",
   "execution_count": null,
   "metadata": {
    "collapsed": true
   },
   "outputs": [],
   "source": [
    "num_var = 3.5"
   ]
  },
  {
   "cell_type": "code",
   "execution_count": null,
   "metadata": {
    "collapsed": true
   },
   "outputs": [],
   "source": [
    "num_var, type(num_var)"
   ]
  },
  {
   "cell_type": "code",
   "execution_count": null,
   "metadata": {
    "collapsed": true
   },
   "outputs": [],
   "source": [
    "int(num_var)"
   ]
  },
  {
   "cell_type": "markdown",
   "metadata": {},
   "source": [
    "#### boolean\n",
    "upper case initials"
   ]
  },
  {
   "cell_type": "code",
   "execution_count": null,
   "metadata": {
    "collapsed": true
   },
   "outputs": [],
   "source": [
    "true_var = True"
   ]
  },
  {
   "cell_type": "code",
   "execution_count": null,
   "metadata": {
    "collapsed": true
   },
   "outputs": [],
   "source": [
    "true_var, type(true_var)"
   ]
  },
  {
   "cell_type": "code",
   "execution_count": null,
   "metadata": {
    "collapsed": true
   },
   "outputs": [],
   "source": [
    "false_var = false"
   ]
  },
  {
   "cell_type": "code",
   "execution_count": null,
   "metadata": {
    "collapsed": true
   },
   "outputs": [],
   "source": [
    "false_var = False"
   ]
  },
  {
   "cell_type": "code",
   "execution_count": null,
   "metadata": {
    "collapsed": true
   },
   "outputs": [],
   "source": [
    "false_var"
   ]
  },
  {
   "cell_type": "code",
   "execution_count": null,
   "metadata": {
    "collapsed": true
   },
   "outputs": [],
   "source": [
    "a = 1 == 1\n",
    "a"
   ]
  },
  {
   "cell_type": "code",
   "execution_count": null,
   "metadata": {
    "collapsed": true
   },
   "outputs": [],
   "source": [
    "b = 1 == 2\n",
    "b"
   ]
  },
  {
   "cell_type": "code",
   "execution_count": null,
   "metadata": {
    "collapsed": true
   },
   "outputs": [],
   "source": [
    "a and b"
   ]
  },
  {
   "cell_type": "code",
   "execution_count": null,
   "metadata": {
    "collapsed": true
   },
   "outputs": [],
   "source": [
    "a or b"
   ]
  },
  {
   "cell_type": "code",
   "execution_count": null,
   "metadata": {
    "collapsed": true
   },
   "outputs": [],
   "source": [
    "not a"
   ]
  },
  {
   "cell_type": "code",
   "execution_count": null,
   "metadata": {
    "collapsed": true
   },
   "outputs": [],
   "source": [
    "not (a and b)"
   ]
  },
  {
   "cell_type": "code",
   "execution_count": null,
   "metadata": {
    "collapsed": true
   },
   "outputs": [],
   "source": [
    "a == 1 and b == 0"
   ]
  },
  {
   "cell_type": "code",
   "execution_count": null,
   "metadata": {
    "collapsed": true
   },
   "outputs": [],
   "source": [
    "a + b"
   ]
  },
  {
   "cell_type": "code",
   "execution_count": null,
   "metadata": {
    "collapsed": true
   },
   "outputs": [],
   "source": [
    "a + a + a"
   ]
  },
  {
   "cell_type": "markdown",
   "metadata": {},
   "source": [
    "### Basic math"
   ]
  },
  {
   "cell_type": "code",
   "execution_count": null,
   "metadata": {
    "collapsed": true
   },
   "outputs": [],
   "source": [
    "1 + 2"
   ]
  },
  {
   "cell_type": "code",
   "execution_count": null,
   "metadata": {
    "collapsed": true
   },
   "outputs": [],
   "source": [
    "a = 1\n",
    "b = 2\n",
    "a + b"
   ]
  },
  {
   "cell_type": "code",
   "execution_count": null,
   "metadata": {
    "collapsed": true
   },
   "outputs": [],
   "source": [
    "c = a + b\n",
    "c"
   ]
  },
  {
   "cell_type": "markdown",
   "metadata": {},
   "source": [
    "#### Re-defining varibales "
   ]
  },
  {
   "cell_type": "code",
   "execution_count": null,
   "metadata": {
    "collapsed": true
   },
   "outputs": [],
   "source": [
    "my_num = 3\n",
    "my_num"
   ]
  },
  {
   "cell_type": "code",
   "execution_count": null,
   "metadata": {
    "collapsed": true
   },
   "outputs": [],
   "source": [
    "my_num *= 4\n",
    "my_num"
   ]
  },
  {
   "cell_type": "code",
   "execution_count": null,
   "metadata": {
    "collapsed": true
   },
   "outputs": [],
   "source": [
    "my_num +=1\n",
    "my_num"
   ]
  },
  {
   "cell_type": "code",
   "execution_count": null,
   "metadata": {
    "collapsed": true
   },
   "outputs": [],
   "source": [
    "my_num //=2\n",
    "my_num"
   ]
  },
  {
   "cell_type": "markdown",
   "metadata": {
    "collapsed": true
   },
   "source": [
    "### Notebook commands:\n",
    "- shif+Enter = run cell\n",
    "- escape a = instert cell above\n",
    "- escape b = insert cell below\n",
    "- escape m = change the cell to markdown cell\n",
    "- dd = deletes the cell\n",
    "- ! before command = execute as bash command"
   ]
  },
  {
   "cell_type": "markdown",
   "metadata": {},
   "source": [
    "### You can also change the value of your variable on the fly \n",
    "\n",
    "x += 1          # add then assign value\n",
    "\n",
    "x -= 1          # subtract then assign value\n",
    "\n",
    "x *= 2          # multiply then assign value\n",
    "\n",
    "x /= 3          # divide then assign value\n",
    "\n",
    "x // = 5        # floor divide then assign value\n",
    "\n",
    "x **= 2         # exponentiate then assign value\n",
    "\n",
    "x %= 3          # return remainder then assign value"
   ]
  },
  {
   "cell_type": "markdown",
   "metadata": {},
   "source": [
    "### 1 - exercise\n",
    "\n",
    "Let's bake some cookies! You have 200 forints and the price of one egg is 30 forints. To make one batch of cookies you need 2 eggs. <br>\n",
    "Create the variables used in the print statement and run the cell."
   ]
  },
  {
   "cell_type": "code",
   "execution_count": 2,
   "metadata": {
    "scrolled": true
   },
   "outputs": [
    {
     "name": "stdout",
     "output_type": "stream",
     "text": [
      "For one batch of cookies 2 eggs are needed. The price of one egg is 30 forint and I have 200 forints\n"
     ]
    }
   ],
   "source": [
    "# Your code here\n",
    "\n",
    "print(\"For one batch of cookies {} eggs are needed. \\\n",
    "The price of one egg is {} forint and I have {} forints\".format(egg_needed,egg_price, my_money))"
   ]
  },
  {
   "cell_type": "markdown",
   "metadata": {},
   "source": [
    "### 1 - check yourself\n",
    "\n",
    "The output of the cell should be: <br>\n",
    "For one batch of cookies 2 eggs are needed. The price of one egg is 30 forint and I have 200 forints"
   ]
  },
  {
   "cell_type": "markdown",
   "metadata": {},
   "source": [
    "### 2 - exercise\n",
    "Create the variables used in the print statements. When defining them use the variables from the previous task. <br>\n",
    "You can only buy integer number of eggs, so make sure that the type of these new variabels are integer! "
   ]
  },
  {
   "cell_type": "code",
   "execution_count": 6,
   "metadata": {},
   "outputs": [
    {
     "name": "stdout",
     "output_type": "stream",
     "text": [
      "I can buy 6 eggs.\n",
      "To make two batches I need 4 eggs, but I'll still have 2 egg remaining\n"
     ]
    }
   ],
   "source": [
    "# Your code here\n",
    "\n",
    "print(\"I can buy {} eggs.\".format(num_eggs))\n",
    "print(\"To make two batches I need {} eggs, but I'll still have {} egg remaining\".format(twice_egg_needed, \n",
    "                                                                                        num_eggs_remaining))"
   ]
  },
  {
   "cell_type": "markdown",
   "metadata": {},
   "source": [
    "### 2 - check yourself\n",
    "The output of the cell should be: <br>\n",
    "I can buy 6 eggs. <br>\n",
    "To make two batches I need 4 eggs, but I'll still have 2 egg remaining"
   ]
  },
  {
   "cell_type": "markdown",
   "metadata": {},
   "source": [
    "### 3 - exercise\n",
    "\n",
    "Answer the question by changing the same variable called egg_num!\n",
    "\n",
    "- I start with 5 eggs.\n",
    "- Then I buy 2 more.\n",
    "- But then I drop 3 accidentally.\n",
    "- So I go to the store and buy 3 times the amount I have after the accident.\n",
    "- Then we divide all the eggs equally with my sister.\n",
    "- How much eggs do I have left if I make as many muffins as I can if 3 eggs are needed for each muffin?"
   ]
  },
  {
   "cell_type": "code",
   "execution_count": 11,
   "metadata": {
    "collapsed": true
   },
   "outputs": [],
   "source": [
    "# Your code here"
   ]
  },
  {
   "cell_type": "markdown",
   "metadata": {},
   "source": [
    "### 3 - check yourself"
   ]
  },
  {
   "cell_type": "code",
   "execution_count": 12,
   "metadata": {},
   "outputs": [
    {
     "name": "stdout",
     "output_type": "stream",
     "text": [
      "Your answer is correct\n"
     ]
    }
   ],
   "source": [
    "if egg_num == 2:\n",
    "    print('Your answer is correct')\n",
    "else:\n",
    "    print('Your anser is NOT correct')"
   ]
  },
  {
   "cell_type": "markdown",
   "metadata": {},
   "source": [
    "### 4 - exercise\n",
    "\n",
    "Guess whether the boolean expressions are True or False and then run the cell below to see if you were right\n",
    "\n",
    "1. `True and True` \n",
    "2. `False and True`\n",
    "3. `1 == 1 and 2 == 1` \n",
    "4. `\"test\" == \"test\"` \n",
    "5. `1 != 1.0`\n",
    "6. `1 == '1'`\n",
    "7. `\"myname\" == \"MyName\"`\n",
    "8. `'one' != 1`\n",
    "9. `1 == 1 or 2 != 1` \n",
    "10. `True and 1 == 1` \n",
    "11. `False and 0 != 0` \n",
    "12. `True or 1 == 1` \n",
    "13. `1 != 0 and 2 == 1` \n",
    "14. `not (True and False)` \n",
    "15. `not (not 'x' == 'x')`\n",
    "16. `not (1 != 10 or 3 == 4)` \n",
    "17. `not (\"python\" == \"python\" and \"MotherOfDragons\" == \"Daenerys\")` \n",
    "18. `1 == 1 and not (\"one\" == 1 or 1 == 0)` \n",
    "19. `\"egg\" == \"bacon\" and not (3 == 4 or 3 == 3)` "
   ]
  },
  {
   "cell_type": "code",
   "execution_count": 14,
   "metadata": {
    "collapsed": true
   },
   "outputs": [],
   "source": [
    "# Assign your guess to these variables\n",
    "\n",
    "myguess_1 = \n",
    "myguess_2 = \n",
    "myguess_3 = \n",
    "myguess_4 = \n",
    "myguess_5 = \n",
    "myguess_6 = \n",
    "myguess_7 = \n",
    "myguess_8 = \n",
    "myguess_9 = \n",
    "myguess_10 = \n",
    "myguess_11 = \n",
    "myguess_12 = \n",
    "myguess_13 = \n",
    "myguess_14 = \n",
    "myguess_15 = \n",
    "myguess_16 = \n",
    "myguess_17 = \n",
    "myguess_18 = \n",
    "myguess_19 = "
   ]
  },
  {
   "cell_type": "markdown",
   "metadata": {},
   "source": [
    "### 4 - Check yourself"
   ]
  },
  {
   "cell_type": "code",
   "execution_count": 15,
   "metadata": {},
   "outputs": [
    {
     "name": "stdout",
     "output_type": "stream",
     "text": [
      "Your guess for statement 1 was  correct\n",
      "Your guess for statement 2 was  correct\n",
      "Your guess for statement 3 was  correct\n",
      "Your guess for statement 4 was  correct\n",
      "Your guess for statement 5 was  correct\n",
      "Your guess for statement 6 was  correct\n",
      "Your guess for statement 7 was  correct\n",
      "Your guess for statement 8 was  correct\n",
      "Your guess for statement 9 was  correct\n",
      "Your guess for statement 10 was  correct\n",
      "Your guess for statement 11 was  correct\n",
      "Your guess for statement 12 was  correct\n",
      "Your guess for statement 13 was  correct\n",
      "Your guess for statement 14 was  correct\n",
      "Your guess for statement 15 was  correct\n",
      "Your guess for statement 16 was  correct\n",
      "Your guess for statement 17 was  correct\n",
      "Your guess for statement 18 was  correct\n",
      "Your guess for statement 19 was  correct\n"
     ]
    }
   ],
   "source": [
    "# Run this cell to see if you were right\n",
    "\n",
    "answer_1 = True and True\n",
    "answer_2 = False and True\n",
    "answer_3 = 1 == 1 and 2 == 1\n",
    "answer_4 = \"test\" == \"test\"\n",
    "answer_5 = 1 != 1.0\n",
    "answer_6 = 1 == '1'\n",
    "answer_7 = \"myname\" == \"MyName\"\n",
    "answer_8 = 'one' != 1\n",
    "answer_9 = 1 == 1 or 2 != 1\n",
    "answer_10 = True and 1 == 1\n",
    "answer_11 = False and 0 != 0\n",
    "answer_12 = True or 1 == 1\n",
    "answer_13 = 1 != 0 and 2 == 1\n",
    "answer_14 = not (True and False)\n",
    "answer_15 = not (not 'x' == 'x')\n",
    "answer_16 = not (1 != 10 or 3 == 4)\n",
    "answer_17 = not (\"python\" == \"python\" and \"MotherOfDragons\" == \"Daenerys\")\n",
    "answer_18 = 1 == 1 and not (\"one\" == 1 or 1 == 0)\n",
    "answer_19 = \"egg\" == \"bacon\" and not (3 == 4 or 3 == 3)\n",
    "\n",
    "for i in range(1,20):\n",
    "    if eval('myguess_' + str(i)) == eval('answer_' + str(i)):\n",
    "        correctness = ''\n",
    "    else:\n",
    "        correctness = 'NOT'\n",
    "        \n",
    "    print('Your guess for statement {} was {} correct'.format(i, correctness))\n",
    "    \n",
    "    "
   ]
  },
  {
   "cell_type": "code",
   "execution_count": null,
   "metadata": {
    "collapsed": true
   },
   "outputs": [],
   "source": []
  }
 ],
 "metadata": {
  "kernelspec": {
   "display_name": "Python 3",
   "language": "python",
   "name": "python3"
  },
  "language_info": {
   "codemirror_mode": {
    "name": "ipython",
    "version": 3
   },
   "file_extension": ".py",
   "mimetype": "text/x-python",
   "name": "python",
   "nbconvert_exporter": "python",
   "pygments_lexer": "ipython3",
   "version": "3.7.4"
  }
 },
 "nbformat": 4,
 "nbformat_minor": 2
}
